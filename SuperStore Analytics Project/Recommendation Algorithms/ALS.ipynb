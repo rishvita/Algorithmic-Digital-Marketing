{
  "nbformat": 4,
  "nbformat_minor": 0,
  "metadata": {
    "colab": {
      "name": "ALS.ipynb",
      "provenance": [],
      "collapsed_sections": [],
      "toc_visible": true
    },
    "kernelspec": {
      "name": "python3",
      "display_name": "Python 3"
    }
  },
  "cells": [
    {
      "cell_type": "code",
      "metadata": {
        "colab": {
          "base_uri": "https://localhost:8080/"
        },
        "id": "yVCeg-fni_l5",
        "outputId": "6143c591-ad29-4785-91ac-ea8a3e2420a1"
      },
      "source": [
        "from google.colab import drive\r\n",
        "drive.mount('/content/gdrive')"
      ],
      "execution_count": null,
      "outputs": [
        {
          "output_type": "stream",
          "text": [
            "Mounted at /content/gdrive\n"
          ],
          "name": "stdout"
        }
      ]
    },
    {
      "cell_type": "code",
      "metadata": {
        "colab": {
          "base_uri": "https://localhost:8080/"
        },
        "id": "-6al9rPblRHc",
        "outputId": "1f537e65-e701-401a-9689-ace2b7b9ff53"
      },
      "source": [
        "%cd gdrive/My Drive/Colab Notebooks"
      ],
      "execution_count": null,
      "outputs": [
        {
          "output_type": "stream",
          "text": [
            "/content/gdrive/My Drive/Colab Notebooks\n"
          ],
          "name": "stdout"
        }
      ]
    },
    {
      "cell_type": "code",
      "metadata": {
        "colab": {
          "base_uri": "https://localhost:8080/"
        },
        "id": "OdLLDYRClyP1",
        "outputId": "321c333f-ac6f-4963-e7a2-c9856a2cf70c"
      },
      "source": [
        "! git clone https://github.com/Microsoft/Recommenders"
      ],
      "execution_count": null,
      "outputs": [
        {
          "output_type": "stream",
          "text": [
            "Cloning into 'Recommenders'...\n",
            "remote: Enumerating objects: 121, done.\u001b[K\n",
            "remote: Counting objects: 100% (121/121), done.\u001b[K\n",
            "remote: Compressing objects: 100% (93/93), done.\u001b[K\n",
            "remote: Total 24400 (delta 62), reused 55 (delta 28), pack-reused 24279\u001b[K\n",
            "Receiving objects: 100% (24400/24400), 196.53 MiB | 14.17 MiB/s, done.\n",
            "Resolving deltas: 100% (15866/15866), done.\n",
            "Checking out files: 100% (358/358), done.\n"
          ],
          "name": "stdout"
        }
      ]
    },
    {
      "cell_type": "code",
      "metadata": {
        "colab": {
          "base_uri": "https://localhost:8080/"
        },
        "id": "qKfAA0kmmtTl",
        "outputId": "1e45691e-bc69-4f03-f880-5b7d1281034e"
      },
      "source": [
        "pip install pyspark"
      ],
      "execution_count": null,
      "outputs": [
        {
          "output_type": "stream",
          "text": [
            "Collecting pyspark\n",
            "\u001b[?25l  Downloading https://files.pythonhosted.org/packages/f0/26/198fc8c0b98580f617cb03cb298c6056587b8f0447e20fa40c5b634ced77/pyspark-3.0.1.tar.gz (204.2MB)\n",
            "\u001b[K     |████████████████████████████████| 204.2MB 63kB/s \n",
            "\u001b[?25hCollecting py4j==0.10.9\n",
            "\u001b[?25l  Downloading https://files.pythonhosted.org/packages/9e/b6/6a4fb90cd235dc8e265a6a2067f2a2c99f0d91787f06aca4bcf7c23f3f80/py4j-0.10.9-py2.py3-none-any.whl (198kB)\n",
            "\u001b[K     |████████████████████████████████| 204kB 40.9MB/s \n",
            "\u001b[?25hBuilding wheels for collected packages: pyspark\n",
            "  Building wheel for pyspark (setup.py) ... \u001b[?25l\u001b[?25hdone\n",
            "  Created wheel for pyspark: filename=pyspark-3.0.1-py2.py3-none-any.whl size=204612243 sha256=332a73e4599671d2bbace46bbe9efdfbd0ba4b5957311d24b91dde74cef11ec2\n",
            "  Stored in directory: /root/.cache/pip/wheels/5e/bd/07/031766ca628adec8435bb40f0bd83bb676ce65ff4007f8e73f\n",
            "Successfully built pyspark\n",
            "Installing collected packages: py4j, pyspark\n",
            "Successfully installed py4j-0.10.9 pyspark-3.0.1\n"
          ],
          "name": "stdout"
        }
      ]
    },
    {
      "cell_type": "code",
      "metadata": {
        "id": "7y8mpuiBnJHw"
      },
      "source": [
        "import os\r\n",
        "os.chdir('/content/gdrive/My Drive/Colab Notebooks/Recommenders')"
      ],
      "execution_count": null,
      "outputs": []
    },
    {
      "cell_type": "code",
      "metadata": {
        "colab": {
          "base_uri": "https://localhost:8080/"
        },
        "id": "i-4yraX7mZZ0",
        "outputId": "f11cfd2b-ebb0-48c8-b0d4-10d1486ca1ed"
      },
      "source": [
        "import sys\r\n",
        "sys.path.append(\"../../\")\r\n",
        "import pyspark\r\n",
        "from pyspark.ml.recommendation import ALS\r\n",
        "import pyspark.sql.functions as F\r\n",
        "from pyspark.sql import SparkSession\r\n",
        "from pyspark.sql.types import StructType, StructField\r\n",
        "from pyspark.sql.types import StringType, FloatType, IntegerType, LongType\r\n",
        "from reco_utils.common.timer import Timer\r\n",
        "from reco_utils.dataset import movielens\r\n",
        "from reco_utils.common.notebook_utils import is_jupyter\r\n",
        "from reco_utils.dataset.spark_splitters import spark_random_split\r\n",
        "from reco_utils.evaluation.spark_evaluation import SparkRatingEvaluation, SparkRankingEvaluation\r\n",
        "from reco_utils.common.spark_utils import start_or_get_spark\r\n",
        "from pyspark.sql.types import IntegerType\r\n",
        "print(\"System version: {}\".format(sys.version))\r\n",
        "print(\"Spark version: {}\".format(pyspark.__version__))"
      ],
      "execution_count": null,
      "outputs": [
        {
          "output_type": "stream",
          "text": [
            "System version: 3.6.9 (default, Oct  8 2020, 12:12:24) \n",
            "[GCC 8.4.0]\n",
            "Spark version: 3.0.1\n"
          ],
          "name": "stdout"
        }
      ]
    },
    {
      "cell_type": "markdown",
      "metadata": {
        "id": "woiG20E8nXKV"
      },
      "source": [
        "Set the default parameters"
      ]
    },
    {
      "cell_type": "code",
      "metadata": {
        "id": "KjEXFibmnawr"
      },
      "source": [
        "# top k items to recommend\r\n",
        "TOP_K = 10\r\n"
      ],
      "execution_count": null,
      "outputs": []
    },
    {
      "cell_type": "markdown",
      "metadata": {
        "id": "yeIoIXuJnqpg"
      },
      "source": [
        "**0. Set up Spark context**"
      ]
    },
    {
      "cell_type": "code",
      "metadata": {
        "id": "tnPL_6Honipf"
      },
      "source": [
        "spark = start_or_get_spark(\"ALS PySpark\", memory=\"16g\")"
      ],
      "execution_count": null,
      "outputs": []
    },
    {
      "cell_type": "markdown",
      "metadata": {
        "id": "_2-yGqfY4ktR"
      },
      "source": [
        "1. Download the dataset"
      ]
    },
    {
      "cell_type": "code",
      "metadata": {
        "colab": {
          "base_uri": "https://localhost:8080/"
        },
        "id": "21e2ERQEB7J7",
        "outputId": "fdd38605-c439-4be4-9273-c3a588129ff0"
      },
      "source": [
        "data=spark.read.format('csv').options(header='true').load('regular.csv')\r\n",
        "df=data.select(\"Customer_ID\",\"ProductID\",\"Rating\",\"Order_Date\")\r\n",
        "df.show()"
      ],
      "execution_count": null,
      "outputs": [
        {
          "output_type": "stream",
          "text": [
            "+-----------+---------+------+----------+\n",
            "|Customer_ID|ProductID|Rating|Order_Date|\n",
            "+-----------+---------+------+----------+\n",
            "|          8|        1|   4.0|2014-01-01|\n",
            "|          9|        1|   4.5|2014-01-01|\n",
            "|         12|        1|   4.0|2014-01-01|\n",
            "|         20|        1|   4.0|2014-01-01|\n",
            "|         24|        1|   4.0|2014-01-01|\n",
            "|         27|        1|   3.5|2014-01-01|\n",
            "|         34|        1|   3.0|2014-01-02|\n",
            "|         37|        1|   3.5|2014-01-02|\n",
            "|         40|        1|   4.0|2014-01-02|\n",
            "|         41|        1|   3.5|2014-01-02|\n",
            "|         44|        1|   5.0|2014-01-02|\n",
            "|         47|        1|   5.0|2014-01-02|\n",
            "|         51|        1|   5.0|2014-01-02|\n",
            "|         55|        1|   5.0|2014-01-02|\n",
            "|         56|        1|   5.0|2014-01-02|\n",
            "|         59|        1|   1.0|2014-01-02|\n",
            "|         63|        1|   3.5|2014-01-02|\n",
            "|         67|        1|   5.0|2014-01-02|\n",
            "|         68|        1|   4.5|2014-01-03|\n",
            "|         75|        1|   4.0|2014-01-03|\n",
            "+-----------+---------+------+----------+\n",
            "only showing top 20 rows\n",
            "\n"
          ],
          "name": "stdout"
        }
      ]
    },
    {
      "cell_type": "markdown",
      "metadata": {
        "id": "8WEike2qE2tw"
      },
      "source": [
        "2. Split the data using the Spark random splitter provided in utilities"
      ]
    },
    {
      "cell_type": "code",
      "metadata": {
        "colab": {
          "base_uri": "https://localhost:8080/"
        },
        "id": "OLIS7MnqDDLS",
        "outputId": "711dc3e5-f18c-4b79-9c7a-e7fa7e004606"
      },
      "source": [
        "train, test = spark_random_split(data, ratio=0.75, seed=123)\r\n",
        "print (\"N train\", train.cache().count())\r\n",
        "print (\"N test\", test.cache().count())"
      ],
      "execution_count": null,
      "outputs": [
        {
          "output_type": "stream",
          "text": [
            "N train 5822\n",
            "N test 2031\n"
          ],
          "name": "stdout"
        }
      ]
    },
    {
      "cell_type": "markdown",
      "metadata": {
        "id": "kNdbe8LlE2xV"
      },
      "source": [
        "3. Train the ALS model on the training data, and get the top-k recommendations for our testing data¶"
      ]
    },
    {
      "cell_type": "code",
      "metadata": {
        "id": "WieWXIOSFCPe"
      },
      "source": [
        "header = {\r\n",
        "    \"userCol\": \"Customer_ID\",\r\n",
        "    \"itemCol\": \"ProductID\",\r\n",
        "    \"ratingCol\": \"Rating\",\r\n",
        "}\r\n",
        "\r\n",
        "\r\n",
        "als = ALS(\r\n",
        "    rank=10,\r\n",
        "    maxIter=15,\r\n",
        "    implicitPrefs=False,\r\n",
        "    regParam=0.05,\r\n",
        "    coldStartStrategy='drop',\r\n",
        "    nonnegative=False,\r\n",
        "    seed=42,\r\n",
        "    **header\r\n",
        ")"
      ],
      "execution_count": null,
      "outputs": []
    },
    {
      "cell_type": "code",
      "metadata": {
        "id": "UByWYji_cx_c"
      },
      "source": [
        "\r\n",
        "train = train.withColumn(\"Customer_ID\", train[\"Customer_ID\"].cast(IntegerType()))\r\n",
        "train = train.withColumn(\"ProductID\", train[\"ProductID\"].cast(IntegerType()))\r\n",
        "train = train.withColumn(\"Rating\", train[\"Rating\"].cast(IntegerType()))"
      ],
      "execution_count": null,
      "outputs": []
    },
    {
      "cell_type": "code",
      "metadata": {
        "colab": {
          "base_uri": "https://localhost:8080/"
        },
        "id": "xUVN92uRFTu2",
        "outputId": "5b2df409-cf35-4262-dc04-299b19fd95f4"
      },
      "source": [
        "with Timer() as train_time:\r\n",
        "    model = als.fit(train)\r\n",
        "\r\n",
        "print(\"Took {} seconds for training.\".format(train_time.interval))"
      ],
      "execution_count": null,
      "outputs": [
        {
          "output_type": "stream",
          "text": [
            "Took 15.512276572000019 seconds for training.\n"
          ],
          "name": "stdout"
        }
      ]
    },
    {
      "cell_type": "code",
      "metadata": {
        "id": "eR3pYunvFZNC",
        "colab": {
          "base_uri": "https://localhost:8080/"
        },
        "outputId": "3ef4d338-0a99-4836-c860-4cfaccba812d"
      },
      "source": [
        "with Timer() as test_time:\r\n",
        "\r\n",
        "    # Get the cross join of all user-item pairs and score them.\r\n",
        "    users = train.select('Customer_ID').distinct()\r\n",
        "    items = train.select('ProductID').distinct()\r\n",
        "    user_item = users.crossJoin(items)\r\n",
        "    dfs_pred = model.transform(user_item)\r\n",
        "\r\n",
        "    # Remove seen items.\r\n",
        "    dfs_pred_exclude_train = dfs_pred.alias(\"pred\").join(\r\n",
        "        train.alias(\"train\"),\r\n",
        "        (dfs_pred['Customer_ID'] == train['Customer_ID']) & (dfs_pred['ProductID'] == train['ProductID']),\r\n",
        "        how='outer'\r\n",
        "    )\r\n",
        "\r\n",
        "    top_all = dfs_pred_exclude_train.filter(dfs_pred_exclude_train[\"train.Rating\"].isNull()) \\\r\n",
        "        .select('pred.' + 'Customer_ID', 'pred.' + 'ProductID', 'pred.' + \"prediction\")\r\n",
        "\r\n",
        "    # In Spark, transformations are lazy evaluation\r\n",
        "    # Use an action to force execute and measure the test time \r\n",
        "    top_all.cache().count()\r\n",
        "\r\n",
        "print(\"Took {} seconds for prediction.\".format(test_time.interval))"
      ],
      "execution_count": null,
      "outputs": [
        {
          "output_type": "stream",
          "text": [
            "Took 37.29452175999995 seconds for prediction.\n"
          ],
          "name": "stdout"
        }
      ]
    },
    {
      "cell_type": "code",
      "metadata": {
        "colab": {
          "base_uri": "https://localhost:8080/"
        },
        "id": "nDvEfkqNerih",
        "outputId": "3bd8c505-9a8a-48c5-9f81-fc1acde22452"
      },
      "source": [
        "top_all.show()"
      ],
      "execution_count": null,
      "outputs": [
        {
          "output_type": "stream",
          "text": [
            "+-----------+---------+----------+\n",
            "|Customer_ID|ProductID|prediction|\n",
            "+-----------+---------+----------+\n",
            "|          2|       80| 3.7612119|\n",
            "|          8|       52| 2.9393995|\n",
            "|         15|       14| 1.7130064|\n",
            "|         15|       26|  2.291733|\n",
            "|         18|       68| 4.3159866|\n",
            "|         18|       95| 3.5058136|\n",
            "|         20|      121| 3.1371145|\n",
            "|         27|       65| 1.7354449|\n",
            "|         28|       16| 2.6154988|\n",
            "|         28|       63| 2.4449253|\n",
            "|         36|       83|0.92783904|\n",
            "|         41|      103| 2.6113977|\n",
            "|         47|       24| 3.2844334|\n",
            "|         47|       32| 4.0610013|\n",
            "|         52|       58| 2.5323274|\n",
            "|         53|      103| 2.9531116|\n",
            "|         56|       26| 4.2257004|\n",
            "|         56|       30| 3.8704646|\n",
            "|         63|       81| 2.1452148|\n",
            "|         64|       48| 1.6869694|\n",
            "+-----------+---------+----------+\n",
            "only showing top 20 rows\n",
            "\n"
          ],
          "name": "stdout"
        }
      ]
    },
    {
      "cell_type": "code",
      "metadata": {
        "id": "NxqAy0w-fM6X"
      },
      "source": [
        "test = test.withColumn(\"Customer_ID\", test[\"Customer_ID\"].cast(IntegerType()))\r\n",
        "test = test.withColumn(\"ProductID\", test[\"ProductID\"].cast(IntegerType()))\r\n",
        "test = test.withColumn(\"Rating\", test[\"Rating\"].cast(IntegerType()))"
      ],
      "execution_count": null,
      "outputs": []
    },
    {
      "cell_type": "code",
      "metadata": {
        "colab": {
          "base_uri": "https://localhost:8080/"
        },
        "id": "GtBd3GfgfHjo",
        "outputId": "b4c4e1bd-4ecc-44c7-8ef1-bc83c9685812"
      },
      "source": [
        "# Generate predicted ratings.\r\n",
        "prediction = model.transform(test)\r\n",
        "prediction.cache().show()"
      ],
      "execution_count": null,
      "outputs": [
        {
          "output_type": "stream",
          "text": [
            "+------+---------------+----------+----------+--------------+-----------+-----------------+-----------+----------------+-----------------+--------------------+-----------+------+--------------+---------+---------------+------------+--------------------+-----------------+--------+--------+------------------+-------------+--------------+------+-------+---------+------------------+------+----------+----------+----------+--------+-------+----------+\n",
            "|Row_ID|       Order_ID|Order_Date| Ship_Date|     Ship_Mode|Customer_ID|    Customer_Name|    Segment|            City|            State|             Country|Postal_Code|Market|        Region|ProductID|       Category|Sub-Category|         ProductName|            Sales|Quantity|Discount|            Profit|Shipping_Cost|Order_Priority|Rating|Recency|Frequency|          Monetary|  Rank|R_Quartile|F_Quartile|M_Quartile|RFMScore|   Type|prediction|\n",
            "+------+---------------+----------+----------+--------------+-----------+-----------------+-----------+----------------+-----------------+--------------------+-----------+------+--------------+---------+---------------+------------+--------------------+-----------------+--------+--------+------------------+-------------+--------------+------+-------+---------+------------------+------+----------+----------+----------+--------+-------+----------+\n",
            "| 15487|ES-2012-1158066|2014-08-09| 10/9/2014|  Second Class|        588|    Dianna Arnett|Home Office|           Tepic|          Nayarit|              Mexico|       null| LATAM|         North|       31|Office Supplies|     Storage|Fellowes Lockers,...|98.38799999999999|       2|     0.1|            -5.472|        23.81|      Critical|     3|     10|       37| 7069.886799999999| 569.0|         3|         4|         4|     344|Regular| 2.6414232|\n",
            "| 29891|  IN-2012-63395|2014-08-10|12/10/2014|Standard Class|       1005|      Seth Vernon|   Consumer|           Hefei|            Anhui|               China|       null|  APAC|    North Asia|       31|Office Supplies|     Storage|Fellowes Lockers,...|          42.2802|       3|    0.17|            7.0902|         2.42|        Medium|     4|      6|        5| 917.9921999999999|2049.0|         4|         2|         2|     422|Regular| 1.0292261|\n",
            "|   807| MX-2012-166968|2014-08-10|15/10/2014|Standard Class|        926|   Stuart Calhoun|   Consumer|           Dhaka|            Dhaka|          Bangladesh|       null|  APAC|  Central Asia|       31|Office Supplies|     Storage|Fellowes Lockers,...|             61.6|       2|     0.0|             22.76|          3.1|        Medium|     3|     26|       29|10725.363440000001| 319.0|         3|         4|         4|     344|Regular| 4.3225775|\n",
            "| 38290| CA-2012-109386|2014-08-11|13/11/2014|  Second Class|       2789|        Ryan Akin|   Consumer|       Fiumicino|            Lazio|               Italy|       null|    EU|         South|       31|Office Supplies|     Storage|Fellowes Lockers,...|           265.86|       7|     0.0|            79.758|         3.79|        Medium|     3|     81|       10|          2213.021|1411.0|         2|         3|         3|     233|Regular| 3.1676555|\n",
            "|  5532| MX-2012-147200|2014-08-11|13/11/2014|Standard Class|       2760|  Laura Armstrong|  Corporate|       Oldenburg|     Lower Saxony|             Germany|       null|    EU|       Central|       31|Office Supplies|     Storage|Fellowes Lockers,...|             62.4|       3|     0.0|             13.08|         4.07|        Medium|     3|     96|        4|           626.325|2309.0|         2|         2|         2|     222|Regular|  1.791703|\n",
            "|   112| MX-2012-121006|2014-08-11|12/11/2014|Standard Class|       2781|     Victor Preis|Home Office|      Courbevoie|    Ile-de-France|              France|       null|    EU|       Central|       31|Office Supplies|     Storage|Fellowes Lockers,...|             46.1|       5|     0.0|              10.1|         4.03|        Medium|     4|     25|       15| 5968.554999999999| 693.0|         3|         3|         4|     334|Regular| 3.2928557|\n",
            "| 13404|ES-2012-4487516|2014-08-08| 12/8/2014|Standard Class|        295|       John Dryer|   Consumer|     Los Angeles|       California|       United States|    90049.0|    US|          West|       31|Office Supplies|     Storage|Fellowes Lockers,...|            50.16|       4|     0.0|              24.0|         4.11|        Medium|     3|     14|        9|          1205.926|1840.0|         3|         3|         2|     332|Regular| 2.8055425|\n",
            "| 43382|   PL-2012-9460|2014-08-08|13/08/2014|Standard Class|        120| Jennifer Braxton|  Corporate|            Lima|      Lima (city)|                Peru|       null| LATAM|         South|       31|Office Supplies|     Storage|Fellowes Lockers,...|            67.98|       1|     0.0|              6.09|         5.81|        Medium|     2|     10|       55|15628.923999999999| 149.0|         3|         4|         4|     344|Regular| 2.0854301|\n",
            "|   157| MX-2012-144862|2014-08-11|14/11/2014|Standard Class|       2354| Natalie Fritzler|   Consumer|           Accra|    Greater Accra|               Ghana|       null|Africa|        Africa|       31|Office Supplies|     Storage|Fellowes Lockers,...|           105.06|       3|     0.0|             36.72|         9.52|        Medium|     4|     12|       83|26906.597079999996|  36.0|         3|         4|         4|     344|Regular| 2.6501904|\n",
            "| 27512|  IN-2012-18546|2014-08-11|13/11/2014|Standard Class|       1362|  Michelle Arnett|Home Office|        Benghazi|         Banghazi|               Libya|       null|Africa|        Africa|       31|Office Supplies|     Storage|Fellowes Lockers,...|         1571.724|       9|     0.1|            87.264|        97.57|        Medium|     3|    142|        3|2032.7959999999998|1454.0|         1|         2|         3|     123|Regular| 1.2576003|\n",
            "|  5533| MX-2012-147200|2014-08-11|13/11/2014|Standard Class|       2889|    Sung Shariari|   Consumer|         Kendari|Sulawesi Tenggara|           Indonesia|       null|  APAC|Southeast Asia|       31|Office Supplies|     Storage|Fellowes Lockers,...|            58.08|       6|     0.0|              3.96|         2.99|        Medium|     4|     12|       22|         2516.0222|1315.0|         3|         4|         3|     343|Regular| 3.0871768|\n",
            "| 39498| CA-2012-114811|2014-08-11| 8/11/2014|      Same Day|       2130|   Kelly Williams|   Consumer|Santiago de Cuba| Santiago de Cuba|                Cuba|       null| LATAM|     Caribbean|       31|Office Supplies|     Storage|Fellowes Lockers,...|            67.15|       5|     0.0|           16.7875|        14.54|        Medium|     3|    134|        6| 563.4970000000001|2367.0|         1|         2|         2|     122|Regular| 2.0951817|\n",
            "| 39940| CA-2012-108259|2014-08-11|15/11/2014|Standard Class|       3238|  Kimberly Carter|  Corporate|        São Luís|         Maranhão|              Brazil|       null| LATAM|         South|       31|Office Supplies|     Storage|Fellowes Lockers,...|             5.04|       1|     0.2|1.6380000000000001|         0.67|           Low|     4|    142|        4|            703.47|2229.0|         1|         2|         2|     122|Regular| 2.4032562|\n",
            "|  4105| MX-2012-113635|2014-08-11| 9/11/2014|   First Class|       2949|     Ben Peterman|  Corporate|Tuxtla Gutiérrez|          Chiapas|              Mexico|       null| LATAM|         North|       31|Office Supplies|     Storage|Fellowes Lockers,...|            16.34|       1|     0.0|               3.1|         2.34|        Medium|     3|     53|        6|          1120.467|1903.0|         2|         2|         2|     222|Regular| 2.0130067|\n",
            "| 14684|IT-2012-2166139|2014-08-11|14/11/2014|Standard Class|       2690|        Ann Chong|  Corporate|     Tasikmalaya|       Jawa Barat|           Indonesia|       null|  APAC|Southeast Asia|       31|Office Supplies|     Storage|Fellowes Lockers,...|            29.58|       1|     0.0|              5.01|         4.64|           Low|     3|    133|        4|           2025.31|1459.0|         1|         2|         3|     123|Regular| 3.1676555|\n",
            "| 12314|ES-2013-2335105|2014-12-06|15/06/2014|   First Class|       3811|        Adam Hart|  Corporate|      Wollongong|  New South Wales|           Australia|       null|  APAC|       Oceania|       85|     Technology| Accessories|Memorex Memory Ca...|            88.11|       6|     0.5|            -26.55|        12.74|          High|     3|     21|       15|        3219.49008|1129.0|         3|         3|         3|     333|Regular|  3.133867|\n",
            "|  8778| MX-2013-108133|2014-12-04|17/04/2014|Standard Class|        877|     Susan Pistek|   Consumer|          Girona|        Catalonia|               Spain|       null|    EU|         South|       85|     Technology| Accessories|Memorex Memory Ca...|              7.5|       1|     0.0|              2.24|         0.31|        Medium|     3|     16|        6|1309.5300000000002|1783.0|         3|         2|         2|     322|Regular| 2.3671682|\n",
            "|  6268| US-2013-158603|2014-12-05|18/05/2014|Standard Class|       1020|      Steven Ward|  Corporate|           Depok|       Jawa Barat|           Indonesia|       null|  APAC|Southeast Asia|       85|     Technology| Accessories|Memorex Memory Ca...|          163.656|       3|     0.4|           -95.484|        16.37|        Medium|     5|     26|       10|          3867.846| 991.0|         3|         3|         3|     333|Regular|  4.100862|\n",
            "| 50913|   IZ-2013-9470|2014-12-04| 12/4/2014|      Same Day|        389|Russell D'Ascenzo|   Consumer|  Ciego de Ávila|   Ciego de Ávila|                Cuba|       null| LATAM|     Caribbean|       85|     Technology| Accessories|Memorex Memory Ca...|           124.41|       1|     0.0|             19.89|         1.87|        Medium|     3|     19|        8|         1210.2465|1837.0|         3|         3|         2|     332|Regular| 2.7999244|\n",
            "| 24137|  IN-2013-69051|2014-12-06|16/06/2014|Standard Class|       2423|       Julie Kriz|Home Office|          Matadi|        Bas-Congo|Democratic Republ...|       null|Africa|        Africa|       85|     Technology| Accessories|Memorex Memory Ca...|           481.68|       2|     0.0|             77.04|         66.7|          High|     2|     21|       20| 4694.663559999999| 862.0|         3|         4|         4|     344|Regular| 2.7875288|\n",
            "+------+---------------+----------+----------+--------------+-----------+-----------------+-----------+----------------+-----------------+--------------------+-----------+------+--------------+---------+---------------+------------+--------------------+-----------------+--------+--------+------------------+-------------+--------------+------+-------+---------+------------------+------+----------+----------+----------+--------+-------+----------+\n",
            "only showing top 20 rows\n",
            "\n"
          ],
          "name": "stdout"
        }
      ]
    },
    {
      "cell_type": "code",
      "metadata": {
        "colab": {
          "base_uri": "https://localhost:8080/"
        },
        "id": "_b1741Qnevir",
        "outputId": "dbb207ec-6b83-4bc0-db1e-37aeb99b6395"
      },
      "source": [
        "rating_eval = SparkRatingEvaluation(test, prediction, col_user=\"Customer_ID\", col_item=\"ProductID\", \r\n",
        "                                    col_rating=\"Rating\", col_prediction=\"prediction\")\r\n",
        "\r\n",
        "print(\"Model:\\tALS rating prediction\",\r\n",
        "      \"RMSE:\\t%f\" % rating_eval.rmse(),\r\n",
        "      \"MAE:\\t%f\" % rating_eval.mae(),\r\n",
        "      \"Explained variance:\\t%f\" % rating_eval.exp_var(),\r\n",
        "      \"R squared:\\t%f\" % rating_eval.rsquared(), sep='\\n')"
      ],
      "execution_count": null,
      "outputs": [
        {
          "output_type": "stream",
          "text": [
            "Model:\tALS rating prediction\n",
            "RMSE:\t1.382080\n",
            "MAE:\t1.105362\n",
            "Explained variance:\t-0.267233\n",
            "R squared:\t-0.779769\n"
          ],
          "name": "stdout"
        }
      ]
    },
    {
      "cell_type": "code",
      "metadata": {
        "id": "DDftItBge3j8"
      },
      "source": [
        ""
      ],
      "execution_count": null,
      "outputs": []
    }
  ]
}