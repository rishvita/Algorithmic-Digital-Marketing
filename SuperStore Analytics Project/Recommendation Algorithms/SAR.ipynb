{
  "nbformat": 4,
  "nbformat_minor": 0,
  "metadata": {
    "colab": {
      "name": "SAR.ipynb",
      "provenance": [],
      "toc_visible": true
    },
    "kernelspec": {
      "name": "python3",
      "display_name": "Python 3"
    }
  },
  "cells": [
    {
      "cell_type": "code",
      "metadata": {
        "colab": {
          "base_uri": "https://localhost:8080/"
        },
        "id": "x4XnkRlYWePD",
        "outputId": "459ac0c5-d0c9-4d05-a615-5b0f83d1eacd"
      },
      "source": [
        " from google.colab import drive\r\n",
        "drive.mount('/content/gdrive')"
      ],
      "execution_count": 1,
      "outputs": [
        {
          "output_type": "stream",
          "text": [
            "Mounted at /content/gdrive\n"
          ],
          "name": "stdout"
        }
      ]
    },
    {
      "cell_type": "code",
      "metadata": {
        "colab": {
          "base_uri": "https://localhost:8080/"
        },
        "id": "cX98lMhmXkvw",
        "outputId": "ee8184b7-a40f-43aa-ed75-eacb22cbc1e5"
      },
      "source": [
        "%cd gdrive/My Drive/ADM_Final_Project"
      ],
      "execution_count": 2,
      "outputs": [
        {
          "output_type": "stream",
          "text": [
            "/content/gdrive/My Drive/ADM_Final_Project\n"
          ],
          "name": "stdout"
        }
      ]
    },
    {
      "cell_type": "code",
      "metadata": {
        "colab": {
          "base_uri": "https://localhost:8080/"
        },
        "id": "zuofRLXuYFPN",
        "outputId": "ac6aa95d-bb7e-46a1-8d13-987937850c43"
      },
      "source": [
        "! git clone https://github.com/Microsoft/Recommenders"
      ],
      "execution_count": 3,
      "outputs": [
        {
          "output_type": "stream",
          "text": [
            "fatal: destination path 'Recommenders' already exists and is not an empty directory.\n"
          ],
          "name": "stdout"
        }
      ]
    },
    {
      "cell_type": "code",
      "metadata": {
        "colab": {
          "base_uri": "https://localhost:8080/",
          "height": 1000
        },
        "id": "hIyaW2ZEYkLR",
        "outputId": "5c444cf7-5a4b-4a91-d135-4c2e82c26cff"
      },
      "source": [
        "!pip install papermill"
      ],
      "execution_count": 4,
      "outputs": [
        {
          "output_type": "stream",
          "text": [
            "Collecting papermill\n",
            "  Downloading https://files.pythonhosted.org/packages/2f/9b/13bc32699675dbb5fa12bc8f046c3a57a4b4f43eb5fe1f1e52034f23bb7f/papermill-2.2.2-py3-none-any.whl\n",
            "Collecting ansiwrap\n",
            "  Downloading https://files.pythonhosted.org/packages/03/50/43e775a63e0d632d9be3b3fa1c9b2cbaf3b7870d203655710a3426f47c26/ansiwrap-0.8.4-py2.py3-none-any.whl\n",
            "Requirement already satisfied: entrypoints in /usr/local/lib/python3.6/dist-packages (from papermill) (0.3)\n",
            "Requirement already satisfied: nbformat in /usr/local/lib/python3.6/dist-packages (from papermill) (5.0.8)\n",
            "Collecting black\n",
            "\u001b[?25l  Downloading https://files.pythonhosted.org/packages/dc/7b/5a6bbe89de849f28d7c109f5ea87b65afa5124ad615f3419e71beb29dc96/black-20.8b1.tar.gz (1.1MB)\n",
            "\u001b[K     |████████████████████████████████| 1.1MB 9.9MB/s \n",
            "\u001b[?25h  Installing build dependencies ... \u001b[?25l\u001b[?25hdone\n",
            "  Getting requirements to build wheel ... \u001b[?25l\u001b[?25hdone\n",
            "    Preparing wheel metadata ... \u001b[?25l\u001b[?25hdone\n",
            "Requirement already satisfied: pyyaml in /usr/local/lib/python3.6/dist-packages (from papermill) (3.13)\n",
            "Requirement already satisfied: tqdm>=4.32.2 in /usr/local/lib/python3.6/dist-packages (from papermill) (4.41.1)\n",
            "Requirement already satisfied: requests in /usr/local/lib/python3.6/dist-packages (from papermill) (2.23.0)\n",
            "Requirement already satisfied: nbclient>=0.2.0 in /usr/local/lib/python3.6/dist-packages (from papermill) (0.5.1)\n",
            "Requirement already satisfied: click in /usr/local/lib/python3.6/dist-packages (from papermill) (7.1.2)\n",
            "Collecting tenacity\n",
            "  Downloading https://files.pythonhosted.org/packages/4e/e4/bcaf6978c0811fbb480acc9bd6e024b53390a61d153fa0be4f20a6c80d94/tenacity-6.3.1-py2.py3-none-any.whl\n",
            "Collecting textwrap3>=0.9.2\n",
            "  Downloading https://files.pythonhosted.org/packages/77/9c/a53e561d496ee5866bbeea4d3a850b3b545ed854f8a21007c1e0d872e94d/textwrap3-0.9.2-py2.py3-none-any.whl\n",
            "Requirement already satisfied: traitlets>=4.1 in /usr/local/lib/python3.6/dist-packages (from nbformat->papermill) (4.3.3)\n",
            "Requirement already satisfied: jsonschema!=2.5.0,>=2.4 in /usr/local/lib/python3.6/dist-packages (from nbformat->papermill) (2.6.0)\n",
            "Requirement already satisfied: ipython-genutils in /usr/local/lib/python3.6/dist-packages (from nbformat->papermill) (0.2.0)\n",
            "Requirement already satisfied: jupyter-core in /usr/local/lib/python3.6/dist-packages (from nbformat->papermill) (4.7.0)\n",
            "Collecting typed-ast>=1.4.0\n",
            "\u001b[?25l  Downloading https://files.pythonhosted.org/packages/90/ed/5459080d95eb87a02fe860d447197be63b6e2b5e9ff73c2b0a85622994f4/typed_ast-1.4.1-cp36-cp36m-manylinux1_x86_64.whl (737kB)\n",
            "\u001b[K     |████████████████████████████████| 747kB 49.7MB/s \n",
            "\u001b[?25hRequirement already satisfied: typing-extensions>=3.7.4 in /usr/local/lib/python3.6/dist-packages (from black->papermill) (3.7.4.3)\n",
            "Collecting appdirs\n",
            "  Downloading https://files.pythonhosted.org/packages/3b/00/2344469e2084fb287c2e0b57b72910309874c3245463acd6cf5e3db69324/appdirs-1.4.4-py2.py3-none-any.whl\n",
            "Collecting pathspec<1,>=0.6\n",
            "  Downloading https://files.pythonhosted.org/packages/29/29/a465741a3d97ea3c17d21eaad4c64205428bde56742360876c4391f930d4/pathspec-0.8.1-py2.py3-none-any.whl\n",
            "Requirement already satisfied: toml>=0.10.1 in /usr/local/lib/python3.6/dist-packages (from black->papermill) (0.10.2)\n",
            "Collecting regex>=2020.1.8\n",
            "\u001b[?25l  Downloading https://files.pythonhosted.org/packages/0d/8a/3ac62dadb767ace65a5b954265de4031a99b27148fe14b24771f5c2c2dca/regex-2020.11.13-cp36-cp36m-manylinux2014_x86_64.whl (723kB)\n",
            "\u001b[K     |████████████████████████████████| 727kB 42.8MB/s \n",
            "\u001b[?25hRequirement already satisfied: dataclasses>=0.6; python_version < \"3.7\" in /usr/local/lib/python3.6/dist-packages (from black->papermill) (0.8)\n",
            "Collecting mypy-extensions>=0.4.3\n",
            "  Downloading https://files.pythonhosted.org/packages/5c/eb/975c7c080f3223a5cdaff09612f3a5221e4ba534f7039db34c35d95fa6a5/mypy_extensions-0.4.3-py2.py3-none-any.whl\n",
            "Requirement already satisfied: certifi>=2017.4.17 in /usr/local/lib/python3.6/dist-packages (from requests->papermill) (2020.12.5)\n",
            "Requirement already satisfied: idna<3,>=2.5 in /usr/local/lib/python3.6/dist-packages (from requests->papermill) (2.10)\n",
            "Requirement already satisfied: urllib3!=1.25.0,!=1.25.1,<1.26,>=1.21.1 in /usr/local/lib/python3.6/dist-packages (from requests->papermill) (1.24.3)\n",
            "Requirement already satisfied: chardet<4,>=3.0.2 in /usr/local/lib/python3.6/dist-packages (from requests->papermill) (3.0.4)\n",
            "Requirement already satisfied: nest-asyncio in /usr/local/lib/python3.6/dist-packages (from nbclient>=0.2.0->papermill) (1.4.3)\n",
            "Collecting jupyter-client>=6.1.5\n",
            "\u001b[?25l  Downloading https://files.pythonhosted.org/packages/dc/41/9fa443d5ae8907dd8f7d12146cb0092dc053afd67b5b57e7e8786a328547/jupyter_client-6.1.7-py3-none-any.whl (108kB)\n",
            "\u001b[K     |████████████████████████████████| 112kB 50.4MB/s \n",
            "\u001b[?25hRequirement already satisfied: async-generator in /usr/local/lib/python3.6/dist-packages (from nbclient>=0.2.0->papermill) (1.10)\n",
            "Requirement already satisfied: six>=1.9.0 in /usr/local/lib/python3.6/dist-packages (from tenacity->papermill) (1.15.0)\n",
            "Requirement already satisfied: decorator in /usr/local/lib/python3.6/dist-packages (from traitlets>=4.1->nbformat->papermill) (4.4.2)\n",
            "Requirement already satisfied: pyzmq>=13 in /usr/local/lib/python3.6/dist-packages (from jupyter-client>=6.1.5->nbclient>=0.2.0->papermill) (20.0.0)\n",
            "Requirement already satisfied: tornado>=4.1 in /usr/local/lib/python3.6/dist-packages (from jupyter-client>=6.1.5->nbclient>=0.2.0->papermill) (5.1.1)\n",
            "Requirement already satisfied: python-dateutil>=2.1 in /usr/local/lib/python3.6/dist-packages (from jupyter-client>=6.1.5->nbclient>=0.2.0->papermill) (2.8.1)\n",
            "Building wheels for collected packages: black\n",
            "  Building wheel for black (PEP 517) ... \u001b[?25l\u001b[?25hdone\n",
            "  Created wheel for black: filename=black-20.8b1-cp36-none-any.whl size=124185 sha256=3243d944179bce4664344e72eaccc2e7c99d69c33dc39871bb753aacf73c12e7\n",
            "  Stored in directory: /root/.cache/pip/wheels/6e/10/b5/edf7359c2edd0305cce7e3f96e07daf7ce55dceac9d3ce3373\n",
            "Successfully built black\n",
            "Installing collected packages: textwrap3, ansiwrap, typed-ast, appdirs, pathspec, regex, mypy-extensions, black, tenacity, papermill, jupyter-client\n",
            "  Found existing installation: regex 2019.12.20\n",
            "    Uninstalling regex-2019.12.20:\n",
            "      Successfully uninstalled regex-2019.12.20\n",
            "  Found existing installation: jupyter-client 5.3.5\n",
            "    Uninstalling jupyter-client-5.3.5:\n",
            "      Successfully uninstalled jupyter-client-5.3.5\n",
            "Successfully installed ansiwrap-0.8.4 appdirs-1.4.4 black-20.8b1 jupyter-client-6.1.7 mypy-extensions-0.4.3 papermill-2.2.2 pathspec-0.8.1 regex-2020.11.13 tenacity-6.3.1 textwrap3-0.9.2 typed-ast-1.4.1\n"
          ],
          "name": "stdout"
        },
        {
          "output_type": "display_data",
          "data": {
            "application/vnd.colab-display-data+json": {
              "pip_warning": {
                "packages": [
                  "jupyter_client"
                ]
              }
            }
          },
          "metadata": {
            "tags": []
          }
        }
      ]
    },
    {
      "cell_type": "code",
      "metadata": {
        "id": "ejBf08fYYsXk"
      },
      "source": [
        "import os\r\n",
        "os.chdir('/content/gdrive/My Drive/ADM_Final_Project/Recommenders')"
      ],
      "execution_count": 5,
      "outputs": []
    },
    {
      "cell_type": "code",
      "metadata": {
        "colab": {
          "base_uri": "https://localhost:8080/"
        },
        "id": "vi-Tdyc5Y4e0",
        "outputId": "c945aea3-1a98-4826-9072-f3bd612bbb78"
      },
      "source": [
        "%load_ext autoreload\r\n",
        "%autoreload 2\r\n",
        "\r\n",
        "# set the environment path to find Recommenders\r\n",
        "import sys\r\n",
        "sys.path.append(\"../../\")\r\n",
        "\r\n",
        "import logging\r\n",
        "import numpy as np\r\n",
        "import pandas as pd\r\n",
        "import papermill as pm\r\n",
        "from sklearn.preprocessing import minmax_scale\r\n",
        "import datetime as dt\r\n",
        "\r\n",
        "from reco_utils.common.python_utils import binarize\r\n",
        "from reco_utils.common.timer import Timer\r\n",
        "from reco_utils.dataset import movielens\r\n",
        "from reco_utils.dataset.python_splitters import python_stratified_split\r\n",
        "from reco_utils.evaluation.python_evaluation import (\r\n",
        "    map_at_k,\r\n",
        "    ndcg_at_k,\r\n",
        "    precision_at_k,\r\n",
        "    recall_at_k,\r\n",
        "    rmse,\r\n",
        "    mae,\r\n",
        "    logloss,\r\n",
        "    rsquared,\r\n",
        "    exp_var\r\n",
        ")\r\n",
        "from reco_utils.recommender.sar import SAR\r\n",
        "\r\n",
        "print(\"System version: {}\".format(sys.version))\r\n",
        "print(\"Pandas version: {}\".format(pd.__version__))"
      ],
      "execution_count": 6,
      "outputs": [
        {
          "output_type": "stream",
          "text": [
            "System version: 3.6.9 (default, Oct  8 2020, 12:12:24) \n",
            "[GCC 8.4.0]\n",
            "Pandas version: 1.1.5\n"
          ],
          "name": "stdout"
        }
      ]
    },
    {
      "cell_type": "markdown",
      "metadata": {
        "id": "P_4vctfrZHvw"
      },
      "source": [
        "# 1. Load Data"
      ]
    },
    {
      "cell_type": "code",
      "metadata": {
        "id": "YQ_O22U4Y8o2"
      },
      "source": [
        "# top k items to recommend\r\n",
        "TOP_K = 10\r\n",
        "\r\n",
        "# Select MovieLens data size: 100k, 1m, 10m, or 20m\r\n",
        "SuperStore_dataSize = '100k'\r\n"
      ],
      "execution_count": 19,
      "outputs": []
    },
    {
      "cell_type": "code",
      "metadata": {
        "colab": {
          "base_uri": "https://localhost:8080/",
          "height": 390
        },
        "id": "FU18whxlZlFx",
        "outputId": "1988e411-ba25-46f0-d7c1-a7faa06181b1"
      },
      "source": [
        " data = pd.read_csv('/content/gdrive/My Drive/ADM_Final_Project/reg_lost.csv',sep=',')\r\n",
        "\r\n",
        "# Convert the float precision to 32-bit in order to reduce memory consumption \r\n",
        "#data['Review'] = data['Review'].astype(np.float32)\r\n",
        "#data['Customer_ID'] = data['Review'].astype(int)\r\n",
        "data['Order_Date'] = pd.to_datetime(data['Order_Date'])\r\n",
        "data['Timestamp'] =(data['Order_Date'] - dt.datetime(1970,1,1)).dt.total_seconds()\r\n",
        "\r\n",
        "data.head()"
      ],
      "execution_count": 7,
      "outputs": [
        {
          "output_type": "execute_result",
          "data": {
            "text/html": [
              "<div>\n",
              "<style scoped>\n",
              "    .dataframe tbody tr th:only-of-type {\n",
              "        vertical-align: middle;\n",
              "    }\n",
              "\n",
              "    .dataframe tbody tr th {\n",
              "        vertical-align: top;\n",
              "    }\n",
              "\n",
              "    .dataframe thead th {\n",
              "        text-align: right;\n",
              "    }\n",
              "</style>\n",
              "<table border=\"1\" class=\"dataframe\">\n",
              "  <thead>\n",
              "    <tr style=\"text-align: right;\">\n",
              "      <th></th>\n",
              "      <th>Row_ID</th>\n",
              "      <th>Order_ID</th>\n",
              "      <th>Order_Date</th>\n",
              "      <th>Ship_Date</th>\n",
              "      <th>Ship_Mode</th>\n",
              "      <th>Customer_ID</th>\n",
              "      <th>Customer_Name</th>\n",
              "      <th>Segment</th>\n",
              "      <th>City</th>\n",
              "      <th>State</th>\n",
              "      <th>Country</th>\n",
              "      <th>Postal_Code</th>\n",
              "      <th>Market</th>\n",
              "      <th>Region</th>\n",
              "      <th>ProductID</th>\n",
              "      <th>Category</th>\n",
              "      <th>Sub-Category</th>\n",
              "      <th>ProductName</th>\n",
              "      <th>Sales</th>\n",
              "      <th>Quantity</th>\n",
              "      <th>Discount</th>\n",
              "      <th>Profit</th>\n",
              "      <th>Shipping_Cost</th>\n",
              "      <th>Order_Priority</th>\n",
              "      <th>Rating</th>\n",
              "      <th>Recency</th>\n",
              "      <th>Frequency</th>\n",
              "      <th>Monetary</th>\n",
              "      <th>Rank</th>\n",
              "      <th>R_Quartile</th>\n",
              "      <th>F_Quartile</th>\n",
              "      <th>M_Quartile</th>\n",
              "      <th>RFMScore</th>\n",
              "      <th>Type</th>\n",
              "      <th>Timestamp</th>\n",
              "    </tr>\n",
              "  </thead>\n",
              "  <tbody>\n",
              "    <tr>\n",
              "      <th>0</th>\n",
              "      <td>42433</td>\n",
              "      <td>AG-2011-2040</td>\n",
              "      <td>2014-01-01</td>\n",
              "      <td>6/1/2014</td>\n",
              "      <td>Standard Class</td>\n",
              "      <td>8</td>\n",
              "      <td>Toby Braunhardt</td>\n",
              "      <td>Consumer</td>\n",
              "      <td>Constantine</td>\n",
              "      <td>Constantine</td>\n",
              "      <td>Algeria</td>\n",
              "      <td>NaN</td>\n",
              "      <td>Africa</td>\n",
              "      <td>Africa</td>\n",
              "      <td>1</td>\n",
              "      <td>Office Supplies</td>\n",
              "      <td>Storage</td>\n",
              "      <td>Tenex Lockers, Blue</td>\n",
              "      <td>408.300</td>\n",
              "      <td>2</td>\n",
              "      <td>0.0</td>\n",
              "      <td>106.140</td>\n",
              "      <td>35.46</td>\n",
              "      <td>Medium</td>\n",
              "      <td>4.0</td>\n",
              "      <td>109</td>\n",
              "      <td>8</td>\n",
              "      <td>935.77550</td>\n",
              "      <td>2032.0</td>\n",
              "      <td>1</td>\n",
              "      <td>3</td>\n",
              "      <td>2</td>\n",
              "      <td>132</td>\n",
              "      <td>Regular</td>\n",
              "      <td>1.388534e+09</td>\n",
              "    </tr>\n",
              "    <tr>\n",
              "      <th>1</th>\n",
              "      <td>22253</td>\n",
              "      <td>IN-2011-47883</td>\n",
              "      <td>2014-01-01</td>\n",
              "      <td>8/1/2014</td>\n",
              "      <td>Standard Class</td>\n",
              "      <td>9</td>\n",
              "      <td>Joseph Holt</td>\n",
              "      <td>Consumer</td>\n",
              "      <td>Wagga Wagga</td>\n",
              "      <td>New South Wales</td>\n",
              "      <td>Australia</td>\n",
              "      <td>NaN</td>\n",
              "      <td>APAC</td>\n",
              "      <td>Oceania</td>\n",
              "      <td>1</td>\n",
              "      <td>Office Supplies</td>\n",
              "      <td>Storage</td>\n",
              "      <td>Tenex Lockers, Blue</td>\n",
              "      <td>120.366</td>\n",
              "      <td>3</td>\n",
              "      <td>0.1</td>\n",
              "      <td>36.036</td>\n",
              "      <td>9.72</td>\n",
              "      <td>Medium</td>\n",
              "      <td>4.5</td>\n",
              "      <td>98</td>\n",
              "      <td>3</td>\n",
              "      <td>674.94600</td>\n",
              "      <td>2254.0</td>\n",
              "      <td>1</td>\n",
              "      <td>2</td>\n",
              "      <td>2</td>\n",
              "      <td>122</td>\n",
              "      <td>Regular</td>\n",
              "      <td>1.388534e+09</td>\n",
              "    </tr>\n",
              "    <tr>\n",
              "      <th>2</th>\n",
              "      <td>48883</td>\n",
              "      <td>HU-2011-1220</td>\n",
              "      <td>2014-01-01</td>\n",
              "      <td>5/1/2014</td>\n",
              "      <td>Second Class</td>\n",
              "      <td>12</td>\n",
              "      <td>Annie Thurman</td>\n",
              "      <td>Consumer</td>\n",
              "      <td>Budapest</td>\n",
              "      <td>Budapest</td>\n",
              "      <td>Hungary</td>\n",
              "      <td>NaN</td>\n",
              "      <td>EMEA</td>\n",
              "      <td>EMEA</td>\n",
              "      <td>1</td>\n",
              "      <td>Office Supplies</td>\n",
              "      <td>Storage</td>\n",
              "      <td>Tenex Lockers, Blue</td>\n",
              "      <td>66.120</td>\n",
              "      <td>4</td>\n",
              "      <td>0.0</td>\n",
              "      <td>29.640</td>\n",
              "      <td>8.17</td>\n",
              "      <td>High</td>\n",
              "      <td>4.0</td>\n",
              "      <td>15</td>\n",
              "      <td>44</td>\n",
              "      <td>9386.25960</td>\n",
              "      <td>383.0</td>\n",
              "      <td>3</td>\n",
              "      <td>4</td>\n",
              "      <td>4</td>\n",
              "      <td>344</td>\n",
              "      <td>Regular</td>\n",
              "      <td>1.388534e+09</td>\n",
              "    </tr>\n",
              "    <tr>\n",
              "      <th>3</th>\n",
              "      <td>11731</td>\n",
              "      <td>IT-2011-3647632</td>\n",
              "      <td>2014-01-01</td>\n",
              "      <td>5/1/2014</td>\n",
              "      <td>Second Class</td>\n",
              "      <td>20</td>\n",
              "      <td>Eugene Moren</td>\n",
              "      <td>Home Office</td>\n",
              "      <td>Stockholm</td>\n",
              "      <td>Stockholm</td>\n",
              "      <td>Sweden</td>\n",
              "      <td>NaN</td>\n",
              "      <td>EU</td>\n",
              "      <td>North</td>\n",
              "      <td>1</td>\n",
              "      <td>Office Supplies</td>\n",
              "      <td>Storage</td>\n",
              "      <td>Tenex Lockers, Blue</td>\n",
              "      <td>44.865</td>\n",
              "      <td>3</td>\n",
              "      <td>0.5</td>\n",
              "      <td>-26.055</td>\n",
              "      <td>4.82</td>\n",
              "      <td>High</td>\n",
              "      <td>4.0</td>\n",
              "      <td>2</td>\n",
              "      <td>13</td>\n",
              "      <td>1783.23420</td>\n",
              "      <td>1553.0</td>\n",
              "      <td>4</td>\n",
              "      <td>3</td>\n",
              "      <td>3</td>\n",
              "      <td>433</td>\n",
              "      <td>Regular</td>\n",
              "      <td>1.388534e+09</td>\n",
              "    </tr>\n",
              "    <tr>\n",
              "      <th>4</th>\n",
              "      <td>22255</td>\n",
              "      <td>IN-2011-47883</td>\n",
              "      <td>2014-01-01</td>\n",
              "      <td>8/1/2014</td>\n",
              "      <td>Standard Class</td>\n",
              "      <td>24</td>\n",
              "      <td>Patrick O'Donnell</td>\n",
              "      <td>Consumer</td>\n",
              "      <td>Dhaka</td>\n",
              "      <td>Dhaka</td>\n",
              "      <td>Bangladesh</td>\n",
              "      <td>NaN</td>\n",
              "      <td>APAC</td>\n",
              "      <td>Central Asia</td>\n",
              "      <td>1</td>\n",
              "      <td>Office Supplies</td>\n",
              "      <td>Storage</td>\n",
              "      <td>Tenex Lockers, Blue</td>\n",
              "      <td>113.670</td>\n",
              "      <td>5</td>\n",
              "      <td>0.1</td>\n",
              "      <td>37.770</td>\n",
              "      <td>4.70</td>\n",
              "      <td>Medium</td>\n",
              "      <td>4.0</td>\n",
              "      <td>13</td>\n",
              "      <td>65</td>\n",
              "      <td>12592.59918</td>\n",
              "      <td>234.0</td>\n",
              "      <td>3</td>\n",
              "      <td>4</td>\n",
              "      <td>4</td>\n",
              "      <td>344</td>\n",
              "      <td>Regular</td>\n",
              "      <td>1.388534e+09</td>\n",
              "    </tr>\n",
              "  </tbody>\n",
              "</table>\n",
              "</div>"
            ],
            "text/plain": [
              "   Row_ID         Order_ID Order_Date  ... RFMScore     Type     Timestamp\n",
              "0   42433     AG-2011-2040 2014-01-01  ...      132  Regular  1.388534e+09\n",
              "1   22253    IN-2011-47883 2014-01-01  ...      122  Regular  1.388534e+09\n",
              "2   48883     HU-2011-1220 2014-01-01  ...      344  Regular  1.388534e+09\n",
              "3   11731  IT-2011-3647632 2014-01-01  ...      433  Regular  1.388534e+09\n",
              "4   22255    IN-2011-47883 2014-01-01  ...      344  Regular  1.388534e+09\n",
              "\n",
              "[5 rows x 35 columns]"
            ]
          },
          "metadata": {
            "tags": []
          },
          "execution_count": 7
        }
      ]
    },
    {
      "cell_type": "code",
      "metadata": {
        "colab": {
          "base_uri": "https://localhost:8080/"
        },
        "id": "Atvmjn7hdPtz",
        "outputId": "26668814-7a4c-4080-9321-aa279a33dd9a"
      },
      "source": [
        "data_reg=data[['Customer_ID','ProductID','Order_Date','Rating','Timestamp']]\r\n",
        "data_reg.dtypes\r\n"
      ],
      "execution_count": 8,
      "outputs": [
        {
          "output_type": "execute_result",
          "data": {
            "text/plain": [
              "Customer_ID             int64\n",
              "ProductID               int64\n",
              "Order_Date     datetime64[ns]\n",
              "Rating                float64\n",
              "Timestamp             float64\n",
              "dtype: object"
            ]
          },
          "metadata": {
            "tags": []
          },
          "execution_count": 8
        }
      ]
    },
    {
      "cell_type": "code",
      "metadata": {
        "colab": {
          "base_uri": "https://localhost:8080/"
        },
        "id": "iQN6qCEYmJFs",
        "outputId": "ebeb9bf1-6e19-427f-aa1c-1aa0b458fa18"
      },
      "source": [
        "data_reg['Customer_ID'].unique()"
      ],
      "execution_count": 9,
      "outputs": [
        {
          "output_type": "execute_result",
          "data": {
            "text/plain": [
              "array([   8,    9,   12, ..., 2945,  894, 1792])"
            ]
          },
          "metadata": {
            "tags": []
          },
          "execution_count": 9
        }
      ]
    },
    {
      "cell_type": "code",
      "metadata": {
        "colab": {
          "base_uri": "https://localhost:8080/",
          "height": 306
        },
        "id": "hTxW1An6l_va",
        "outputId": "8bb4c1c0-a17e-429e-f09f-42e0b208d6bb"
      },
      "source": [
        "data_reg[data_reg['Customer_ID']==15]"
      ],
      "execution_count": 10,
      "outputs": [
        {
          "output_type": "execute_result",
          "data": {
            "text/html": [
              "<div>\n",
              "<style scoped>\n",
              "    .dataframe tbody tr th:only-of-type {\n",
              "        vertical-align: middle;\n",
              "    }\n",
              "\n",
              "    .dataframe tbody tr th {\n",
              "        vertical-align: top;\n",
              "    }\n",
              "\n",
              "    .dataframe thead th {\n",
              "        text-align: right;\n",
              "    }\n",
              "</style>\n",
              "<table border=\"1\" class=\"dataframe\">\n",
              "  <thead>\n",
              "    <tr style=\"text-align: right;\">\n",
              "      <th></th>\n",
              "      <th>Customer_ID</th>\n",
              "      <th>ProductID</th>\n",
              "      <th>Order_Date</th>\n",
              "      <th>Rating</th>\n",
              "      <th>Timestamp</th>\n",
              "    </tr>\n",
              "  </thead>\n",
              "  <tbody>\n",
              "    <tr>\n",
              "      <th>1066</th>\n",
              "      <td>15</td>\n",
              "      <td>6</td>\n",
              "      <td>2014-07-07</td>\n",
              "      <td>4.0</td>\n",
              "      <td>1.404691e+09</td>\n",
              "    </tr>\n",
              "    <tr>\n",
              "      <th>6760</th>\n",
              "      <td>15</td>\n",
              "      <td>107</td>\n",
              "      <td>2014-03-01</td>\n",
              "      <td>3.5</td>\n",
              "      <td>1.393632e+09</td>\n",
              "    </tr>\n",
              "    <tr>\n",
              "      <th>7844</th>\n",
              "      <td>15</td>\n",
              "      <td>135</td>\n",
              "      <td>2014-06-08</td>\n",
              "      <td>0.5</td>\n",
              "      <td>1.402186e+09</td>\n",
              "    </tr>\n",
              "    <tr>\n",
              "      <th>12092</th>\n",
              "      <td>15</td>\n",
              "      <td>260</td>\n",
              "      <td>2014-03-18</td>\n",
              "      <td>1.5</td>\n",
              "      <td>1.395101e+09</td>\n",
              "    </tr>\n",
              "    <tr>\n",
              "      <th>13682</th>\n",
              "      <td>15</td>\n",
              "      <td>293</td>\n",
              "      <td>2014-06-20</td>\n",
              "      <td>5.0</td>\n",
              "      <td>1.403222e+09</td>\n",
              "    </tr>\n",
              "    <tr>\n",
              "      <th>13943</th>\n",
              "      <td>15</td>\n",
              "      <td>296</td>\n",
              "      <td>2014-09-20</td>\n",
              "      <td>4.5</td>\n",
              "      <td>1.411171e+09</td>\n",
              "    </tr>\n",
              "    <tr>\n",
              "      <th>17462</th>\n",
              "      <td>15</td>\n",
              "      <td>348</td>\n",
              "      <td>2014-05-25</td>\n",
              "      <td>1.5</td>\n",
              "      <td>1.400976e+09</td>\n",
              "    </tr>\n",
              "    <tr>\n",
              "      <th>17492</th>\n",
              "      <td>15</td>\n",
              "      <td>349</td>\n",
              "      <td>2014-06-25</td>\n",
              "      <td>3.5</td>\n",
              "      <td>1.403654e+09</td>\n",
              "    </tr>\n",
              "    <tr>\n",
              "      <th>18814</th>\n",
              "      <td>15</td>\n",
              "      <td>362</td>\n",
              "      <td>2014-03-27</td>\n",
              "      <td>4.0</td>\n",
              "      <td>1.395878e+09</td>\n",
              "    </tr>\n",
              "  </tbody>\n",
              "</table>\n",
              "</div>"
            ],
            "text/plain": [
              "       Customer_ID  ProductID Order_Date  Rating     Timestamp\n",
              "1066            15          6 2014-07-07     4.0  1.404691e+09\n",
              "6760            15        107 2014-03-01     3.5  1.393632e+09\n",
              "7844            15        135 2014-06-08     0.5  1.402186e+09\n",
              "12092           15        260 2014-03-18     1.5  1.395101e+09\n",
              "13682           15        293 2014-06-20     5.0  1.403222e+09\n",
              "13943           15        296 2014-09-20     4.5  1.411171e+09\n",
              "17462           15        348 2014-05-25     1.5  1.400976e+09\n",
              "17492           15        349 2014-06-25     3.5  1.403654e+09\n",
              "18814           15        362 2014-03-27     4.0  1.395878e+09"
            ]
          },
          "metadata": {
            "tags": []
          },
          "execution_count": 10
        }
      ]
    },
    {
      "cell_type": "markdown",
      "metadata": {
        "id": "MU4DUnV3aFu8"
      },
      "source": [
        "## 1.2 Split the data using the python random splitter provided in utilities:"
      ]
    },
    {
      "cell_type": "code",
      "metadata": {
        "id": "68MCztvBZ1s-"
      },
      "source": [
        "train, test = python_stratified_split(data_reg, ratio=0.75, col_user='Customer_ID', col_item='ProductID', seed=42)"
      ],
      "execution_count": 11,
      "outputs": []
    },
    {
      "cell_type": "code",
      "metadata": {
        "colab": {
          "base_uri": "https://localhost:8080/"
        },
        "id": "33vk5Cp5adHX",
        "outputId": "a6e54705-805a-4697-f474-5cfe3ac9009b"
      },
      "source": [
        "print(\"\"\"\r\n",
        "Train:\r\n",
        "Total Ratings: {train_total}\r\n",
        "Unique Users: {train_users}\r\n",
        "Unique Items: {train_items}\r\n",
        "\r\n",
        "Test:\r\n",
        "Total Ratings: {test_total}\r\n",
        "Unique Users: {test_users}\r\n",
        "Unique Items: {test_items}\r\n",
        "\"\"\".format(\r\n",
        "    train_total=len(train),\r\n",
        "    train_users=len(train['Customer_ID'].unique()),\r\n",
        "    train_items=len(train['ProductID'].unique()),\r\n",
        "    test_total=len(test),\r\n",
        "    test_users=len(test['Customer_ID'].unique()),\r\n",
        "    test_items=len(test['ProductID'].unique()),\r\n",
        "))"
      ],
      "execution_count": 12,
      "outputs": [
        {
          "output_type": "stream",
          "text": [
            "\n",
            "Train:\n",
            "Total Ratings: 16516\n",
            "Unique Users: 2832\n",
            "Unique Items: 376\n",
            "\n",
            "Test:\n",
            "Total Ratings: 5183\n",
            "Unique Users: 1928\n",
            "Unique Items: 322\n",
            "\n"
          ],
          "name": "stdout"
        }
      ]
    },
    {
      "cell_type": "markdown",
      "metadata": {
        "id": "o8IOWpk-ayYo"
      },
      "source": [
        "## 2 Train the SAR Model"
      ]
    },
    {
      "cell_type": "markdown",
      "metadata": {
        "id": "cyG-5v4EbDRL"
      },
      "source": [
        "## 2.1 Instantiate the SAR algorithm and set the index"
      ]
    },
    {
      "cell_type": "code",
      "metadata": {
        "id": "vCk5853KbEVG"
      },
      "source": [
        "logging.basicConfig(level=logging.DEBUG, \r\n",
        "                    format='%(asctime)s %(levelname)-8s %(message)s')\r\n",
        "\r\n",
        "model = SAR(\r\n",
        "    col_user=\"Customer_ID\",\r\n",
        "    col_item=\"ProductID\",\r\n",
        "    col_rating=\"Rating\",\r\n",
        "    col_timestamp=\"Timestamp\",\r\n",
        "    similarity_type=\"jaccard\", \r\n",
        "    time_decay_coefficient=30, \r\n",
        "    timedecay_formula=True,\r\n",
        "    normalize=True\r\n",
        ")"
      ],
      "execution_count": 13,
      "outputs": []
    },
    {
      "cell_type": "markdown",
      "metadata": {
        "id": "GKBBPSOBbTZB"
      },
      "source": [
        "## 2.2 Train the SAR model on our training data, and get the top-k recommendations for our testing data"
      ]
    },
    {
      "cell_type": "code",
      "metadata": {
        "colab": {
          "base_uri": "https://localhost:8080/"
        },
        "id": "bw5ryRbbbQOJ",
        "outputId": "d117ea8b-2bc6-4ba1-da4f-2ebf1cad63ee"
      },
      "source": [
        "with Timer() as train_time:\r\n",
        "  model.fit(train)\r\n",
        "\r\n",
        "print(\"Took {} seconds for training.\".format(train_time.interval))"
      ],
      "execution_count": 14,
      "outputs": [
        {
          "output_type": "stream",
          "text": [
            "2020-12-17 02:15:15,845 INFO     Collecting user affinity matrix\n",
            "2020-12-17 02:15:15,848 INFO     Calculating time-decayed affinities\n",
            "2020-12-17 02:15:15,876 INFO     Creating index columns\n",
            "2020-12-17 02:15:15,912 INFO     Calculating normalization factors\n",
            "2020-12-17 02:15:15,938 INFO     Building user affinity sparse matrix\n",
            "2020-12-17 02:15:15,943 INFO     Calculating item co-occurrence\n",
            "2020-12-17 02:15:15,955 INFO     Calculating item similarity\n",
            "2020-12-17 02:15:15,957 INFO     Using jaccard based similarity\n",
            "2020-12-17 02:15:15,962 INFO     Done training\n"
          ],
          "name": "stderr"
        },
        {
          "output_type": "stream",
          "text": [
            "Took 0.11868334199999708 seconds for training.\n"
          ],
          "name": "stdout"
        }
      ]
    },
    {
      "cell_type": "code",
      "metadata": {
        "colab": {
          "base_uri": "https://localhost:8080/"
        },
        "id": "hl-FT7ducB49",
        "outputId": "16e860d4-f8d1-4298-fe51-8c2cd1f66bcf"
      },
      "source": [
        "with Timer() as test_time:\r\n",
        "    top_k = model.recommend_k_items(test, remove_seen=True)\r\n",
        "\r\n",
        "print(\"Took {} seconds for prediction.\".format(test_time.interval))"
      ],
      "execution_count": 15,
      "outputs": [
        {
          "output_type": "stream",
          "text": [
            "2020-12-17 02:15:16,005 INFO     Calculating recommendation scores\n",
            "2020-12-17 02:15:16,035 INFO     Removing seen items\n"
          ],
          "name": "stderr"
        },
        {
          "output_type": "stream",
          "text": [
            "Took 0.07960855300001413 seconds for prediction.\n"
          ],
          "name": "stdout"
        }
      ]
    },
    {
      "cell_type": "code",
      "metadata": {
        "colab": {
          "base_uri": "https://localhost:8080/",
          "height": 191
        },
        "id": "VQnBNo1ujeV8",
        "outputId": "fcd28652-a2a6-4b08-8f58-b03850cfad7a"
      },
      "source": [
        "top_k.head()"
      ],
      "execution_count": 16,
      "outputs": [
        {
          "output_type": "execute_result",
          "data": {
            "text/html": [
              "<div>\n",
              "<style scoped>\n",
              "    .dataframe tbody tr th:only-of-type {\n",
              "        vertical-align: middle;\n",
              "    }\n",
              "\n",
              "    .dataframe tbody tr th {\n",
              "        vertical-align: top;\n",
              "    }\n",
              "\n",
              "    .dataframe thead th {\n",
              "        text-align: right;\n",
              "    }\n",
              "</style>\n",
              "<table border=\"1\" class=\"dataframe\">\n",
              "  <thead>\n",
              "    <tr style=\"text-align: right;\">\n",
              "      <th></th>\n",
              "      <th>Customer_ID</th>\n",
              "      <th>ProductID</th>\n",
              "      <th>prediction</th>\n",
              "    </tr>\n",
              "  </thead>\n",
              "  <tbody>\n",
              "    <tr>\n",
              "      <th>0</th>\n",
              "      <td>2</td>\n",
              "      <td>3</td>\n",
              "      <td>0.737507</td>\n",
              "    </tr>\n",
              "    <tr>\n",
              "      <th>1</th>\n",
              "      <td>2</td>\n",
              "      <td>140</td>\n",
              "      <td>0.694459</td>\n",
              "    </tr>\n",
              "    <tr>\n",
              "      <th>2</th>\n",
              "      <td>2</td>\n",
              "      <td>102</td>\n",
              "      <td>0.643337</td>\n",
              "    </tr>\n",
              "    <tr>\n",
              "      <th>3</th>\n",
              "      <td>2</td>\n",
              "      <td>95</td>\n",
              "      <td>0.620406</td>\n",
              "    </tr>\n",
              "    <tr>\n",
              "      <th>4</th>\n",
              "      <td>2</td>\n",
              "      <td>141</td>\n",
              "      <td>0.590323</td>\n",
              "    </tr>\n",
              "  </tbody>\n",
              "</table>\n",
              "</div>"
            ],
            "text/plain": [
              "   Customer_ID  ProductID  prediction\n",
              "0            2          3    0.737507\n",
              "1            2        140    0.694459\n",
              "2            2        102    0.643337\n",
              "3            2         95    0.620406\n",
              "4            2        141    0.590323"
            ]
          },
          "metadata": {
            "tags": []
          },
          "execution_count": 16
        }
      ]
    },
    {
      "cell_type": "markdown",
      "metadata": {
        "id": "O7Cv3Dmsjqdo"
      },
      "source": [
        "## 2.3. Evaluate how well SAR performs"
      ]
    },
    {
      "cell_type": "code",
      "metadata": {
        "id": "sSNtxDZ7jjuX"
      },
      "source": [
        "eval_map = map_at_k(test, top_k, col_user='Customer_ID', col_item='ProductID', col_rating='Rating', k=TOP_K)\r\n",
        "eval_ndcg = ndcg_at_k(test, top_k, col_user='Customer_ID', col_item='ProductID', col_rating='Rating', k=TOP_K)\r\n",
        "eval_precision = precision_at_k(test, top_k, col_user='Customer_ID', col_item='ProductID', col_rating='Rating', k=TOP_K)\r\n",
        "eval_recall = recall_at_k(test, top_k, col_user='Customer_ID', col_item='ProductID', col_rating='Rating', k=TOP_K)\r\n",
        "eval_rmse = rmse(test, top_k, col_user='Customer_ID', col_item='ProductID', col_rating='Rating')\r\n",
        "eval_mae = mae(test, top_k, col_user='Customer_ID', col_item='ProductID', col_rating='Rating')\r\n",
        "eval_rsquared = rsquared(test, top_k, col_user='Customer_ID', col_item='ProductID', col_rating='Rating')\r\n",
        "eval_exp_var = exp_var(test, top_k, col_user='Customer_ID', col_item='ProductID', col_rating='Rating')\r\n"
      ],
      "execution_count": 20,
      "outputs": []
    },
    {
      "cell_type": "code",
      "metadata": {
        "id": "tZ-qZdMnjrwr"
      },
      "source": [
        "positivity_threshold = 2\r\n",
        "test_bin = test.copy()\r\n",
        "test_bin['Rating'] = binarize(test_bin['Rating'], positivity_threshold)\r\n",
        "\r\n",
        "top_k_prob = top_k.copy()\r\n",
        "top_k_prob['prediction'] = minmax_scale(\r\n",
        "    top_k_prob['prediction'].astype(float)\r\n",
        ")\r\n",
        "\r\n",
        "eval_logloss = logloss(test_bin, top_k_prob, col_user='Customer_ID', col_item='ProductID', col_rating='Rating')"
      ],
      "execution_count": 21,
      "outputs": []
    },
    {
      "cell_type": "code",
      "metadata": {
        "colab": {
          "base_uri": "https://localhost:8080/"
        },
        "id": "bq0rwFFmkCNZ",
        "outputId": "586fb257-8c5d-4404-9dd8-4bb583ca0b27"
      },
      "source": [
        "print(\"Model:\\t\",\r\n",
        "      \"Top K:\\t%d\" % TOP_K,\r\n",
        "      \"MAP:\\t%f\" % eval_map,\r\n",
        "      \"NDCG:\\t%f\" % eval_ndcg,\r\n",
        "      \"Precision@K:\\t%f\" % eval_precision,\r\n",
        "      \"Recall@K:\\t%f\" % eval_recall,\r\n",
        "      \"RMSE:\\t%f\" % eval_rmse,\r\n",
        "      \"MAE:\\t%f\" % eval_mae,\r\n",
        "      \"R2:\\t%f\" % eval_rsquared,\r\n",
        "      \"Exp var:\\t%f\" % eval_exp_var,\r\n",
        "      \"Logloss:\\t%f\" % eval_logloss,\r\n",
        "      sep='\\n')"
      ],
      "execution_count": 22,
      "outputs": [
        {
          "output_type": "stream",
          "text": [
            "Model:\t\n",
            "Top K:\t10\n",
            "MAP:\t0.164836\n",
            "NDCG:\t0.254990\n",
            "Precision@K:\t0.100674\n",
            "Recall@K:\t0.392872\n",
            "RMSE:\t3.155019\n",
            "MAE:\t2.986486\n",
            "R2:\t-8.373662\n",
            "Exp var:\t-0.008044\n",
            "Logloss:\t0.957519\n"
          ],
          "name": "stdout"
        }
      ]
    },
    {
      "cell_type": "code",
      "metadata": {
        "colab": {
          "base_uri": "https://localhost:8080/"
        },
        "id": "Mdmxi3RBv4xh",
        "outputId": "a09fb4b8-eab6-4fa5-987f-ea569e6310ae"
      },
      "source": [
        "top_k['prediction'].sort_values()"
      ],
      "execution_count": 23,
      "outputs": [
        {
          "output_type": "execute_result",
          "data": {
            "text/plain": [
              "7519     0.002905\n",
              "7518     0.003007\n",
              "7517     0.003018\n",
              "7516     0.003042\n",
              "7515     0.003142\n",
              "           ...   \n",
              "8520     2.053097\n",
              "18050    2.058256\n",
              "18240    2.067291\n",
              "8010     2.109548\n",
              "3350     2.166273\n",
              "Name: prediction, Length: 19280, dtype: float64"
            ]
          },
          "metadata": {
            "tags": []
          },
          "execution_count": 23
        }
      ]
    },
    {
      "cell_type": "code",
      "metadata": {
        "id": "6tXSXSUqu8zH"
      },
      "source": [
        ""
      ],
      "execution_count": null,
      "outputs": []
    }
  ]
}