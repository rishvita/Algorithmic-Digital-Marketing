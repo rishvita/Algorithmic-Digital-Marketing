{
  "nbformat": 4,
  "nbformat_minor": 0,
  "metadata": {
    "colab": {
      "name": "Superstore_FastAI.ipynb",
      "provenance": [],
      "collapsed_sections": [],
      "toc_visible": true
    },
    "kernelspec": {
      "name": "python3",
      "display_name": "Python 3"
    }
  },
  "cells": [
    {
      "cell_type": "code",
      "metadata": {
        "colab": {
          "base_uri": "https://localhost:8080/"
        },
        "id": "J0D-qQz1urj-",
        "outputId": "7f6aec6b-cee4-433a-8483-018d3dd17f25"
      },
      "source": [
        "from google.colab import drive\r\n",
        "drive.mount('/content/gdrive')"
      ],
      "execution_count": 1,
      "outputs": [
        {
          "output_type": "stream",
          "text": [
            "Mounted at /content/gdrive\n"
          ],
          "name": "stdout"
        }
      ]
    },
    {
      "cell_type": "code",
      "metadata": {
        "colab": {
          "base_uri": "https://localhost:8080/",
          "height": 1000
        },
        "id": "amK0D0aUutr0",
        "outputId": "f36ad502-cabd-497f-b0da-52000be79bf5"
      },
      "source": [
        "pip install papermill"
      ],
      "execution_count": 2,
      "outputs": [
        {
          "output_type": "stream",
          "text": [
            "Collecting papermill\n",
            "  Downloading https://files.pythonhosted.org/packages/2f/9b/13bc32699675dbb5fa12bc8f046c3a57a4b4f43eb5fe1f1e52034f23bb7f/papermill-2.2.2-py3-none-any.whl\n",
            "Collecting tenacity\n",
            "  Downloading https://files.pythonhosted.org/packages/4e/e4/bcaf6978c0811fbb480acc9bd6e024b53390a61d153fa0be4f20a6c80d94/tenacity-6.3.1-py2.py3-none-any.whl\n",
            "Collecting black\n",
            "\u001b[?25l  Downloading https://files.pythonhosted.org/packages/dc/7b/5a6bbe89de849f28d7c109f5ea87b65afa5124ad615f3419e71beb29dc96/black-20.8b1.tar.gz (1.1MB)\n",
            "\u001b[K     |████████████████████████████████| 1.1MB 8.8MB/s \n",
            "\u001b[?25h  Installing build dependencies ... \u001b[?25l\u001b[?25hdone\n",
            "  Getting requirements to build wheel ... \u001b[?25l\u001b[?25hdone\n",
            "    Preparing wheel metadata ... \u001b[?25l\u001b[?25hdone\n",
            "Requirement already satisfied: tqdm>=4.32.2 in /usr/local/lib/python3.6/dist-packages (from papermill) (4.41.1)\n",
            "Collecting ansiwrap\n",
            "  Downloading https://files.pythonhosted.org/packages/03/50/43e775a63e0d632d9be3b3fa1c9b2cbaf3b7870d203655710a3426f47c26/ansiwrap-0.8.4-py2.py3-none-any.whl\n",
            "Requirement already satisfied: nbformat in /usr/local/lib/python3.6/dist-packages (from papermill) (5.0.8)\n",
            "Requirement already satisfied: click in /usr/local/lib/python3.6/dist-packages (from papermill) (7.1.2)\n",
            "Requirement already satisfied: entrypoints in /usr/local/lib/python3.6/dist-packages (from papermill) (0.3)\n",
            "Requirement already satisfied: requests in /usr/local/lib/python3.6/dist-packages (from papermill) (2.23.0)\n",
            "Requirement already satisfied: nbclient>=0.2.0 in /usr/local/lib/python3.6/dist-packages (from papermill) (0.5.1)\n",
            "Requirement already satisfied: pyyaml in /usr/local/lib/python3.6/dist-packages (from papermill) (3.13)\n",
            "Requirement already satisfied: six>=1.9.0 in /usr/local/lib/python3.6/dist-packages (from tenacity->papermill) (1.15.0)\n",
            "Requirement already satisfied: typing-extensions>=3.7.4 in /usr/local/lib/python3.6/dist-packages (from black->papermill) (3.7.4.3)\n",
            "Requirement already satisfied: dataclasses>=0.6; python_version < \"3.7\" in /usr/local/lib/python3.6/dist-packages (from black->papermill) (0.8)\n",
            "Requirement already satisfied: toml>=0.10.1 in /usr/local/lib/python3.6/dist-packages (from black->papermill) (0.10.2)\n",
            "Collecting appdirs\n",
            "  Downloading https://files.pythonhosted.org/packages/3b/00/2344469e2084fb287c2e0b57b72910309874c3245463acd6cf5e3db69324/appdirs-1.4.4-py2.py3-none-any.whl\n",
            "Collecting typed-ast>=1.4.0\n",
            "\u001b[?25l  Downloading https://files.pythonhosted.org/packages/90/ed/5459080d95eb87a02fe860d447197be63b6e2b5e9ff73c2b0a85622994f4/typed_ast-1.4.1-cp36-cp36m-manylinux1_x86_64.whl (737kB)\n",
            "\u001b[K     |████████████████████████████████| 747kB 30.2MB/s \n",
            "\u001b[?25hCollecting mypy-extensions>=0.4.3\n",
            "  Downloading https://files.pythonhosted.org/packages/5c/eb/975c7c080f3223a5cdaff09612f3a5221e4ba534f7039db34c35d95fa6a5/mypy_extensions-0.4.3-py2.py3-none-any.whl\n",
            "Collecting regex>=2020.1.8\n",
            "\u001b[?25l  Downloading https://files.pythonhosted.org/packages/0d/8a/3ac62dadb767ace65a5b954265de4031a99b27148fe14b24771f5c2c2dca/regex-2020.11.13-cp36-cp36m-manylinux2014_x86_64.whl (723kB)\n",
            "\u001b[K     |████████████████████████████████| 727kB 39.4MB/s \n",
            "\u001b[?25hCollecting pathspec<1,>=0.6\n",
            "  Downloading https://files.pythonhosted.org/packages/29/29/a465741a3d97ea3c17d21eaad4c64205428bde56742360876c4391f930d4/pathspec-0.8.1-py2.py3-none-any.whl\n",
            "Collecting textwrap3>=0.9.2\n",
            "  Downloading https://files.pythonhosted.org/packages/77/9c/a53e561d496ee5866bbeea4d3a850b3b545ed854f8a21007c1e0d872e94d/textwrap3-0.9.2-py2.py3-none-any.whl\n",
            "Requirement already satisfied: jupyter-core in /usr/local/lib/python3.6/dist-packages (from nbformat->papermill) (4.7.0)\n",
            "Requirement already satisfied: ipython-genutils in /usr/local/lib/python3.6/dist-packages (from nbformat->papermill) (0.2.0)\n",
            "Requirement already satisfied: jsonschema!=2.5.0,>=2.4 in /usr/local/lib/python3.6/dist-packages (from nbformat->papermill) (2.6.0)\n",
            "Requirement already satisfied: traitlets>=4.1 in /usr/local/lib/python3.6/dist-packages (from nbformat->papermill) (4.3.3)\n",
            "Requirement already satisfied: chardet<4,>=3.0.2 in /usr/local/lib/python3.6/dist-packages (from requests->papermill) (3.0.4)\n",
            "Requirement already satisfied: idna<3,>=2.5 in /usr/local/lib/python3.6/dist-packages (from requests->papermill) (2.10)\n",
            "Requirement already satisfied: certifi>=2017.4.17 in /usr/local/lib/python3.6/dist-packages (from requests->papermill) (2020.12.5)\n",
            "Requirement already satisfied: urllib3!=1.25.0,!=1.25.1,<1.26,>=1.21.1 in /usr/local/lib/python3.6/dist-packages (from requests->papermill) (1.24.3)\n",
            "Requirement already satisfied: async-generator in /usr/local/lib/python3.6/dist-packages (from nbclient>=0.2.0->papermill) (1.10)\n",
            "Requirement already satisfied: nest-asyncio in /usr/local/lib/python3.6/dist-packages (from nbclient>=0.2.0->papermill) (1.4.3)\n",
            "Collecting jupyter-client>=6.1.5\n",
            "\u001b[?25l  Downloading https://files.pythonhosted.org/packages/dc/41/9fa443d5ae8907dd8f7d12146cb0092dc053afd67b5b57e7e8786a328547/jupyter_client-6.1.7-py3-none-any.whl (108kB)\n",
            "\u001b[K     |████████████████████████████████| 112kB 44.3MB/s \n",
            "\u001b[?25hRequirement already satisfied: decorator in /usr/local/lib/python3.6/dist-packages (from traitlets>=4.1->nbformat->papermill) (4.4.2)\n",
            "Requirement already satisfied: python-dateutil>=2.1 in /usr/local/lib/python3.6/dist-packages (from jupyter-client>=6.1.5->nbclient>=0.2.0->papermill) (2.8.1)\n",
            "Requirement already satisfied: tornado>=4.1 in /usr/local/lib/python3.6/dist-packages (from jupyter-client>=6.1.5->nbclient>=0.2.0->papermill) (5.1.1)\n",
            "Requirement already satisfied: pyzmq>=13 in /usr/local/lib/python3.6/dist-packages (from jupyter-client>=6.1.5->nbclient>=0.2.0->papermill) (20.0.0)\n",
            "Building wheels for collected packages: black\n",
            "  Building wheel for black (PEP 517) ... \u001b[?25l\u001b[?25hdone\n",
            "  Created wheel for black: filename=black-20.8b1-cp36-none-any.whl size=124185 sha256=c812052f1ee525bb74801752a65cd960a51734e26f3e43bae48b2c87d075dfaa\n",
            "  Stored in directory: /root/.cache/pip/wheels/6e/10/b5/edf7359c2edd0305cce7e3f96e07daf7ce55dceac9d3ce3373\n",
            "Successfully built black\n",
            "Installing collected packages: tenacity, appdirs, typed-ast, mypy-extensions, regex, pathspec, black, textwrap3, ansiwrap, papermill, jupyter-client\n",
            "  Found existing installation: regex 2019.12.20\n",
            "    Uninstalling regex-2019.12.20:\n",
            "      Successfully uninstalled regex-2019.12.20\n",
            "  Found existing installation: jupyter-client 5.3.5\n",
            "    Uninstalling jupyter-client-5.3.5:\n",
            "      Successfully uninstalled jupyter-client-5.3.5\n",
            "Successfully installed ansiwrap-0.8.4 appdirs-1.4.4 black-20.8b1 jupyter-client-6.1.7 mypy-extensions-0.4.3 papermill-2.2.2 pathspec-0.8.1 regex-2020.11.13 tenacity-6.3.1 textwrap3-0.9.2 typed-ast-1.4.1\n"
          ],
          "name": "stdout"
        },
        {
          "output_type": "display_data",
          "data": {
            "application/vnd.colab-display-data+json": {
              "pip_warning": {
                "packages": [
                  "jupyter_client"
                ]
              }
            }
          },
          "metadata": {
            "tags": []
          }
        }
      ]
    },
    {
      "cell_type": "code",
      "metadata": {
        "colab": {
          "base_uri": "https://localhost:8080/"
        },
        "id": "e7lWqlrk2EP-",
        "outputId": "160692d2-1776-40df-95e4-f385c4593eb3"
      },
      "source": [
        "%cd /content/gdrive/MyDrive/ADM_Final_Project"
      ],
      "execution_count": 6,
      "outputs": [
        {
          "output_type": "stream",
          "text": [
            "/content/gdrive/MyDrive/ADM_Final_Project\n"
          ],
          "name": "stdout"
        }
      ]
    },
    {
      "cell_type": "code",
      "metadata": {
        "colab": {
          "base_uri": "https://localhost:8080/"
        },
        "id": "O7KlU_CWRgrW",
        "outputId": "706fcaf7-b0f8-425d-f01c-a0049fa565c6"
      },
      "source": [
        "! git clone https://github.com/Microsoft/Recommenders\r\n",
        "import os\r\n",
        "os.chdir('/content/gdrive/My Drive/ADM_Final_Project/Recommenders')"
      ],
      "execution_count": 7,
      "outputs": [
        {
          "output_type": "stream",
          "text": [
            "fatal: destination path 'Recommenders' already exists and is not an empty directory.\n"
          ],
          "name": "stdout"
        }
      ]
    },
    {
      "cell_type": "code",
      "metadata": {
        "colab": {
          "base_uri": "https://localhost:8080/"
        },
        "id": "X751EWto1agY",
        "outputId": "9b75ba7a-6941-4db6-bb6d-c09d6721b2b8"
      },
      "source": [
        "import sys\r\n",
        "sys.path.append(\"../../\")\r\n",
        "import time\r\n",
        "import os\r\n",
        "import matplotlib.pyplot as plt\r\n",
        "import itertools\r\n",
        "import pandas as pd\r\n",
        "import numpy as np\r\n",
        "import papermill as pm\r\n",
        "import torch, fastai\r\n",
        "import datetime as dt\r\n",
        "from fastai.collab import EmbeddingDotBias, collab_learner, CollabDataBunch, load_learner\r\n",
        "\r\n",
        "from reco_utils.dataset import movielens\r\n",
        "from reco_utils.dataset.python_splitters import python_stratified_split\r\n",
        "from reco_utils.recommender.fastai.fastai_utils import cartesian_product, score\r\n",
        "from reco_utils.evaluation.python_evaluation import map_at_k, ndcg_at_k, precision_at_k, recall_at_k\r\n",
        "from reco_utils.evaluation.python_evaluation import rmse, mae, rsquared, exp_var\r\n",
        "\r\n",
        "print(\"System version: {}\".format(sys.version))\r\n",
        "print(\"Pandas version: {}\".format(pd.__version__))\r\n",
        "print(\"Fast AI version: {}\".format(fastai.__version__))\r\n",
        "print(\"Torch version: {}\".format(torch.__version__))\r\n",
        "print(\"Cuda Available: {}\".format(torch.cuda.is_available()))\r\n",
        "print(\"CuDNN Enabled: {}\".format(torch.backends.cudnn.enabled))"
      ],
      "execution_count": 8,
      "outputs": [
        {
          "output_type": "stream",
          "text": [
            "System version: 3.6.9 (default, Oct  8 2020, 12:12:24) \n",
            "[GCC 8.4.0]\n",
            "Pandas version: 1.1.5\n",
            "Fast AI version: 1.0.61\n",
            "Torch version: 1.7.0+cu101\n",
            "Cuda Available: False\n",
            "CuDNN Enabled: True\n"
          ],
          "name": "stdout"
        }
      ]
    },
    {
      "cell_type": "code",
      "metadata": {
        "colab": {
          "base_uri": "https://localhost:8080/",
          "height": 207
        },
        "id": "rOzALbCB1mAe",
        "outputId": "4810aa0a-d9ef-401d-b55e-eef6e2dcc80b"
      },
      "source": [
        "fields = [\"Customer_ID\",\"ProductID\",\"Rating\",\"Order_Date\"]\r\n",
        "\r\n",
        "data = pd.read_csv('/content/gdrive/MyDrive/ADM_Final_Project/reg_lost.csv', skipinitialspace=True, usecols=fields)\r\n",
        "# Convert to 32-bit in order to reduce memory consumption \r\n",
        "print(data[\"Rating\"].isna().count()) \r\n",
        "#df.fillna(0)\r\n",
        "data.loc[:, 'Rating'] = data['Rating'].astype(np.int32) \r\n",
        "data.columns = [\"Order_Date\",\"Customer_ID\",\"ProductID\",\"Review\"]\r\n",
        "data.head()\r\n"
      ],
      "execution_count": 10,
      "outputs": [
        {
          "output_type": "stream",
          "text": [
            "21699\n"
          ],
          "name": "stdout"
        },
        {
          "output_type": "execute_result",
          "data": {
            "text/html": [
              "<div>\n",
              "<style scoped>\n",
              "    .dataframe tbody tr th:only-of-type {\n",
              "        vertical-align: middle;\n",
              "    }\n",
              "\n",
              "    .dataframe tbody tr th {\n",
              "        vertical-align: top;\n",
              "    }\n",
              "\n",
              "    .dataframe thead th {\n",
              "        text-align: right;\n",
              "    }\n",
              "</style>\n",
              "<table border=\"1\" class=\"dataframe\">\n",
              "  <thead>\n",
              "    <tr style=\"text-align: right;\">\n",
              "      <th></th>\n",
              "      <th>Order_Date</th>\n",
              "      <th>Customer_ID</th>\n",
              "      <th>ProductID</th>\n",
              "      <th>Review</th>\n",
              "    </tr>\n",
              "  </thead>\n",
              "  <tbody>\n",
              "    <tr>\n",
              "      <th>0</th>\n",
              "      <td>2014-01-01</td>\n",
              "      <td>8</td>\n",
              "      <td>1</td>\n",
              "      <td>4</td>\n",
              "    </tr>\n",
              "    <tr>\n",
              "      <th>1</th>\n",
              "      <td>2014-01-01</td>\n",
              "      <td>9</td>\n",
              "      <td>1</td>\n",
              "      <td>4</td>\n",
              "    </tr>\n",
              "    <tr>\n",
              "      <th>2</th>\n",
              "      <td>2014-01-01</td>\n",
              "      <td>12</td>\n",
              "      <td>1</td>\n",
              "      <td>4</td>\n",
              "    </tr>\n",
              "    <tr>\n",
              "      <th>3</th>\n",
              "      <td>2014-01-01</td>\n",
              "      <td>20</td>\n",
              "      <td>1</td>\n",
              "      <td>4</td>\n",
              "    </tr>\n",
              "    <tr>\n",
              "      <th>4</th>\n",
              "      <td>2014-01-01</td>\n",
              "      <td>24</td>\n",
              "      <td>1</td>\n",
              "      <td>4</td>\n",
              "    </tr>\n",
              "  </tbody>\n",
              "</table>\n",
              "</div>"
            ],
            "text/plain": [
              "   Order_Date  Customer_ID  ProductID  Review\n",
              "0  2014-01-01            8          1       4\n",
              "1  2014-01-01            9          1       4\n",
              "2  2014-01-01           12          1       4\n",
              "3  2014-01-01           20          1       4\n",
              "4  2014-01-01           24          1       4"
            ]
          },
          "metadata": {
            "tags": []
          },
          "execution_count": 10
        }
      ]
    },
    {
      "cell_type": "code",
      "metadata": {
        "id": "jeb5pQY416zT"
      },
      "source": [
        "df_fastai=data[['Customer_ID','ProductID','Review','Order_Date']]"
      ],
      "execution_count": 11,
      "outputs": []
    },
    {
      "cell_type": "code",
      "metadata": {
        "id": "mRumB_vVHHrt"
      },
      "source": [
        "data['Order_Date'] = pd.to_datetime(data['Order_Date'])\r\n",
        "data['Timestamp'] =(data['Order_Date'] - dt.datetime(1970,1,1)).dt.total_seconds()"
      ],
      "execution_count": 12,
      "outputs": []
    },
    {
      "cell_type": "code",
      "metadata": {
        "id": "XWjo_w6k2KC3"
      },
      "source": [
        "USER, ITEM, RATING, TIMESTAMP, PREDICTION = 'Customer_ID', 'ProductID', 'Review', 'Order_Date', 'Prediction'"
      ],
      "execution_count": 13,
      "outputs": []
    },
    {
      "cell_type": "code",
      "metadata": {
        "id": "mezG4YpVH0Qc"
      },
      "source": [
        "# top k items to recommend\r\n",
        "TOP_K = 10\r\n",
        "\r\n",
        "# Select MovieLens data size: 100k, 1m, 10m, or 20m\r\n",
        "#SNACKS_DATA_SIZE = '100k'\r\n",
        "\r\n",
        "# Model parameters\r\n",
        "N_FACTORS = 40\r\n",
        "EPOCHS = 5"
      ],
      "execution_count": 14,
      "outputs": []
    },
    {
      "cell_type": "code",
      "metadata": {
        "id": "oDBw3NJtH6Yk"
      },
      "source": [
        "# Split the dataset\r\n",
        "train_valid_df, test_df = python_stratified_split(\r\n",
        "    df_fastai, \r\n",
        "    ratio=0.70, \r\n",
        "    min_rating=1, \r\n",
        "    filter_by=\"user\", \r\n",
        "    col_user=USER, \r\n",
        "    col_item=ITEM\r\n",
        ")"
      ],
      "execution_count": 15,
      "outputs": []
    },
    {
      "cell_type": "code",
      "metadata": {
        "id": "GKgJAgkYmZHA"
      },
      "source": [
        "#train_valid_df=df_fastai\r\n",
        "#test_df = df_fastai"
      ],
      "execution_count": 16,
      "outputs": []
    },
    {
      "cell_type": "code",
      "metadata": {
        "colab": {
          "base_uri": "https://localhost:8080/"
        },
        "id": "Zok-xvDBQY-8",
        "outputId": "ccd3124e-bc10-4108-a42a-224cdf13fef4"
      },
      "source": [
        "len(train_valid_df)"
      ],
      "execution_count": 17,
      "outputs": [
        {
          "output_type": "execute_result",
          "data": {
            "text/plain": [
              "15241"
            ]
          },
          "metadata": {
            "tags": []
          },
          "execution_count": 17
        }
      ]
    },
    {
      "cell_type": "code",
      "metadata": {
        "colab": {
          "base_uri": "https://localhost:8080/"
        },
        "id": "gBlGN3NHPJHI",
        "outputId": "ad6be6db-7d19-4884-e580-f355dbc9ce6e"
      },
      "source": [
        "train_valid_df[\"Customer_ID\"].value_counts(normalize=True)\r\n",
        "len(test_df)"
      ],
      "execution_count": 18,
      "outputs": [
        {
          "output_type": "execute_result",
          "data": {
            "text/plain": [
              "6458"
            ]
          },
          "metadata": {
            "tags": []
          },
          "execution_count": 18
        }
      ]
    },
    {
      "cell_type": "code",
      "metadata": {
        "colab": {
          "base_uri": "https://localhost:8080/"
        },
        "id": "B5ioIt2PPNl3",
        "outputId": "00a93861-8899-4284-a69a-8da7e3d5a125"
      },
      "source": [
        "train_valid_df[\"Customer_ID\"].value_counts(normalize=True)"
      ],
      "execution_count": 19,
      "outputs": [
        {
          "output_type": "execute_result",
          "data": {
            "text/plain": [
              "2975    0.005315\n",
              "2354    0.003806\n",
              "845     0.003674\n",
              "3055    0.003609\n",
              "1012    0.003477\n",
              "          ...   \n",
              "3986    0.000066\n",
              "1987    0.000066\n",
              "2027    0.000066\n",
              "4       0.000066\n",
              "2049    0.000066\n",
              "Name: Customer_ID, Length: 2832, dtype: float64"
            ]
          },
          "metadata": {
            "tags": []
          },
          "execution_count": 19
        }
      ]
    },
    {
      "cell_type": "code",
      "metadata": {
        "id": "Oz1eZ_3mH9_9"
      },
      "source": [
        "# fix random seeds to make sure our runs are reproducible\r\n",
        "np.random.seed(101)\r\n",
        "torch.manual_seed(101)\r\n",
        "torch.cuda.manual_seed_all(101)"
      ],
      "execution_count": 20,
      "outputs": []
    },
    {
      "cell_type": "code",
      "metadata": {
        "id": "OYp40_-NIH5v"
      },
      "source": [
        "start_time = time.time()\r\n",
        "\r\n",
        "data = CollabDataBunch.from_df(train_valid_df, user_name=USER, item_name=ITEM, rating_name=RATING, valid_pct=0)\r\n",
        "\r\n",
        "preprocess_time = time.time() - start_time"
      ],
      "execution_count": 21,
      "outputs": []
    },
    {
      "cell_type": "code",
      "metadata": {
        "colab": {
          "base_uri": "https://localhost:8080/",
          "height": 191
        },
        "id": "cfPDJOuBIJ8Q",
        "outputId": "988a3d50-5a7c-4992-fad4-41075015e41f"
      },
      "source": [
        "data.show_batch()"
      ],
      "execution_count": 22,
      "outputs": [
        {
          "output_type": "display_data",
          "data": {
            "text/html": [
              "<table border=\"1\" class=\"dataframe\">\n",
              "  <thead>\n",
              "    <tr style=\"text-align: right;\">\n",
              "      <th>Customer_ID</th>\n",
              "      <th>ProductID</th>\n",
              "      <th>target</th>\n",
              "    </tr>\n",
              "  </thead>\n",
              "  <tbody>\n",
              "    <tr>\n",
              "      <td>3179</td>\n",
              "      <td>110</td>\n",
              "      <td>5.0</td>\n",
              "    </tr>\n",
              "    <tr>\n",
              "      <td>1012</td>\n",
              "      <td>20</td>\n",
              "      <td>3.0</td>\n",
              "    </tr>\n",
              "    <tr>\n",
              "      <td>2566</td>\n",
              "      <td>381</td>\n",
              "      <td>4.0</td>\n",
              "    </tr>\n",
              "    <tr>\n",
              "      <td>53</td>\n",
              "      <td>233</td>\n",
              "      <td>5.0</td>\n",
              "    </tr>\n",
              "    <tr>\n",
              "      <td>949</td>\n",
              "      <td>188</td>\n",
              "      <td>4.0</td>\n",
              "    </tr>\n",
              "  </tbody>\n",
              "</table>"
            ],
            "text/plain": [
              "<IPython.core.display.HTML object>"
            ]
          },
          "metadata": {
            "tags": []
          }
        }
      ]
    },
    {
      "cell_type": "code",
      "metadata": {
        "colab": {
          "base_uri": "https://localhost:8080/"
        },
        "id": "XaMV7l6pIMkD",
        "outputId": "b2b31e58-ea7d-43c2-f88a-c088eff498bf"
      },
      "source": [
        "learn = collab_learner(data, n_factors=N_FACTORS, y_range=[0,5.5], wd=1e-1)\r\n",
        "learn.model"
      ],
      "execution_count": 23,
      "outputs": [
        {
          "output_type": "execute_result",
          "data": {
            "text/plain": [
              "EmbeddingDotBias(\n",
              "  (u_weight): Embedding(2833, 40)\n",
              "  (i_weight): Embedding(371, 40)\n",
              "  (u_bias): Embedding(2833, 1)\n",
              "  (i_bias): Embedding(371, 1)\n",
              ")"
            ]
          },
          "metadata": {
            "tags": []
          },
          "execution_count": 23
        }
      ]
    },
    {
      "cell_type": "code",
      "metadata": {
        "colab": {
          "base_uri": "https://localhost:8080/",
          "height": 207
        },
        "id": "cQS33uj4IWag",
        "outputId": "5b2de55b-1f56-45bc-9783-1648e04d1abe"
      },
      "source": [
        "start_time = time.time()\r\n",
        "\r\n",
        "learn.fit_one_cycle(EPOCHS, max_lr=5e-3)\r\n",
        "\r\n",
        "train_time = time.time() - start_time + preprocess_time\r\n",
        "print(\"Took {} seconds for training.\".format(train_time))"
      ],
      "execution_count": 24,
      "outputs": [
        {
          "output_type": "display_data",
          "data": {
            "text/html": [
              "<table border=\"1\" class=\"dataframe\">\n",
              "  <thead>\n",
              "    <tr style=\"text-align: left;\">\n",
              "      <th>epoch</th>\n",
              "      <th>train_loss</th>\n",
              "      <th>valid_loss</th>\n",
              "      <th>time</th>\n",
              "    </tr>\n",
              "  </thead>\n",
              "  <tbody>\n",
              "    <tr>\n",
              "      <td>0</td>\n",
              "      <td>1.505921</td>\n",
              "      <td>#na#</td>\n",
              "      <td>00:02</td>\n",
              "    </tr>\n",
              "    <tr>\n",
              "      <td>1</td>\n",
              "      <td>0.928712</td>\n",
              "      <td>#na#</td>\n",
              "      <td>00:02</td>\n",
              "    </tr>\n",
              "    <tr>\n",
              "      <td>2</td>\n",
              "      <td>0.644228</td>\n",
              "      <td>#na#</td>\n",
              "      <td>00:01</td>\n",
              "    </tr>\n",
              "    <tr>\n",
              "      <td>3</td>\n",
              "      <td>0.406435</td>\n",
              "      <td>#na#</td>\n",
              "      <td>00:02</td>\n",
              "    </tr>\n",
              "    <tr>\n",
              "      <td>4</td>\n",
              "      <td>0.304513</td>\n",
              "      <td>#na#</td>\n",
              "      <td>00:01</td>\n",
              "    </tr>\n",
              "  </tbody>\n",
              "</table>"
            ],
            "text/plain": [
              "<IPython.core.display.HTML object>"
            ]
          },
          "metadata": {
            "tags": []
          }
        },
        {
          "output_type": "stream",
          "text": [
            "Took 10.365350008010864 seconds for training.\n"
          ],
          "name": "stdout"
        }
      ]
    },
    {
      "cell_type": "code",
      "metadata": {
        "id": "9PZ6QYXIIyVh"
      },
      "source": [
        "learn.export('superstore_model.pkl')"
      ],
      "execution_count": 25,
      "outputs": []
    },
    {
      "cell_type": "code",
      "metadata": {
        "id": "GG655tx4I2N8"
      },
      "source": [
        "learner = load_learner(path=\".\", file = 'superstore_model.pkl')"
      ],
      "execution_count": 26,
      "outputs": []
    },
    {
      "cell_type": "code",
      "metadata": {
        "id": "lJvOOzUFIYfO"
      },
      "source": [
        "total_users, total_items = learner.data.train_ds.x.classes.values()\r\n",
        "total_items = total_items[1:]\r\n",
        "total_users = total_users[1:]"
      ],
      "execution_count": 27,
      "outputs": []
    },
    {
      "cell_type": "code",
      "metadata": {
        "colab": {
          "base_uri": "https://localhost:8080/"
        },
        "id": "-XMDC_Z4Ie26",
        "outputId": "1e8b64a7-9225-43c6-b631-63bced55a92f"
      },
      "source": [
        "print(total_users,total_items)\r\n",
        "print(len(total_items))\r\n",
        "print(len(total_users))"
      ],
      "execution_count": 28,
      "outputs": [
        {
          "output_type": "stream",
          "text": [
            "['1' '2' '4' '5' ... '4002' '4006' '4009' '4010'] ['1' '2' '3' '4' ... '436' '437' '438' '440']\n",
            "370\n",
            "2832\n"
          ],
          "name": "stdout"
        }
      ]
    },
    {
      "cell_type": "code",
      "metadata": {
        "id": "owCO11ZmTSrm"
      },
      "source": [
        ""
      ],
      "execution_count": 28,
      "outputs": []
    },
    {
      "cell_type": "code",
      "metadata": {
        "colab": {
          "base_uri": "https://localhost:8080/"
        },
        "id": "JxTLX5kSJHjL",
        "outputId": "bc12d76c-c547-407a-f55b-5545704037b8"
      },
      "source": [
        "test_users = test_df[USER].unique()\r\n",
        "test_users = np.intersect1d(test_users, total_users)\r\n",
        "print(len(test_users))"
      ],
      "execution_count": 29,
      "outputs": [
        {
          "output_type": "stream",
          "text": [
            "2351\n"
          ],
          "name": "stdout"
        }
      ]
    },
    {
      "cell_type": "code",
      "metadata": {
        "id": "BAU_baxrJOFr"
      },
      "source": [
        "users_items = cartesian_product(np.array(test_users),np.array(total_items))\r\n",
        "users_items = pd.DataFrame(users_items, columns=[USER,ITEM])"
      ],
      "execution_count": 30,
      "outputs": []
    },
    {
      "cell_type": "code",
      "metadata": {
        "colab": {
          "base_uri": "https://localhost:8080/"
        },
        "id": "3BfuXLmwL4wD",
        "outputId": "0a1b975d-594a-4852-d544-3f8f77cc0c14"
      },
      "source": [
        "\r\n",
        "users_items.shape"
      ],
      "execution_count": 31,
      "outputs": [
        {
          "output_type": "execute_result",
          "data": {
            "text/plain": [
              "(869870, 2)"
            ]
          },
          "metadata": {
            "tags": []
          },
          "execution_count": 31
        }
      ]
    },
    {
      "cell_type": "code",
      "metadata": {
        "id": "rNOemd1hL6-e"
      },
      "source": [
        "training_removed = pd.merge(users_items, train_valid_df.astype(str), on=[USER, ITEM], how='left')\r\n",
        "training_removed = training_removed[training_removed[RATING].isna()][[USER, ITEM]]"
      ],
      "execution_count": 32,
      "outputs": []
    },
    {
      "cell_type": "code",
      "metadata": {
        "colab": {
          "base_uri": "https://localhost:8080/",
          "height": 391
        },
        "id": "-gv3XgGNL-DC",
        "outputId": "a54e26b0-50b3-4540-fcc6-7384e182335e"
      },
      "source": [
        "\r\n",
        "training_removed"
      ],
      "execution_count": 33,
      "outputs": [
        {
          "output_type": "execute_result",
          "data": {
            "text/html": [
              "<div>\n",
              "<style scoped>\n",
              "    .dataframe tbody tr th:only-of-type {\n",
              "        vertical-align: middle;\n",
              "    }\n",
              "\n",
              "    .dataframe tbody tr th {\n",
              "        vertical-align: top;\n",
              "    }\n",
              "\n",
              "    .dataframe thead th {\n",
              "        text-align: right;\n",
              "    }\n",
              "</style>\n",
              "<table border=\"1\" class=\"dataframe\">\n",
              "  <thead>\n",
              "    <tr style=\"text-align: right;\">\n",
              "      <th></th>\n",
              "      <th>Customer_ID</th>\n",
              "      <th>ProductID</th>\n",
              "    </tr>\n",
              "  </thead>\n",
              "  <tbody>\n",
              "    <tr>\n",
              "      <th>0</th>\n",
              "      <td>1</td>\n",
              "      <td>1</td>\n",
              "    </tr>\n",
              "    <tr>\n",
              "      <th>1</th>\n",
              "      <td>1</td>\n",
              "      <td>2</td>\n",
              "    </tr>\n",
              "    <tr>\n",
              "      <th>2</th>\n",
              "      <td>1</td>\n",
              "      <td>3</td>\n",
              "    </tr>\n",
              "    <tr>\n",
              "      <th>3</th>\n",
              "      <td>1</td>\n",
              "      <td>4</td>\n",
              "    </tr>\n",
              "    <tr>\n",
              "      <th>4</th>\n",
              "      <td>1</td>\n",
              "      <td>5</td>\n",
              "    </tr>\n",
              "    <tr>\n",
              "      <th>...</th>\n",
              "      <td>...</td>\n",
              "      <td>...</td>\n",
              "    </tr>\n",
              "    <tr>\n",
              "      <th>869865</th>\n",
              "      <td>999</td>\n",
              "      <td>435</td>\n",
              "    </tr>\n",
              "    <tr>\n",
              "      <th>869866</th>\n",
              "      <td>999</td>\n",
              "      <td>436</td>\n",
              "    </tr>\n",
              "    <tr>\n",
              "      <th>869867</th>\n",
              "      <td>999</td>\n",
              "      <td>437</td>\n",
              "    </tr>\n",
              "    <tr>\n",
              "      <th>869868</th>\n",
              "      <td>999</td>\n",
              "      <td>438</td>\n",
              "    </tr>\n",
              "    <tr>\n",
              "      <th>869869</th>\n",
              "      <td>999</td>\n",
              "      <td>440</td>\n",
              "    </tr>\n",
              "  </tbody>\n",
              "</table>\n",
              "<p>855110 rows × 2 columns</p>\n",
              "</div>"
            ],
            "text/plain": [
              "       Customer_ID ProductID\n",
              "0                1         1\n",
              "1                1         2\n",
              "2                1         3\n",
              "3                1         4\n",
              "4                1         5\n",
              "...            ...       ...\n",
              "869865         999       435\n",
              "869866         999       436\n",
              "869867         999       437\n",
              "869868         999       438\n",
              "869869         999       440\n",
              "\n",
              "[855110 rows x 2 columns]"
            ]
          },
          "metadata": {
            "tags": []
          },
          "execution_count": 33
        }
      ]
    },
    {
      "cell_type": "code",
      "metadata": {
        "colab": {
          "base_uri": "https://localhost:8080/"
        },
        "id": "M2heGy5kMA5P",
        "outputId": "5db500d9-8956-4af1-9f89-2d4be08e9340"
      },
      "source": [
        "start_time = time.time()\r\n",
        "\r\n",
        "top_k_scores = score(learner, \r\n",
        "                     test_df=training_removed,\r\n",
        "                     user_col=USER, \r\n",
        "                     item_col=ITEM, \r\n",
        "                     prediction_col=PREDICTION)\r\n",
        "\r\n",
        "test_time = time.time() - start_time\r\n",
        "print(\"Took {} seconds for {} predictions.\".format(test_time, len(training_removed)))"
      ],
      "execution_count": 34,
      "outputs": [
        {
          "output_type": "stream",
          "text": [
            "Took 1.4022915363311768 seconds for 855110 predictions.\n"
          ],
          "name": "stdout"
        }
      ]
    },
    {
      "cell_type": "code",
      "metadata": {
        "colab": {
          "base_uri": "https://localhost:8080/",
          "height": 335
        },
        "id": "kAWVI-p_MEFB",
        "outputId": "29fc193d-9a44-409a-9a1c-832616cc17fb"
      },
      "source": [
        "top_k_scores.head(10)"
      ],
      "execution_count": 35,
      "outputs": [
        {
          "output_type": "execute_result",
          "data": {
            "text/html": [
              "<div>\n",
              "<style scoped>\n",
              "    .dataframe tbody tr th:only-of-type {\n",
              "        vertical-align: middle;\n",
              "    }\n",
              "\n",
              "    .dataframe tbody tr th {\n",
              "        vertical-align: top;\n",
              "    }\n",
              "\n",
              "    .dataframe thead th {\n",
              "        text-align: right;\n",
              "    }\n",
              "</style>\n",
              "<table border=\"1\" class=\"dataframe\">\n",
              "  <thead>\n",
              "    <tr style=\"text-align: right;\">\n",
              "      <th></th>\n",
              "      <th>Customer_ID</th>\n",
              "      <th>ProductID</th>\n",
              "      <th>Prediction</th>\n",
              "    </tr>\n",
              "  </thead>\n",
              "  <tbody>\n",
              "    <tr>\n",
              "      <th>269</th>\n",
              "      <td>1</td>\n",
              "      <td>318</td>\n",
              "      <td>4.565425</td>\n",
              "    </tr>\n",
              "    <tr>\n",
              "      <th>48</th>\n",
              "      <td>1</td>\n",
              "      <td>50</td>\n",
              "      <td>4.518311</td>\n",
              "    </tr>\n",
              "    <tr>\n",
              "      <th>250</th>\n",
              "      <td>1</td>\n",
              "      <td>296</td>\n",
              "      <td>4.425762</td>\n",
              "    </tr>\n",
              "    <tr>\n",
              "      <th>98</th>\n",
              "      <td>1</td>\n",
              "      <td>111</td>\n",
              "      <td>4.350280</td>\n",
              "    </tr>\n",
              "    <tr>\n",
              "      <th>31</th>\n",
              "      <td>1</td>\n",
              "      <td>32</td>\n",
              "      <td>4.308034</td>\n",
              "    </tr>\n",
              "    <tr>\n",
              "      <th>209</th>\n",
              "      <td>1</td>\n",
              "      <td>246</td>\n",
              "      <td>4.273799</td>\n",
              "    </tr>\n",
              "    <tr>\n",
              "      <th>53</th>\n",
              "      <td>1</td>\n",
              "      <td>58</td>\n",
              "      <td>4.248708</td>\n",
              "    </tr>\n",
              "    <tr>\n",
              "      <th>28</th>\n",
              "      <td>1</td>\n",
              "      <td>29</td>\n",
              "      <td>4.246809</td>\n",
              "    </tr>\n",
              "    <tr>\n",
              "      <th>223</th>\n",
              "      <td>1</td>\n",
              "      <td>260</td>\n",
              "      <td>4.238332</td>\n",
              "    </tr>\n",
              "    <tr>\n",
              "      <th>108</th>\n",
              "      <td>1</td>\n",
              "      <td>123</td>\n",
              "      <td>4.224183</td>\n",
              "    </tr>\n",
              "  </tbody>\n",
              "</table>\n",
              "</div>"
            ],
            "text/plain": [
              "    Customer_ID ProductID  Prediction\n",
              "269           1       318    4.565425\n",
              "48            1        50    4.518311\n",
              "250           1       296    4.425762\n",
              "98            1       111    4.350280\n",
              "31            1        32    4.308034\n",
              "209           1       246    4.273799\n",
              "53            1        58    4.248708\n",
              "28            1        29    4.246809\n",
              "223           1       260    4.238332\n",
              "108           1       123    4.224183"
            ]
          },
          "metadata": {
            "tags": []
          },
          "execution_count": 35
        }
      ]
    },
    {
      "cell_type": "code",
      "metadata": {
        "id": "8RKQYpsqMbU5",
        "colab": {
          "base_uri": "https://localhost:8080/"
        },
        "outputId": "c124ebf3-7539-471b-cf01-f15f60f4ba31"
      },
      "source": [
        "print(test_df.dtypes)\r\n",
        "test_df[\"ProductID\"] = test_df[\"ProductID\"].astype(str).astype(object)\r\n",
        "test_df[\"Customer_ID\"] = test_df[\"Customer_ID\"].astype(str).astype(object)"
      ],
      "execution_count": 36,
      "outputs": [
        {
          "output_type": "stream",
          "text": [
            "Customer_ID     int64\n",
            "ProductID       int64\n",
            "Review          int32\n",
            "Order_Date     object\n",
            "dtype: object\n"
          ],
          "name": "stdout"
        }
      ]
    },
    {
      "cell_type": "code",
      "metadata": {
        "colab": {
          "base_uri": "https://localhost:8080/"
        },
        "id": "PoO9t1KzMPxE",
        "outputId": "c6181dc6-92a9-4084-cd0b-033f74e895f7"
      },
      "source": [
        "top_k_scores.dtypes\r\n"
      ],
      "execution_count": 37,
      "outputs": [
        {
          "output_type": "execute_result",
          "data": {
            "text/plain": [
              "Customer_ID     object\n",
              "ProductID       object\n",
              "Prediction     float32\n",
              "dtype: object"
            ]
          },
          "metadata": {
            "tags": []
          },
          "execution_count": 37
        }
      ]
    },
    {
      "cell_type": "code",
      "metadata": {
        "id": "kF4m_0NiMH_i"
      },
      "source": [
        "eval_map = map_at_k(test_df, top_k_scores, col_user=USER, col_item=ITEM, \r\n",
        "                    col_rating=RATING, col_prediction=PREDICTION, \r\n",
        "                    relevancy_method=\"top_k\", k=TOP_K)"
      ],
      "execution_count": 38,
      "outputs": []
    },
    {
      "cell_type": "code",
      "metadata": {
        "id": "f0ULH0ZTMjtw"
      },
      "source": [
        "eval_ndcg = ndcg_at_k(test_df, top_k_scores, col_user=USER, col_item=ITEM, \r\n",
        "                      col_rating=RATING, col_prediction=PREDICTION, \r\n",
        "                      relevancy_method=\"top_k\", k=TOP_K)"
      ],
      "execution_count": 39,
      "outputs": []
    },
    {
      "cell_type": "code",
      "metadata": {
        "id": "gC8pHo8lNQIk"
      },
      "source": [
        "eval_precision = precision_at_k(test_df, top_k_scores, col_user=USER, col_item=ITEM, \r\n",
        "                                col_rating=RATING, col_prediction=PREDICTION, \r\n",
        "                                relevancy_method=\"top_k\", k=TOP_K)"
      ],
      "execution_count": 40,
      "outputs": []
    },
    {
      "cell_type": "code",
      "metadata": {
        "id": "OsEZY3pJNT2h"
      },
      "source": [
        "eval_recall = recall_at_k(test_df, top_k_scores, col_user=USER, col_item=ITEM, \r\n",
        "                          col_rating=RATING, col_prediction=PREDICTION, \r\n",
        "                          relevancy_method=\"top_k\", k=TOP_K)"
      ],
      "execution_count": 41,
      "outputs": []
    },
    {
      "cell_type": "code",
      "metadata": {
        "colab": {
          "base_uri": "https://localhost:8080/"
        },
        "id": "Bp7rP3Mt5tbK",
        "outputId": "2677fb0f-5d18-4fbe-9eb5-b70eb0fffdc9"
      },
      "source": [
        "eval_r2 = rsquared(test_df.copy(), top_k_scores, col_user=USER, col_item=ITEM, col_rating=RATING, col_prediction=PREDICTION)\r\n",
        "eval_rmse = rmse(test_df, top_k_scores, col_user=USER, col_item=ITEM, col_rating=RATING, col_prediction=PREDICTION)\r\n",
        "eval_mae = mae(test_df, top_k_scores, col_user=USER, col_item=ITEM, col_rating=RATING, col_prediction=PREDICTION)\r\n",
        "eval_exp_var = exp_var(test_df, top_k_scores, col_user=USER, col_item=ITEM, col_rating=RATING, col_prediction=PREDICTION)\r\n",
        "\r\n",
        "print(\"Model:\\t\" + learn.__class__.__name__,\r\n",
        "      \"RMSE:\\t%f\" % eval_rmse,\r\n",
        "      \"MAE:\\t%f\" % eval_mae,\r\n",
        "      \"Explained variance:\\t%f\" % eval_exp_var,\r\n",
        "      \"R squared:\\t%f\" % eval_r2, sep='\\n')"
      ],
      "execution_count": 42,
      "outputs": [
        {
          "output_type": "stream",
          "text": [
            "Model:\tCollabLearner\n",
            "RMSE:\t0.998612\n",
            "MAE:\t0.771425\n",
            "Explained variance:\t0.231547\n",
            "R squared:\t0.229498\n"
          ],
          "name": "stdout"
        }
      ]
    },
    {
      "cell_type": "code",
      "metadata": {
        "id": "masrPaFe3qsF"
      },
      "source": [
        ""
      ],
      "execution_count": null,
      "outputs": []
    }
  ]
}