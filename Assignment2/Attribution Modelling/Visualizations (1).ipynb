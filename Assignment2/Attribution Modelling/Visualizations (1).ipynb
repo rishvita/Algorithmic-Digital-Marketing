{
 "cells": [
  {
   "cell_type": "code",
   "execution_count": 36,
   "metadata": {},
   "outputs": [],
   "source": [
    "from __future__ import print_function\n",
    "import pandas as pd\n",
    "import matplotlib.pyplot as plt \n",
    "import numpy as np\n",
    "from numpy import random\n",
    "from random import sample\n",
    "from sklearn.utils import resample\n",
    "from sklearn.preprocessing import MinMaxScaler\n",
    "from sklearn.model_selection import train_test_split\n",
    "import keras\n",
    "#from tabulate import tabulate\n",
    "plt.style.use('ggplot')\n",
    "import os\n",
    "import pandas as pd\n",
    "import plotly.express as px\n",
    "from ipywidgets import interact, interactive, fixed, interact_manual\n",
    "import ipywidgets as widgets\n",
    "import plotly.graph_objs as go\n",
    "import plotly.graph_objects as go\n",
    "from plotly.subplots import make_subplots\n",
    "import warnings\n",
    "warnings.filterwarnings(\"ignore\")"
   ]
  },
  {
   "cell_type": "code",
   "execution_count": 37,
   "metadata": {},
   "outputs": [],
   "source": [
    "os.chdir('C:/Users/rishv/OneDrive/Northeastern/SEM3/Algorithmic Digital Marketing/Assignments/Assignment1-2/criteo_attribution_dataset')"
   ]
  },
  {
   "cell_type": "code",
   "execution_count": 38,
   "metadata": {},
   "outputs": [],
   "source": [
    "lta = np.loadtxt(\"lta.txt\")\n",
    "fta = np.loadtxt(\"fta.txt\")\n",
    "linear = np.loadtxt(\"linear.txt\")\n",
    "timedecay = np.loadtxt(\"timedecay.txt\")\n",
    "logistic = np.loadtxt(\"logistic.txt\")\n",
    "ushape = np.loadtxt(\"ushape.txt\")"
   ]
  },
  {
   "cell_type": "markdown",
   "metadata": {},
   "source": [
    "#  <span style='color:Orange'> CRITEO ATTRIBUTION ANALYSIS AND BUDGET OPTIMIZATION </span>\n"
   ]
  },
  {
   "cell_type": "code",
   "execution_count": 39,
   "metadata": {},
   "outputs": [],
   "source": [
    "def plot(x):\n",
    "    campaign_idx = range(x,x+50)\n",
    "    \n",
    "    #Attribution per Campaign\n",
    "    fig = go.FigureWidget(make_subplots(rows=3, cols=2,horizontal_spacing = 0.09,subplot_titles=(\"LTA\", \"FTA\", \"Linear\", \"Logistic\",\"Time-Decay\",\"U-Shape\")))\n",
    "    #campaign_idx = range(200, 250)\n",
    "\n",
    "    fig.add_trace(\n",
    "    go.Bar(x=np.array(list( range(len(lta[campaign_idx])))), y=lta[campaign_idx] ) , row=1, col=1)\n",
    "\n",
    "    fig.add_trace(\n",
    "    go.Bar(x=np.array(list( range(len(fta[campaign_idx])))), y=fta[campaign_idx] ),row=1, col=2)\n",
    "\n",
    "    fig.add_trace(\n",
    "    go.Bar(x=np.array(list( range(len(linear[campaign_idx])))), y=linear[campaign_idx] ),row=2, col=1)\n",
    "\n",
    "    fig.add_trace(\n",
    "    go.Bar(x=np.array(list( range(len(logistic[campaign_idx])))), y=logistic[campaign_idx] ),row=2, col=2)\n",
    "\n",
    "    fig.add_trace(\n",
    "    go.Bar(x=np.array(list( range(len(timedecay[campaign_idx])))), y=timedecay[campaign_idx] ),row=3, col=1)\n",
    "\n",
    "    fig.add_trace(\n",
    "    go.Bar(x=np.array(list( range(len(ushape[campaign_idx])))), y=ushape[campaign_idx] ),row=3, col=2)\n",
    "\n",
    "    fig.update_xaxes(title_text=\"CampaignID\", row=1, col=1,mirror=True,ticks='outside',showline=True)\n",
    "    fig.update_xaxes(title_text=\"CampaignID\", row=1, col=2,mirror=True,ticks='outside',showline=True)\n",
    "    fig.update_xaxes(title_text=\"CampaignID\", row=2, col=1,mirror=True,ticks='outside',showline=True)\n",
    "    fig.update_xaxes(title_text=\"CampaignID\", row=2, col=2,mirror=True,ticks='outside',showline=True)\n",
    "    fig.update_xaxes(title_text=\"CampaignID\", row=3, col=1,mirror=True,ticks='outside',showline=True)\n",
    "    fig.update_xaxes(title_text=\"CampaignID\", row=3, col=2,mirror=True,ticks='outside',showline=True)\n",
    "\n",
    "    fig.update_yaxes(title_text=\"Attribution\", row=1, col=1,mirror=True,ticks='outside',showline=True)\n",
    "    fig.update_yaxes(title_text=\"Attribution\", row=1, col=2,mirror=True,ticks='outside',showline=True)\n",
    "    fig.update_yaxes(title_text=\"Attribution\", row=2, col=1,mirror=True,ticks='outside',showline=True)\n",
    "    fig.update_yaxes(title_text=\"Attribution\", row=2, col=2,mirror=True,ticks='outside',showline=True)\n",
    "    fig.update_yaxes(title_text=\"Attribution\", row=3, col=1,mirror=True,ticks='outside',showline=True)\n",
    "    fig.update_yaxes(title_text=\"Attribution\", row=3, col=2,mirror=True,ticks='outside',showline=True)\n",
    "\n",
    "    fig.update_layout(height=1000, width=1000, title_text=\"Attribution per Campaign\", title_x=0.5, showlegend=False, paper_bgcolor='rgba(0,0,0,0)',\n",
    "        plot_bgcolor='rgba(0,0,0,0)',template=\"simple_white\",xaxis=dict(ticks=\"outside\", mirror=True, showline=True),yaxis=dict(ticks=\"outside\", mirror=True, showline=True))\n",
    "    print(fig.show())\n",
    "    \n",
    "    #Contribution per Campaign\n",
    "    #campaign_idx = range(200, 250)\n",
    "    trace0 = go.Scatter(x=np.linspace(0, len(campaign_idx), len(campaign_idx)), y=lta[campaign_idx], name=\"LTA\", mode=\"lines+markers\")  \n",
    "    # mode can be 'markers', 'lines+markers', 'lines'\n",
    "    trace1 = go.Scatter(x=(np.linspace(0, len(campaign_idx), len(campaign_idx))-0.3), y= fta[campaign_idx], name=\"FTA\", mode=\"lines+markers\")  \n",
    "    trace2 = go.Scatter(x=np.linspace(0, len(campaign_idx), len(campaign_idx)), y=linear[campaign_idx], name=\"Linear\", mode=\"lines+markers\")  \n",
    "    # mode can be 'markers', 'lines+markers', 'lines'\n",
    "    trace3 = go.Scatter(x=np.linspace(0, len(campaign_idx), len(campaign_idx)), y= logistic[campaign_idx], name=\"Logistic\", mode=\"lines+markers\")\n",
    "    trace4 = go.Scatter(x=np.linspace(0, len(campaign_idx), len(campaign_idx)), y= timedecay[campaign_idx], name=\"Time-Decay\", mode=\"lines+markers\") \n",
    "    trace5 = go.Scatter(x=np.linspace(0, len(campaign_idx), len(campaign_idx)), y= ushape[campaign_idx], name=\"U-shape\", mode=\"lines+markers\")  \n",
    "    mydata = go.Data([trace0, trace1, trace2, trace3, trace4, trace5])\n",
    "    mylayout = go.Layout(title = \"Contribution per Campaign\",xaxis_title=\"Campaign_ID\", yaxis_title=\"Contribution\",width=1000,height=500,title_x=0.5, paper_bgcolor='rgba(0,0,0,0)',\n",
    "        plot_bgcolor='rgba(0,0,0,0)',legend=dict(orientation=\"h\",yanchor=\"bottom\",y=1.02,xanchor=\"right\",x=0.9),template=\"simple_white\",xaxis=dict(ticks=\"outside\", mirror=True, showline=True),yaxis=dict(ticks=\"outside\", mirror=True, showline=True))\n",
    "\n",
    "    fig1 = go.FigureWidget(data=mydata, layout=mylayout)\n",
    "    print(fig1.show())\n",
    "    \n",
    "    #Single touch Attribution\n",
    "    #campaign_idx = range(200, 250)\n",
    "    trace0 = go.Scatter(x=np.linspace(0, len(campaign_idx), len(campaign_idx)), y=lta[campaign_idx], name=\"LTA\", mode=\"lines+markers\")  \n",
    "    # mode can be 'markers', 'lines+markers', 'lines'\n",
    "    trace1 = go.Scatter(x=(np.linspace(0, len(campaign_idx), len(campaign_idx))-0.3), y= fta[campaign_idx], name=\"FTA\", mode=\"lines+markers\")  \n",
    "    mydata = go.Data([trace0, trace1])\n",
    "    mylayout = go.Layout(title = \"Single-touch Attribution per Campaign\",xaxis_title=\"Campaign_ID\", yaxis_title=\"Contribution\",width=1000,height=500,title_x=0.5, \n",
    "    legend=dict(orientation=\"h\",yanchor=\"bottom\",y=1.02,xanchor=\"right\",x=0.9),template=\"simple_white\",xaxis=dict(ticks=\"outside\", mirror=True, showline=True),yaxis=dict(ticks=\"outside\", mirror=True, showline=True))\n",
    "    fig3 = go.FigureWidget(data=mydata, layout=mylayout)\n",
    "    print(fig3.show())\n",
    "\n",
    "    \n",
    "    #Multitouch Attribution\n",
    "    #campaign_idx = range(200, 250)\n",
    "    trace0 = go.Scatter(x=np.linspace(0, len(campaign_idx), len(campaign_idx)), y=linear[campaign_idx], name=\"Linear\", mode=\"lines+markers\")  \n",
    "    # mode can be 'markers', 'lines+markers', 'lines'\n",
    "    trace1 = go.Scatter(x=np.linspace(0, len(campaign_idx), len(campaign_idx)), y= logistic[campaign_idx], name=\"Logistic\", mode=\"lines+markers\")\n",
    "    trace3 = go.Scatter(x=np.linspace(0, len(campaign_idx), len(campaign_idx)), y= ushape[campaign_idx], name=\"U-shape\", mode=\"lines+markers\")  \n",
    "    trace2 = go.Scatter(x=np.linspace(0, len(campaign_idx), len(campaign_idx)), y= timedecay[campaign_idx], name=\"Time-Decay\", mode=\"lines+markers\")  \n",
    "    mydata = go.Data([trace0, trace1, trace2, trace3])\n",
    "    mylayout = go.Layout(title = \"Multi-touch Attribution per Campaign\",xaxis_title=\"Campaign_ID\", yaxis_title=\"Contribution\",width=1000,height=500,title_x=0.5,legend=dict(orientation=\"h\",yanchor=\"bottom\",y=1.02,xanchor=\"right\",x=0.9),template=\"simple_white\",xaxis=dict(ticks=\"outside\", mirror=True, showline=True),yaxis=dict(ticks=\"outside\", mirror=True, showline=True))\n",
    "    fig2 = go.FigureWidget(data=mydata, layout=mylayout)\n",
    "    print(fig2.show())\n",
    "    \n",
    "    #Attribution per Campaign with Pitch\n",
    "    fig = go.FigureWidget(make_subplots(rows=2, cols=3,horizontal_spacing = 0.09,subplot_titles=(\"LTA(0.5)\", \"LTA(1.0)\", \"LTA(2.0)\", \"Time-Decay(0.5)\",\"Time-Decay(1.0)\",\"Time-Decay(2.0)\")))\n",
    "    #campaign_idx = range(200, 250)\n",
    "\n",
    "    fig.add_trace(\n",
    "        go.Bar(x=np.array(list( range(len(lta[campaign_idx])))), y=lta[campaign_idx]**0.5 ) , row=1, col=1)\n",
    "\n",
    "    fig.add_trace(\n",
    "        go.Bar(x=np.array(list( range(len(fta[campaign_idx])))), y=lta[campaign_idx] ),row=1, col=2)\n",
    "\n",
    "    fig.add_trace(\n",
    "        go.Bar(x=np.array(list( range(len(fta[campaign_idx])))), y=lta[campaign_idx]**2 ),row=1, col=3)\n",
    "\n",
    "    fig.add_trace(\n",
    "        go.Bar(x=np.array(list( range(len(fta[campaign_idx])))), y=timedecay[campaign_idx]**0.5 ),row=2, col=1)\n",
    "\n",
    "    fig.add_trace(\n",
    "        go.Bar(x=np.array(list( range(len(fta[campaign_idx])))), y=timedecay[campaign_idx] ),row=2, col=2)\n",
    "\n",
    "    fig.add_trace(\n",
    "        go.Bar(x=np.array(list( range(len(fta[campaign_idx])))), y=timedecay[campaign_idx]**2 ),row=2, col=3)\n",
    "\n",
    "    fig.update_xaxes(title_text=\"CampaignID\", row=1, col=1,mirror=True,ticks='outside',showline=True)\n",
    "    fig.update_xaxes(title_text=\"CampaignID\", row=1, col=2,mirror=True,ticks='outside',showline=True)\n",
    "    fig.update_xaxes(title_text=\"CampaignID\", row=1, col=3,mirror=True,ticks='outside',showline=True)\n",
    "    fig.update_xaxes(title_text=\"CampaignID\", row=2, col=1,mirror=True,ticks='outside',showline=True)\n",
    "    fig.update_xaxes(title_text=\"CampaignID\", row=2, col=2,mirror=True,ticks='outside',showline=True)\n",
    "    fig.update_xaxes(title_text=\"CampaignID\", row=2, col=3,mirror=True,ticks='outside',showline=True)\n",
    "\n",
    "    fig.update_yaxes(title_text=\"Return per Impression\", row=1, col=1,mirror=True,ticks='outside',showline=True)\n",
    "    fig.update_yaxes(title_text=\"Return per Impression\", row=1, col=2,mirror=True,ticks='outside',showline=True)\n",
    "    fig.update_yaxes(title_text=\"Return per Impression\", row=1, col=3,mirror=True,ticks='outside',showline=True)\n",
    "    fig.update_yaxes(title_text=\"Return per Impression\", row=2, col=1,mirror=True,ticks='outside',showline=True)\n",
    "    fig.update_yaxes(title_text=\"Return per Impression\", row=2, col=2,mirror=True,ticks='outside',showline=True)\n",
    "    fig.update_yaxes(title_text=\"Return per Impression\", row=2, col=3,mirror=True,ticks='outside',showline=True)\n",
    "\n",
    "    fig.update_layout(height=800, width=1000, title_text=\"Attribution per Campaign with Pitch\", title_x=0.5, showlegend=False, paper_bgcolor='rgba(0,0,0,0)',\n",
    "        plot_bgcolor='rgba(0,0,0,0)',template=\"simple_white\",xaxis=dict(ticks=\"outside\", mirror=True, showline=True),yaxis=dict(ticks=\"outside\", mirror=True, showline=True))\n",
    "    print(fig.show())\n",
    "    \n",
    "    \n",
    "    #Reward per Campaign\n",
    "    pitch  = [0.0,0.25,0.5,1.0,1.5,2.0,2.5]\n",
    "    lta_pitch = [841,537,233,319,389,454,488]\n",
    "    linear_pitch = [839,519,233,330,334,477,528]\n",
    "    ushape_pitch = [838,506,234,330,413,473,538]\n",
    "    fta_pitch = [841,537,233,319,389,454,488]\n",
    "    logistic_pitch = [694,651,622,485,535,801,629]\n",
    "    timedecay_pitch = [909,780,415,292,334,394,459]\n",
    "\n",
    "    trace0 = go.Scatter(x=pitch, y=lta_pitch, name=\"LTA\", mode=\"lines+markers\")  \n",
    "    trace1 = go.Scatter(x=pitch, y= fta_pitch, name=\"FTA\", mode=\"lines+markers\") \n",
    "    trace2 = go.Scatter(x=pitch, y= linear_pitch, name=\"Linear\", mode=\"lines+markers\") \n",
    "    trace3 = go.Scatter(x=pitch, y= ushape_pitch, name=\"U-Shape\", mode=\"lines+markers\") \n",
    "    trace4 = go.Scatter(x=pitch, y= logistic_pitch, name=\"Logistic\", mode=\"lines+markers\") \n",
    "    trace5 = go.Scatter(x=pitch, y= timedecay_pitch, name=\"Time-decay\", mode=\"lines+markers\") \n",
    "\n",
    "    mydata = go.Data([trace0, trace1, trace2, trace3, trace4, trace5])\n",
    "    mylayout = go.Layout(title = \"Reward per Campaign\",xaxis_title=\"Pitch\", yaxis_title=\"Reward\",width=900,height=500,title_x=0.5, \n",
    "    legend=dict(orientation=\"h\",yanchor=\"bottom\",y=1.02,xanchor=\"right\",x=0.9),template=\"simple_white\",xaxis=dict(ticks=\"outside\", mirror=True, showline=True),yaxis=dict(ticks=\"outside\", mirror=True, showline=True))\n",
    "    fig = go.FigureWidget(data=mydata, layout=mylayout)\n",
    "    print(fig.show())\n",
    "    \n",
    "\n",
    "    \n",
    "    \n",
    "    \n",
    "    \n",
    "    \n",
    "\n"
   ]
  },
  {
   "cell_type": "code",
   "execution_count": 40,
   "metadata": {},
   "outputs": [
    {
     "data": {
      "application/vnd.jupyter.widget-view+json": {
       "model_id": "fe9faaf796dd415f9e411ab52747d339",
       "version_major": 2,
       "version_minor": 0
      },
      "text/plain": [
       "interactive(children=(IntSlider(value=100, description='Slider', max=349, min=10), Output()), _dom_classes=('w…"
      ]
     },
     "metadata": {},
     "output_type": "display_data"
    },
    {
     "data": {
      "text/plain": [
       "<function __main__.plot(x)>"
      ]
     },
     "execution_count": 40,
     "metadata": {},
     "output_type": "execute_result"
    }
   ],
   "source": [
    "interact(plot,x=widgets.IntSlider(min=10,max=349,step=1,value=100,description='Slider'))\n"
   ]
  },
  {
   "cell_type": "code",
   "execution_count": 41,
   "metadata": {},
   "outputs": [],
   "source": [
    "d = (lta,fta,linear,timedecay,logistic,ushape)\n",
    "df = pd.DataFrame(data=d).T\n",
    "df.columns=['LTA Attribution','FTA Attribution','linear Attribution','Time-Decay Attribution','Logistic Attribution','U-Shape Attribution']"
   ]
  },
  {
   "cell_type": "code",
   "execution_count": 42,
   "metadata": {},
   "outputs": [
    {
     "data": {
      "application/vnd.jupyter.widget-view+json": {
       "model_id": "65ca3ee066d54b86bf46f5e9f7091948",
       "version_major": 2,
       "version_minor": 0
      },
      "text/plain": [
       "interactive(children=(Dropdown(description='Pitch', options=(0.1, 0.25, 0.5, 1.0, 1.5, 2.0, 2.5), value=0.1), …"
      ]
     },
     "metadata": {},
     "output_type": "display_data"
    },
    {
     "data": {
      "text/plain": [
       "<function __main__.f(Pitch)>"
      ]
     },
     "execution_count": 42,
     "metadata": {},
     "output_type": "execute_result"
    }
   ],
   "source": [
    "def f(Pitch):\n",
    "    df1 = df**Pitch\n",
    "    th_props = [\n",
    "      ('font-size', '15px'),\n",
    "      ('text-align', 'center'),\n",
    "      ('font-weight', 'bold'),\n",
    "      ('color', '#6d6d6d'),\n",
    "      ('background-color', '#f7f7f9')]\n",
    "\n",
    "    # Set CSS properties for td elements in dataframe\n",
    "    td_props = [\n",
    "      ('font-size', '12px')]\n",
    "    styles = [\n",
    "      dict(selector=\"th\", props=th_props),\n",
    "      dict(selector=\"td\", props=td_props)\n",
    "      ]\n",
    "    df1= df1.style.set_table_styles(styles)\n",
    "    return df1\n",
    "\n",
    "pitch  = [0.1,0.25,0.5,1.0,1.5,2.0,2.5]\n",
    "\n",
    "interact(f, Pitch=pitch)"
   ]
  },
  {
   "cell_type": "code",
   "execution_count": null,
   "metadata": {},
   "outputs": [],
   "source": []
  }
 ],
 "metadata": {
  "kernelspec": {
   "display_name": "Python 3",
   "language": "python",
   "name": "python3"
  },
  "language_info": {
   "codemirror_mode": {
    "name": "ipython",
    "version": 3
   },
   "file_extension": ".py",
   "mimetype": "text/x-python",
   "name": "python",
   "nbconvert_exporter": "python",
   "pygments_lexer": "ipython3",
   "version": "3.7.6"
  }
 },
 "nbformat": 4,
 "nbformat_minor": 4
}
