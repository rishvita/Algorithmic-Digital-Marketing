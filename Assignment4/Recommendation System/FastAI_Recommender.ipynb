{
  "nbformat": 4,
  "nbformat_minor": 0,
  "metadata": {
    "colab": {
      "name": "FastAI Recommender.ipynb",
      "provenance": []
    },
    "kernelspec": {
      "name": "python3",
      "display_name": "Python 3"
    },
    "accelerator": "GPU"
  },
  "cells": [
    {
      "cell_type": "code",
      "metadata": {
        "id": "i1jeHnOUUji0",
        "colab": {
          "base_uri": "https://localhost:8080/"
        },
        "outputId": "33a09de0-9d4b-4ffa-efdb-083411537280"
      },
      "source": [
        "from google.colab import drive\n",
        "drive.mount('/content/gdrive')"
      ],
      "execution_count": 1,
      "outputs": [
        {
          "output_type": "stream",
          "text": [
            "Mounted at /content/gdrive\n"
          ],
          "name": "stdout"
        }
      ]
    },
    {
      "cell_type": "code",
      "metadata": {
        "id": "ue5FFHvGVp8p",
        "colab": {
          "base_uri": "https://localhost:8080/"
        },
        "outputId": "045222be-c7ce-43ce-f73f-64fb9a710d19"
      },
      "source": [
        "! ls"
      ],
      "execution_count": 2,
      "outputs": [
        {
          "output_type": "stream",
          "text": [
            "gdrive\tsample_data\n"
          ],
          "name": "stdout"
        }
      ]
    },
    {
      "cell_type": "code",
      "metadata": {
        "id": "L7qJQHIjWgQF",
        "colab": {
          "base_uri": "https://localhost:8080/"
        },
        "outputId": "b3c72e79-2799-4825-fb89-5235f1170ffd"
      },
      "source": [
        "%cd gdrive/My Drive/Project"
      ],
      "execution_count": 3,
      "outputs": [
        {
          "output_type": "stream",
          "text": [
            "/content/gdrive/My Drive/Project\n"
          ],
          "name": "stdout"
        }
      ]
    },
    {
      "cell_type": "code",
      "metadata": {
        "id": "Fsme9QoZWorj",
        "colab": {
          "base_uri": "https://localhost:8080/"
        },
        "outputId": "568198f6-fa62-4c9f-d23d-2d8279ad5619"
      },
      "source": [
        "! git clone https://github.com/Microsoft/Recommenders"
      ],
      "execution_count": 4,
      "outputs": [
        {
          "output_type": "stream",
          "text": [
            "fatal: destination path 'Recommenders' already exists and is not an empty directory.\n"
          ],
          "name": "stdout"
        }
      ]
    },
    {
      "cell_type": "code",
      "metadata": {
        "id": "UTnKFhlgXYp1",
        "colab": {
          "base_uri": "https://localhost:8080/"
        },
        "outputId": "6476d2cf-c198-48d4-e3db-ed4295f0cbfb"
      },
      "source": [
        "! git pull"
      ],
      "execution_count": 5,
      "outputs": [
        {
          "output_type": "stream",
          "text": [
            "fatal: not a git repository (or any parent up to mount point /content)\n",
            "Stopping at filesystem boundary (GIT_DISCOVERY_ACROSS_FILESYSTEM not set).\n"
          ],
          "name": "stdout"
        }
      ]
    },
    {
      "cell_type": "code",
      "metadata": {
        "id": "Pvz9g_ABXHPN",
        "colab": {
          "base_uri": "https://localhost:8080/",
          "height": 1000
        },
        "outputId": "28168a8a-91ba-4c00-cd5c-b982916ea9bb"
      },
      "source": [
        "pip install papermill"
      ],
      "execution_count": 6,
      "outputs": [
        {
          "output_type": "stream",
          "text": [
            "Collecting papermill\n",
            "  Downloading https://files.pythonhosted.org/packages/2f/9b/13bc32699675dbb5fa12bc8f046c3a57a4b4f43eb5fe1f1e52034f23bb7f/papermill-2.2.2-py3-none-any.whl\n",
            "Requirement already satisfied: click in /usr/local/lib/python3.6/dist-packages (from papermill) (7.1.2)\n",
            "Collecting ansiwrap\n",
            "  Downloading https://files.pythonhosted.org/packages/03/50/43e775a63e0d632d9be3b3fa1c9b2cbaf3b7870d203655710a3426f47c26/ansiwrap-0.8.4-py2.py3-none-any.whl\n",
            "Requirement already satisfied: nbclient>=0.2.0 in /usr/local/lib/python3.6/dist-packages (from papermill) (0.5.1)\n",
            "Requirement already satisfied: tqdm>=4.32.2 in /usr/local/lib/python3.6/dist-packages (from papermill) (4.41.1)\n",
            "Requirement already satisfied: pyyaml in /usr/local/lib/python3.6/dist-packages (from papermill) (3.13)\n",
            "Requirement already satisfied: requests in /usr/local/lib/python3.6/dist-packages (from papermill) (2.23.0)\n",
            "Requirement already satisfied: entrypoints in /usr/local/lib/python3.6/dist-packages (from papermill) (0.3)\n",
            "Requirement already satisfied: nbformat in /usr/local/lib/python3.6/dist-packages (from papermill) (5.0.8)\n",
            "Collecting black\n",
            "\u001b[?25l  Downloading https://files.pythonhosted.org/packages/dc/7b/5a6bbe89de849f28d7c109f5ea87b65afa5124ad615f3419e71beb29dc96/black-20.8b1.tar.gz (1.1MB)\n",
            "\u001b[K     |████████████████████████████████| 1.1MB 20.0MB/s \n",
            "\u001b[?25h  Installing build dependencies ... \u001b[?25l\u001b[?25hdone\n",
            "  Getting requirements to build wheel ... \u001b[?25l\u001b[?25hdone\n",
            "    Preparing wheel metadata ... \u001b[?25l\u001b[?25hdone\n",
            "Collecting tenacity\n",
            "  Downloading https://files.pythonhosted.org/packages/b5/05/ff089032442058bd3386f9cd991cd88ccac81dca1494d78751621ee35e62/tenacity-6.2.0-py2.py3-none-any.whl\n",
            "Collecting textwrap3>=0.9.2\n",
            "  Downloading https://files.pythonhosted.org/packages/77/9c/a53e561d496ee5866bbeea4d3a850b3b545ed854f8a21007c1e0d872e94d/textwrap3-0.9.2-py2.py3-none-any.whl\n",
            "Collecting jupyter-client>=6.1.5\n",
            "\u001b[?25l  Downloading https://files.pythonhosted.org/packages/dc/41/9fa443d5ae8907dd8f7d12146cb0092dc053afd67b5b57e7e8786a328547/jupyter_client-6.1.7-py3-none-any.whl (108kB)\n",
            "\u001b[K     |████████████████████████████████| 112kB 32.9MB/s \n",
            "\u001b[?25hRequirement already satisfied: async-generator in /usr/local/lib/python3.6/dist-packages (from nbclient>=0.2.0->papermill) (1.10)\n",
            "Requirement already satisfied: traitlets>=4.2 in /usr/local/lib/python3.6/dist-packages (from nbclient>=0.2.0->papermill) (4.3.3)\n",
            "Requirement already satisfied: nest-asyncio in /usr/local/lib/python3.6/dist-packages (from nbclient>=0.2.0->papermill) (1.4.3)\n",
            "Requirement already satisfied: idna<3,>=2.5 in /usr/local/lib/python3.6/dist-packages (from requests->papermill) (2.10)\n",
            "Requirement already satisfied: certifi>=2017.4.17 in /usr/local/lib/python3.6/dist-packages (from requests->papermill) (2020.6.20)\n",
            "Requirement already satisfied: urllib3!=1.25.0,!=1.25.1,<1.26,>=1.21.1 in /usr/local/lib/python3.6/dist-packages (from requests->papermill) (1.24.3)\n",
            "Requirement already satisfied: chardet<4,>=3.0.2 in /usr/local/lib/python3.6/dist-packages (from requests->papermill) (3.0.4)\n",
            "Requirement already satisfied: jupyter-core in /usr/local/lib/python3.6/dist-packages (from nbformat->papermill) (4.6.3)\n",
            "Requirement already satisfied: ipython-genutils in /usr/local/lib/python3.6/dist-packages (from nbformat->papermill) (0.2.0)\n",
            "Requirement already satisfied: jsonschema!=2.5.0,>=2.4 in /usr/local/lib/python3.6/dist-packages (from nbformat->papermill) (2.6.0)\n",
            "Requirement already satisfied: toml>=0.10.1 in /usr/local/lib/python3.6/dist-packages (from black->papermill) (0.10.2)\n",
            "Requirement already satisfied: typing-extensions>=3.7.4 in /usr/local/lib/python3.6/dist-packages (from black->papermill) (3.7.4.3)\n",
            "Collecting pathspec<1,>=0.6\n",
            "  Downloading https://files.pythonhosted.org/packages/29/29/a465741a3d97ea3c17d21eaad4c64205428bde56742360876c4391f930d4/pathspec-0.8.1-py2.py3-none-any.whl\n",
            "Collecting mypy-extensions>=0.4.3\n",
            "  Downloading https://files.pythonhosted.org/packages/5c/eb/975c7c080f3223a5cdaff09612f3a5221e4ba534f7039db34c35d95fa6a5/mypy_extensions-0.4.3-py2.py3-none-any.whl\n",
            "Collecting typed-ast>=1.4.0\n",
            "\u001b[?25l  Downloading https://files.pythonhosted.org/packages/90/ed/5459080d95eb87a02fe860d447197be63b6e2b5e9ff73c2b0a85622994f4/typed_ast-1.4.1-cp36-cp36m-manylinux1_x86_64.whl (737kB)\n",
            "\u001b[K     |████████████████████████████████| 747kB 43.6MB/s \n",
            "\u001b[?25hCollecting regex>=2020.1.8\n",
            "\u001b[?25l  Downloading https://files.pythonhosted.org/packages/0d/8a/3ac62dadb767ace65a5b954265de4031a99b27148fe14b24771f5c2c2dca/regex-2020.11.13-cp36-cp36m-manylinux2014_x86_64.whl (723kB)\n",
            "\u001b[K     |████████████████████████████████| 727kB 46.4MB/s \n",
            "\u001b[?25hCollecting appdirs\n",
            "  Downloading https://files.pythonhosted.org/packages/3b/00/2344469e2084fb287c2e0b57b72910309874c3245463acd6cf5e3db69324/appdirs-1.4.4-py2.py3-none-any.whl\n",
            "Requirement already satisfied: dataclasses>=0.6; python_version < \"3.7\" in /usr/local/lib/python3.6/dist-packages (from black->papermill) (0.7)\n",
            "Requirement already satisfied: six>=1.9.0 in /usr/local/lib/python3.6/dist-packages (from tenacity->papermill) (1.15.0)\n",
            "Requirement already satisfied: tornado>=4.1 in /usr/local/lib/python3.6/dist-packages (from jupyter-client>=6.1.5->nbclient>=0.2.0->papermill) (5.1.1)\n",
            "Requirement already satisfied: python-dateutil>=2.1 in /usr/local/lib/python3.6/dist-packages (from jupyter-client>=6.1.5->nbclient>=0.2.0->papermill) (2.8.1)\n",
            "Requirement already satisfied: pyzmq>=13 in /usr/local/lib/python3.6/dist-packages (from jupyter-client>=6.1.5->nbclient>=0.2.0->papermill) (19.0.2)\n",
            "Requirement already satisfied: decorator in /usr/local/lib/python3.6/dist-packages (from traitlets>=4.2->nbclient>=0.2.0->papermill) (4.4.2)\n",
            "Building wheels for collected packages: black\n",
            "  Building wheel for black (PEP 517) ... \u001b[?25l\u001b[?25hdone\n",
            "  Created wheel for black: filename=black-20.8b1-cp36-none-any.whl size=124186 sha256=78e34e0aec6bcf6531defcb3c110664e6f609e6a08d681188eeda16870e19e4d\n",
            "  Stored in directory: /root/.cache/pip/wheels/6e/10/b5/edf7359c2edd0305cce7e3f96e07daf7ce55dceac9d3ce3373\n",
            "Successfully built black\n",
            "Installing collected packages: textwrap3, ansiwrap, pathspec, mypy-extensions, typed-ast, regex, appdirs, black, tenacity, papermill, jupyter-client\n",
            "  Found existing installation: regex 2019.12.20\n",
            "    Uninstalling regex-2019.12.20:\n",
            "      Successfully uninstalled regex-2019.12.20\n",
            "  Found existing installation: jupyter-client 5.3.5\n",
            "    Uninstalling jupyter-client-5.3.5:\n",
            "      Successfully uninstalled jupyter-client-5.3.5\n",
            "Successfully installed ansiwrap-0.8.4 appdirs-1.4.4 black-20.8b1 jupyter-client-6.1.7 mypy-extensions-0.4.3 papermill-2.2.2 pathspec-0.8.1 regex-2020.11.13 tenacity-6.2.0 textwrap3-0.9.2 typed-ast-1.4.1\n"
          ],
          "name": "stdout"
        },
        {
          "output_type": "display_data",
          "data": {
            "application/vnd.colab-display-data+json": {
              "pip_warning": {
                "packages": [
                  "jupyter_client"
                ]
              }
            }
          },
          "metadata": {
            "tags": []
          }
        }
      ]
    },
    {
      "cell_type": "code",
      "metadata": {
        "id": "Ex7xVyR9d0Hc"
      },
      "source": [
        "import os\n",
        "os.chdir('/content/gdrive/My Drive/Project/Recommenders')"
      ],
      "execution_count": 7,
      "outputs": []
    },
    {
      "cell_type": "code",
      "metadata": {
        "id": "NtjV9C9rWu3g",
        "colab": {
          "base_uri": "https://localhost:8080/"
        },
        "outputId": "2b16dcb7-3ca8-4797-e948-78edf19b0547"
      },
      "source": [
        "import sys\n",
        "sys.path.append(\"../../\")\n",
        "import time\n",
        "import os\n",
        "import itertools\n",
        "import pandas as pd\n",
        "import numpy as np\n",
        "import papermill as pm\n",
        "import torch, fastai\n",
        "from fastai.collab import EmbeddingDotBias, collab_learner, CollabDataBunch, load_learner\n",
        "\n",
        "from reco_utils.dataset import movielens\n",
        "from reco_utils.dataset.python_splitters import python_stratified_split\n",
        "from reco_utils.recommender.fastai.fastai_utils import cartesian_product, score\n",
        "from reco_utils.evaluation.python_evaluation import map_at_k, ndcg_at_k, precision_at_k, recall_at_k\n",
        "from reco_utils.evaluation.python_evaluation import rmse, mae, rsquared, exp_var\n",
        "\n",
        "print(\"System version: {}\".format(sys.version))\n",
        "print(\"Pandas version: {}\".format(pd.__version__))\n",
        "print(\"Fast AI version: {}\".format(fastai.__version__))\n",
        "print(\"Torch version: {}\".format(torch.__version__))\n",
        "print(\"Cuda Available: {}\".format(torch.cuda.is_available()))\n",
        "print(\"CuDNN Enabled: {}\".format(torch.backends.cudnn.enabled))"
      ],
      "execution_count": 8,
      "outputs": [
        {
          "output_type": "stream",
          "text": [
            "System version: 3.6.9 (default, Oct  8 2020, 12:12:24) \n",
            "[GCC 8.4.0]\n",
            "Pandas version: 1.1.4\n",
            "Fast AI version: 1.0.61\n",
            "Torch version: 1.7.0+cu101\n",
            "Cuda Available: True\n",
            "CuDNN Enabled: True\n"
          ],
          "name": "stdout"
        }
      ]
    },
    {
      "cell_type": "code",
      "metadata": {
        "id": "4O6f0XYLXD7m"
      },
      "source": [
        "USER, ITEM, RATING, TIMESTAMP, PREDICTION, TITLE = 'UserId', 'MovieId', 'Rating', 'Timestamp', 'Prediction', 'Title'"
      ],
      "execution_count": 9,
      "outputs": []
    },
    {
      "cell_type": "code",
      "metadata": {
        "id": "FkCGY4I7cp8l"
      },
      "source": [
        "# top k items to recommend\n",
        "TOP_K = 10\n",
        "\n",
        "# Select MovieLens data size: 100k, 1m, 10m, or 20m\n",
        "MOVIELENS_DATA_SIZE = '100k'\n",
        "\n",
        "# Model parameters\n",
        "N_FACTORS = 40\n",
        "EPOCHS = 5"
      ],
      "execution_count": 10,
      "outputs": []
    },
    {
      "cell_type": "code",
      "metadata": {
        "id": "qaOvjcpBeR_1",
        "colab": {
          "base_uri": "https://localhost:8080/",
          "height": 376
        },
        "outputId": "e8704ea6-c445-4d23-cccf-a2a56d1b0ad6"
      },
      "source": [
        "\n",
        "ratings_df = movielens.load_pandas_df(\n",
        "    size=MOVIELENS_DATA_SIZE,\n",
        "    header=[USER,ITEM,RATING,TIMESTAMP]\n",
        ")\n",
        "\n",
        "# make sure the IDs are loaded as strings to better prevent confusion with embedding ids\n",
        "ratings_df[USER] = ratings_df[USER].astype('str')\n",
        "ratings_df[ITEM] = ratings_df[ITEM].astype('str')\n",
        "\n",
        "ratings_df.head(10)"
      ],
      "execution_count": 11,
      "outputs": [
        {
          "output_type": "stream",
          "text": [
            "100%|██████████| 4.81k/4.81k [00:00<00:00, 21.8kKB/s]\n"
          ],
          "name": "stderr"
        },
        {
          "output_type": "execute_result",
          "data": {
            "text/html": [
              "<div>\n",
              "<style scoped>\n",
              "    .dataframe tbody tr th:only-of-type {\n",
              "        vertical-align: middle;\n",
              "    }\n",
              "\n",
              "    .dataframe tbody tr th {\n",
              "        vertical-align: top;\n",
              "    }\n",
              "\n",
              "    .dataframe thead th {\n",
              "        text-align: right;\n",
              "    }\n",
              "</style>\n",
              "<table border=\"1\" class=\"dataframe\">\n",
              "  <thead>\n",
              "    <tr style=\"text-align: right;\">\n",
              "      <th></th>\n",
              "      <th>UserId</th>\n",
              "      <th>MovieId</th>\n",
              "      <th>Rating</th>\n",
              "      <th>Timestamp</th>\n",
              "    </tr>\n",
              "  </thead>\n",
              "  <tbody>\n",
              "    <tr>\n",
              "      <th>0</th>\n",
              "      <td>196</td>\n",
              "      <td>242</td>\n",
              "      <td>3.0</td>\n",
              "      <td>881250949</td>\n",
              "    </tr>\n",
              "    <tr>\n",
              "      <th>1</th>\n",
              "      <td>186</td>\n",
              "      <td>302</td>\n",
              "      <td>3.0</td>\n",
              "      <td>891717742</td>\n",
              "    </tr>\n",
              "    <tr>\n",
              "      <th>2</th>\n",
              "      <td>22</td>\n",
              "      <td>377</td>\n",
              "      <td>1.0</td>\n",
              "      <td>878887116</td>\n",
              "    </tr>\n",
              "    <tr>\n",
              "      <th>3</th>\n",
              "      <td>244</td>\n",
              "      <td>51</td>\n",
              "      <td>2.0</td>\n",
              "      <td>880606923</td>\n",
              "    </tr>\n",
              "    <tr>\n",
              "      <th>4</th>\n",
              "      <td>166</td>\n",
              "      <td>346</td>\n",
              "      <td>1.0</td>\n",
              "      <td>886397596</td>\n",
              "    </tr>\n",
              "    <tr>\n",
              "      <th>5</th>\n",
              "      <td>298</td>\n",
              "      <td>474</td>\n",
              "      <td>4.0</td>\n",
              "      <td>884182806</td>\n",
              "    </tr>\n",
              "    <tr>\n",
              "      <th>6</th>\n",
              "      <td>115</td>\n",
              "      <td>265</td>\n",
              "      <td>2.0</td>\n",
              "      <td>881171488</td>\n",
              "    </tr>\n",
              "    <tr>\n",
              "      <th>7</th>\n",
              "      <td>253</td>\n",
              "      <td>465</td>\n",
              "      <td>5.0</td>\n",
              "      <td>891628467</td>\n",
              "    </tr>\n",
              "    <tr>\n",
              "      <th>8</th>\n",
              "      <td>305</td>\n",
              "      <td>451</td>\n",
              "      <td>3.0</td>\n",
              "      <td>886324817</td>\n",
              "    </tr>\n",
              "    <tr>\n",
              "      <th>9</th>\n",
              "      <td>6</td>\n",
              "      <td>86</td>\n",
              "      <td>3.0</td>\n",
              "      <td>883603013</td>\n",
              "    </tr>\n",
              "  </tbody>\n",
              "</table>\n",
              "</div>"
            ],
            "text/plain": [
              "  UserId MovieId  Rating  Timestamp\n",
              "0    196     242     3.0  881250949\n",
              "1    186     302     3.0  891717742\n",
              "2     22     377     1.0  878887116\n",
              "3    244      51     2.0  880606923\n",
              "4    166     346     1.0  886397596\n",
              "5    298     474     4.0  884182806\n",
              "6    115     265     2.0  881171488\n",
              "7    253     465     5.0  891628467\n",
              "8    305     451     3.0  886324817\n",
              "9      6      86     3.0  883603013"
            ]
          },
          "metadata": {
            "tags": []
          },
          "execution_count": 11
        }
      ]
    },
    {
      "cell_type": "code",
      "metadata": {
        "id": "ct5nEgFweTil"
      },
      "source": [
        "# Split the dataset\n",
        "train_valid_df, test_df = python_stratified_split(\n",
        "    ratings_df, \n",
        "    ratio=0.75, \n",
        "    min_rating=1, \n",
        "    filter_by=\"item\", \n",
        "    col_user=USER, \n",
        "    col_item=ITEM\n",
        ")"
      ],
      "execution_count": 12,
      "outputs": []
    },
    {
      "cell_type": "code",
      "metadata": {
        "id": "neuJk2Fzq9xs",
        "colab": {
          "base_uri": "https://localhost:8080/",
          "height": 80
        },
        "outputId": "119b17f0-6d06-473a-ef66-b32ae31593ae"
      },
      "source": [
        "train_valid_df[(train_valid_df['MovieId']=='221') & (train_valid_df['UserId']=='321')]"
      ],
      "execution_count": 13,
      "outputs": [
        {
          "output_type": "execute_result",
          "data": {
            "text/html": [
              "<div>\n",
              "<style scoped>\n",
              "    .dataframe tbody tr th:only-of-type {\n",
              "        vertical-align: middle;\n",
              "    }\n",
              "\n",
              "    .dataframe tbody tr th {\n",
              "        vertical-align: top;\n",
              "    }\n",
              "\n",
              "    .dataframe thead th {\n",
              "        text-align: right;\n",
              "    }\n",
              "</style>\n",
              "<table border=\"1\" class=\"dataframe\">\n",
              "  <thead>\n",
              "    <tr style=\"text-align: right;\">\n",
              "      <th></th>\n",
              "      <th>UserId</th>\n",
              "      <th>MovieId</th>\n",
              "      <th>Rating</th>\n",
              "      <th>Timestamp</th>\n",
              "    </tr>\n",
              "  </thead>\n",
              "  <tbody>\n",
              "    <tr>\n",
              "      <th>82400</th>\n",
              "      <td>321</td>\n",
              "      <td>221</td>\n",
              "      <td>5.0</td>\n",
              "      <td>879438793</td>\n",
              "    </tr>\n",
              "  </tbody>\n",
              "</table>\n",
              "</div>"
            ],
            "text/plain": [
              "      UserId MovieId  Rating  Timestamp\n",
              "82400    321     221     5.0  879438793"
            ]
          },
          "metadata": {
            "tags": []
          },
          "execution_count": 13
        }
      ]
    },
    {
      "cell_type": "code",
      "metadata": {
        "id": "Tq97G2KKeVx-"
      },
      "source": [
        "##Training"
      ],
      "execution_count": 14,
      "outputs": []
    },
    {
      "cell_type": "code",
      "metadata": {
        "id": "jvcAr2B5em_4"
      },
      "source": [
        "# fix random seeds to make sure our runs are reproducible\n",
        "np.random.seed(101)\n",
        "torch.manual_seed(101)\n",
        "torch.cuda.manual_seed_all(101)"
      ],
      "execution_count": 15,
      "outputs": []
    },
    {
      "cell_type": "code",
      "metadata": {
        "id": "VzdlRl0FeuJP"
      },
      "source": [
        "start_time = time.time()\n",
        "\n",
        "data = CollabDataBunch.from_df(train_valid_df, user_name=USER, item_name=ITEM, rating_name=RATING, valid_pct=0)\n",
        "\n",
        "preprocess_time = time.time() - start_time"
      ],
      "execution_count": 16,
      "outputs": []
    },
    {
      "cell_type": "code",
      "metadata": {
        "id": "KqQb2QHcevv5",
        "colab": {
          "base_uri": "https://localhost:8080/",
          "height": 204
        },
        "outputId": "d4988eef-066e-47be-c9cf-1a4bc605eb9d"
      },
      "source": [
        "data.show_batch()"
      ],
      "execution_count": 17,
      "outputs": [
        {
          "output_type": "display_data",
          "data": {
            "text/html": [
              "<table border=\"1\" class=\"dataframe\">\n",
              "  <thead>\n",
              "    <tr style=\"text-align: right;\">\n",
              "      <th>UserId</th>\n",
              "      <th>MovieId</th>\n",
              "      <th>target</th>\n",
              "    </tr>\n",
              "  </thead>\n",
              "  <tbody>\n",
              "    <tr>\n",
              "      <td>48</td>\n",
              "      <td>423</td>\n",
              "      <td>4.0</td>\n",
              "    </tr>\n",
              "    <tr>\n",
              "      <td>210</td>\n",
              "      <td>187</td>\n",
              "      <td>5.0</td>\n",
              "    </tr>\n",
              "    <tr>\n",
              "      <td>219</td>\n",
              "      <td>303</td>\n",
              "      <td>4.0</td>\n",
              "    </tr>\n",
              "    <tr>\n",
              "      <td>1</td>\n",
              "      <td>124</td>\n",
              "      <td>5.0</td>\n",
              "    </tr>\n",
              "    <tr>\n",
              "      <td>92</td>\n",
              "      <td>925</td>\n",
              "      <td>3.0</td>\n",
              "    </tr>\n",
              "  </tbody>\n",
              "</table>"
            ],
            "text/plain": [
              "<IPython.core.display.HTML object>"
            ]
          },
          "metadata": {
            "tags": []
          }
        }
      ]
    },
    {
      "cell_type": "code",
      "metadata": {
        "id": "Rej9RU5oexav",
        "colab": {
          "base_uri": "https://localhost:8080/"
        },
        "outputId": "435dbebe-528f-4d38-f6d2-b54bd16f051f"
      },
      "source": [
        "learn = collab_learner(data, n_factors=N_FACTORS, y_range=[0,5.5], wd=1e-1)\n",
        "learn.model"
      ],
      "execution_count": 18,
      "outputs": [
        {
          "output_type": "execute_result",
          "data": {
            "text/plain": [
              "EmbeddingDotBias(\n",
              "  (u_weight): Embedding(944, 40)\n",
              "  (i_weight): Embedding(1683, 40)\n",
              "  (u_bias): Embedding(944, 1)\n",
              "  (i_bias): Embedding(1683, 1)\n",
              ")"
            ]
          },
          "metadata": {
            "tags": []
          },
          "execution_count": 18
        }
      ]
    },
    {
      "cell_type": "code",
      "metadata": {
        "id": "3pMNXb4oe026",
        "colab": {
          "base_uri": "https://localhost:8080/",
          "height": 221
        },
        "outputId": "39c501c9-c756-445f-a463-5a928c81ab75"
      },
      "source": [
        "start_time = time.time()\n",
        "\n",
        "learn.fit_one_cycle(EPOCHS, max_lr=5e-3)\n",
        "\n",
        "train_time = time.time() - start_time + preprocess_time\n",
        "print(\"Took {} seconds for training.\".format(train_time))"
      ],
      "execution_count": 19,
      "outputs": [
        {
          "output_type": "display_data",
          "data": {
            "text/html": [
              "<table border=\"1\" class=\"dataframe\">\n",
              "  <thead>\n",
              "    <tr style=\"text-align: left;\">\n",
              "      <th>epoch</th>\n",
              "      <th>train_loss</th>\n",
              "      <th>valid_loss</th>\n",
              "      <th>time</th>\n",
              "    </tr>\n",
              "  </thead>\n",
              "  <tbody>\n",
              "    <tr>\n",
              "      <td>0</td>\n",
              "      <td>0.937871</td>\n",
              "      <td>#na#</td>\n",
              "      <td>00:08</td>\n",
              "    </tr>\n",
              "    <tr>\n",
              "      <td>1</td>\n",
              "      <td>0.877238</td>\n",
              "      <td>#na#</td>\n",
              "      <td>00:08</td>\n",
              "    </tr>\n",
              "    <tr>\n",
              "      <td>2</td>\n",
              "      <td>0.772738</td>\n",
              "      <td>#na#</td>\n",
              "      <td>00:08</td>\n",
              "    </tr>\n",
              "    <tr>\n",
              "      <td>3</td>\n",
              "      <td>0.652344</td>\n",
              "      <td>#na#</td>\n",
              "      <td>00:07</td>\n",
              "    </tr>\n",
              "    <tr>\n",
              "      <td>4</td>\n",
              "      <td>0.536503</td>\n",
              "      <td>#na#</td>\n",
              "      <td>00:08</td>\n",
              "    </tr>\n",
              "  </tbody>\n",
              "</table>"
            ],
            "text/plain": [
              "<IPython.core.display.HTML object>"
            ]
          },
          "metadata": {
            "tags": []
          }
        },
        {
          "output_type": "stream",
          "text": [
            "Took 40.370789527893066 seconds for training.\n"
          ],
          "name": "stdout"
        }
      ]
    },
    {
      "cell_type": "code",
      "metadata": {
        "id": "d7fkybR3e2r6"
      },
      "source": [
        "learn.export('movielens_model.pkl')"
      ],
      "execution_count": 20,
      "outputs": []
    },
    {
      "cell_type": "code",
      "metadata": {
        "id": "M7XWMi7VfBdM"
      },
      "source": [
        "learner = load_learner(path=\".\", file = 'movielens_model.pkl')"
      ],
      "execution_count": 21,
      "outputs": []
    },
    {
      "cell_type": "code",
      "metadata": {
        "id": "Zum95OD-fEGT"
      },
      "source": [
        "total_users, total_items = learner.data.train_ds.x.classes.values()\n",
        "total_items = total_items[1:]\n",
        "total_users = total_users[1:]"
      ],
      "execution_count": 22,
      "outputs": []
    },
    {
      "cell_type": "code",
      "metadata": {
        "id": "CU4lmNS2G_EJ",
        "colab": {
          "base_uri": "https://localhost:8080/"
        },
        "outputId": "cabbb282-2c3f-418e-939b-2d405edb783c"
      },
      "source": [
        "print(total_users,total_items)"
      ],
      "execution_count": 23,
      "outputs": [
        {
          "output_type": "stream",
          "text": [
            "['1' '10' '100' '101' ... '96' '97' '98' '99'] ['1' '10' '100' '1000' ... '996' '997' '998' '999']\n"
          ],
          "name": "stdout"
        }
      ]
    },
    {
      "cell_type": "code",
      "metadata": {
        "id": "iHF_NIY8hflx"
      },
      "source": [
        "test_users = test_df[USER].unique()\n",
        "test_users = np.intersect1d(test_users, total_users)"
      ],
      "execution_count": 24,
      "outputs": []
    },
    {
      "cell_type": "code",
      "metadata": {
        "id": "lzM_BEh6hhYq"
      },
      "source": [
        "users_items = cartesian_product(np.array(test_users),np.array(total_items))\n",
        "users_items = pd.DataFrame(users_items, columns=[USER,ITEM])"
      ],
      "execution_count": 25,
      "outputs": []
    },
    {
      "cell_type": "code",
      "metadata": {
        "id": "YEwApbv5hkTc"
      },
      "source": [
        "training_removed = pd.merge(users_items, train_valid_df.astype(str), on=[USER, ITEM], how='left')\n",
        "training_removed = training_removed[training_removed[RATING].isna()][[USER, ITEM]]"
      ],
      "execution_count": 26,
      "outputs": []
    },
    {
      "cell_type": "code",
      "metadata": {
        "id": "Wo0D8SZ0hmdz",
        "colab": {
          "base_uri": "https://localhost:8080/"
        },
        "outputId": "c028c0c8-8abf-4c88-8a25-d3aa0fb13983"
      },
      "source": [
        "start_time = time.time()\n",
        "\n",
        "top_k_scores = score(learner, \n",
        "                     test_df=training_removed,\n",
        "                     user_col=USER, \n",
        "                     item_col=ITEM, \n",
        "                     prediction_col=PREDICTION)\n",
        "\n",
        "test_time = time.time() - start_time\n",
        "print(\"Took {} seconds for {} predictions.\".format(test_time, len(training_removed)))"
      ],
      "execution_count": 27,
      "outputs": [
        {
          "output_type": "stream",
          "text": [
            "Took 2.0667576789855957 seconds for 1511060 predictions.\n"
          ],
          "name": "stdout"
        }
      ]
    },
    {
      "cell_type": "code",
      "metadata": {
        "id": "GXL7x0vdHRxe",
        "colab": {
          "base_uri": "https://localhost:8080/",
          "height": 80
        },
        "outputId": "e758c519-3f7b-4075-a5dd-644d3d260a40"
      },
      "source": [
        "top_k_scores[(top_k_scores['UserId']=='2') & (top_k_scores['MovieId']=='318')]"
      ],
      "execution_count": 28,
      "outputs": [
        {
          "output_type": "execute_result",
          "data": {
            "text/html": [
              "<div>\n",
              "<style scoped>\n",
              "    .dataframe tbody tr th:only-of-type {\n",
              "        vertical-align: middle;\n",
              "    }\n",
              "\n",
              "    .dataframe tbody tr th {\n",
              "        vertical-align: top;\n",
              "    }\n",
              "\n",
              "    .dataframe thead th {\n",
              "        text-align: right;\n",
              "    }\n",
              "</style>\n",
              "<table border=\"1\" class=\"dataframe\">\n",
              "  <thead>\n",
              "    <tr style=\"text-align: right;\">\n",
              "      <th></th>\n",
              "      <th>UserId</th>\n",
              "      <th>MovieId</th>\n",
              "      <th>Prediction</th>\n",
              "    </tr>\n",
              "  </thead>\n",
              "  <tbody>\n",
              "    <tr>\n",
              "      <th>187628</th>\n",
              "      <td>2</td>\n",
              "      <td>318</td>\n",
              "      <td>4.797019</td>\n",
              "    </tr>\n",
              "  </tbody>\n",
              "</table>\n",
              "</div>"
            ],
            "text/plain": [
              "       UserId MovieId  Prediction\n",
              "187628      2     318    4.797019"
            ]
          },
          "metadata": {
            "tags": []
          },
          "execution_count": 28
        }
      ]
    },
    {
      "cell_type": "code",
      "metadata": {
        "id": "dSUR2gzohoxP"
      },
      "source": [
        "eval_map = map_at_k(test_df, top_k_scores, col_user=USER, col_item=ITEM, \n",
        "                    col_rating=RATING, col_prediction=PREDICTION, \n",
        "                    relevancy_method=\"top_k\", k=TOP_K)"
      ],
      "execution_count": 29,
      "outputs": []
    },
    {
      "cell_type": "code",
      "metadata": {
        "id": "pT-uN8u0hsk2"
      },
      "source": [
        "eval_ndcg = ndcg_at_k(test_df, top_k_scores, col_user=USER, col_item=ITEM, \n",
        "                      col_rating=RATING, col_prediction=PREDICTION, \n",
        "                      relevancy_method=\"top_k\", k=TOP_K)"
      ],
      "execution_count": 30,
      "outputs": []
    },
    {
      "cell_type": "code",
      "metadata": {
        "id": "D7k4wRUehulX"
      },
      "source": [
        "eval_precision = precision_at_k(test_df, top_k_scores, col_user=USER, col_item=ITEM, \n",
        "                                col_rating=RATING, col_prediction=PREDICTION, \n",
        "                                relevancy_method=\"top_k\", k=TOP_K)"
      ],
      "execution_count": 31,
      "outputs": []
    },
    {
      "cell_type": "code",
      "metadata": {
        "id": "pSFdA2qThxIH"
      },
      "source": [
        "\n",
        "eval_recall = recall_at_k(test_df, top_k_scores, col_user=USER, col_item=ITEM, \n",
        "                          col_rating=RATING, col_prediction=PREDICTION, \n",
        "                          relevancy_method=\"top_k\", k=TOP_K)"
      ],
      "execution_count": 32,
      "outputs": []
    },
    {
      "cell_type": "code",
      "metadata": {
        "id": "MuUEtbuWhzeJ",
        "colab": {
          "base_uri": "https://localhost:8080/"
        },
        "outputId": "76eb01b1-a566-4264-e1d5-0fc3b78f65fb"
      },
      "source": [
        "\n",
        "print(\"Model:\\t\" + learn.__class__.__name__,\n",
        "      \"Top K:\\t%d\" % TOP_K,\n",
        "      \"MAP:\\t%f\" % eval_map,\n",
        "      \"NDCG:\\t%f\" % eval_ndcg,\n",
        "      \"Precision@K:\\t%f\" % eval_precision,\n",
        "      \"Recall@K:\\t%f\" % eval_recall, sep='\\n')"
      ],
      "execution_count": 33,
      "outputs": [
        {
          "output_type": "stream",
          "text": [
            "Model:\tCollabLearner\n",
            "Top K:\t10\n",
            "MAP:\t0.027680\n",
            "NDCG:\t0.158812\n",
            "Precision@K:\t0.139661\n",
            "Recall@K:\t0.057563\n"
          ],
          "name": "stdout"
        }
      ]
    },
    {
      "cell_type": "code",
      "metadata": {
        "id": "BX8Se9c6h19a"
      },
      "source": [
        "scores = score(learner, \n",
        "               test_df=test_df.copy(), \n",
        "               user_col=USER, \n",
        "               item_col=ITEM, \n",
        "               prediction_col=PREDICTION)"
      ],
      "execution_count": 34,
      "outputs": []
    },
    {
      "cell_type": "code",
      "metadata": {
        "id": "y4Hh3KnSh78D",
        "colab": {
          "base_uri": "https://localhost:8080/"
        },
        "outputId": "c0532793-435e-4ff4-8e55-3cc11c587c84"
      },
      "source": [
        "\n",
        "eval_r2 = rsquared(test_df, scores, col_user=USER, col_item=ITEM, col_rating=RATING, col_prediction=PREDICTION)\n",
        "eval_rmse = rmse(test_df, scores, col_user=USER, col_item=ITEM, col_rating=RATING, col_prediction=PREDICTION)\n",
        "eval_mae = mae(test_df, scores, col_user=USER, col_item=ITEM, col_rating=RATING, col_prediction=PREDICTION)\n",
        "eval_exp_var = exp_var(test_df, scores, col_user=USER, col_item=ITEM, col_rating=RATING, col_prediction=PREDICTION)\n",
        "\n",
        "print(\"Model:\\t\" + learn.__class__.__name__,\n",
        "      \"RMSE:\\t%f\" % eval_rmse,\n",
        "      \"MAE:\\t%f\" % eval_mae,\n",
        "      \"Explained variance:\\t%f\" % eval_exp_var,\n",
        "      \"R squared:\\t%f\" % eval_r2, sep='\\n')"
      ],
      "execution_count": 35,
      "outputs": [
        {
          "output_type": "stream",
          "text": [
            "Model:\tCollabLearner\n",
            "RMSE:\t0.902230\n",
            "MAE:\t0.712558\n",
            "Explained variance:\t0.346533\n",
            "R squared:\t0.345887\n"
          ],
          "name": "stdout"
        }
      ]
    },
    {
      "cell_type": "code",
      "metadata": {
        "id": "UOR9mka6jkDd",
        "colab": {
          "base_uri": "https://localhost:8080/"
        },
        "outputId": "fd665496-f3d1-41c9-b825-d22222788c5b"
      },
      "source": [
        "pip install nteract-scrapbook"
      ],
      "execution_count": 36,
      "outputs": [
        {
          "output_type": "stream",
          "text": [
            "Collecting nteract-scrapbook\n",
            "\u001b[?25l  Downloading https://files.pythonhosted.org/packages/2d/06/c026c536ee7f671540836ba44e686edfbb1d50981db774fd16d336515664/nteract_scrapbook-0.4.1-py3-none-any.whl (265kB)\n",
            "\r\u001b[K     |█▎                              | 10kB 21.8MB/s eta 0:00:01\r\u001b[K     |██▌                             | 20kB 26.4MB/s eta 0:00:01\r\u001b[K     |███▊                            | 30kB 19.7MB/s eta 0:00:01\r\u001b[K     |█████                           | 40kB 19.5MB/s eta 0:00:01\r\u001b[K     |██████▏                         | 51kB 20.1MB/s eta 0:00:01\r\u001b[K     |███████▍                        | 61kB 22.1MB/s eta 0:00:01\r\u001b[K     |████████▋                       | 71kB 23.6MB/s eta 0:00:01\r\u001b[K     |█████████▉                      | 81kB 25.0MB/s eta 0:00:01\r\u001b[K     |███████████                     | 92kB 23.7MB/s eta 0:00:01\r\u001b[K     |████████████▍                   | 102kB 25.0MB/s eta 0:00:01\r\u001b[K     |█████████████▋                  | 112kB 25.0MB/s eta 0:00:01\r\u001b[K     |██████████████▉                 | 122kB 25.0MB/s eta 0:00:01\r\u001b[K     |████████████████                | 133kB 25.0MB/s eta 0:00:01\r\u001b[K     |█████████████████▎              | 143kB 25.0MB/s eta 0:00:01\r\u001b[K     |██████████████████▌             | 153kB 25.0MB/s eta 0:00:01\r\u001b[K     |███████████████████▊            | 163kB 25.0MB/s eta 0:00:01\r\u001b[K     |█████████████████████           | 174kB 25.0MB/s eta 0:00:01\r\u001b[K     |██████████████████████▏         | 184kB 25.0MB/s eta 0:00:01\r\u001b[K     |███████████████████████▌        | 194kB 25.0MB/s eta 0:00:01\r\u001b[K     |████████████████████████▊       | 204kB 25.0MB/s eta 0:00:01\r\u001b[K     |██████████████████████████      | 215kB 25.0MB/s eta 0:00:01\r\u001b[K     |███████████████████████████▏    | 225kB 25.0MB/s eta 0:00:01\r\u001b[K     |████████████████████████████▍   | 235kB 25.0MB/s eta 0:00:01\r\u001b[K     |█████████████████████████████▋  | 245kB 25.0MB/s eta 0:00:01\r\u001b[K     |██████████████████████████████▉ | 256kB 25.0MB/s eta 0:00:01\r\u001b[K     |████████████████████████████████| 266kB 25.0MB/s \n",
            "\u001b[?25hRequirement already satisfied: papermill in /usr/local/lib/python3.6/dist-packages (from nteract-scrapbook) (2.2.2)\n",
            "Requirement already satisfied: jsonschema in /usr/local/lib/python3.6/dist-packages (from nteract-scrapbook) (2.6.0)\n",
            "Requirement already satisfied: pyarrow in /usr/local/lib/python3.6/dist-packages (from nteract-scrapbook) (0.14.1)\n",
            "Requirement already satisfied: pandas in /usr/local/lib/python3.6/dist-packages (from nteract-scrapbook) (1.1.4)\n",
            "Requirement already satisfied: ipython in /usr/local/lib/python3.6/dist-packages (from nteract-scrapbook) (5.5.0)\n",
            "Requirement already satisfied: entrypoints in /usr/local/lib/python3.6/dist-packages (from papermill->nteract-scrapbook) (0.3)\n",
            "Requirement already satisfied: click in /usr/local/lib/python3.6/dist-packages (from papermill->nteract-scrapbook) (7.1.2)\n",
            "Requirement already satisfied: tqdm>=4.32.2 in /usr/local/lib/python3.6/dist-packages (from papermill->nteract-scrapbook) (4.41.1)\n",
            "Requirement already satisfied: nbclient>=0.2.0 in /usr/local/lib/python3.6/dist-packages (from papermill->nteract-scrapbook) (0.5.1)\n",
            "Requirement already satisfied: requests in /usr/local/lib/python3.6/dist-packages (from papermill->nteract-scrapbook) (2.23.0)\n",
            "Requirement already satisfied: black in /usr/local/lib/python3.6/dist-packages (from papermill->nteract-scrapbook) (20.8b1)\n",
            "Requirement already satisfied: nbformat in /usr/local/lib/python3.6/dist-packages (from papermill->nteract-scrapbook) (5.0.8)\n",
            "Requirement already satisfied: pyyaml in /usr/local/lib/python3.6/dist-packages (from papermill->nteract-scrapbook) (3.13)\n",
            "Requirement already satisfied: ansiwrap in /usr/local/lib/python3.6/dist-packages (from papermill->nteract-scrapbook) (0.8.4)\n",
            "Requirement already satisfied: tenacity in /usr/local/lib/python3.6/dist-packages (from papermill->nteract-scrapbook) (6.2.0)\n",
            "Requirement already satisfied: six>=1.0.0 in /usr/local/lib/python3.6/dist-packages (from pyarrow->nteract-scrapbook) (1.15.0)\n",
            "Requirement already satisfied: numpy>=1.14 in /usr/local/lib/python3.6/dist-packages (from pyarrow->nteract-scrapbook) (1.18.5)\n",
            "Requirement already satisfied: python-dateutil>=2.7.3 in /usr/local/lib/python3.6/dist-packages (from pandas->nteract-scrapbook) (2.8.1)\n",
            "Requirement already satisfied: pytz>=2017.2 in /usr/local/lib/python3.6/dist-packages (from pandas->nteract-scrapbook) (2018.9)\n",
            "Requirement already satisfied: pickleshare in /usr/local/lib/python3.6/dist-packages (from ipython->nteract-scrapbook) (0.7.5)\n",
            "Requirement already satisfied: pygments in /usr/local/lib/python3.6/dist-packages (from ipython->nteract-scrapbook) (2.6.1)\n",
            "Requirement already satisfied: traitlets>=4.2 in /usr/local/lib/python3.6/dist-packages (from ipython->nteract-scrapbook) (4.3.3)\n",
            "Requirement already satisfied: pexpect; sys_platform != \"win32\" in /usr/local/lib/python3.6/dist-packages (from ipython->nteract-scrapbook) (4.8.0)\n",
            "Requirement already satisfied: decorator in /usr/local/lib/python3.6/dist-packages (from ipython->nteract-scrapbook) (4.4.2)\n",
            "Requirement already satisfied: setuptools>=18.5 in /usr/local/lib/python3.6/dist-packages (from ipython->nteract-scrapbook) (50.3.2)\n",
            "Requirement already satisfied: simplegeneric>0.8 in /usr/local/lib/python3.6/dist-packages (from ipython->nteract-scrapbook) (0.8.1)\n",
            "Requirement already satisfied: prompt-toolkit<2.0.0,>=1.0.4 in /usr/local/lib/python3.6/dist-packages (from ipython->nteract-scrapbook) (1.0.18)\n",
            "Requirement already satisfied: async-generator in /usr/local/lib/python3.6/dist-packages (from nbclient>=0.2.0->papermill->nteract-scrapbook) (1.10)\n",
            "Requirement already satisfied: jupyter-client>=6.1.5 in /usr/local/lib/python3.6/dist-packages (from nbclient>=0.2.0->papermill->nteract-scrapbook) (6.1.7)\n",
            "Requirement already satisfied: nest-asyncio in /usr/local/lib/python3.6/dist-packages (from nbclient>=0.2.0->papermill->nteract-scrapbook) (1.4.3)\n",
            "Requirement already satisfied: chardet<4,>=3.0.2 in /usr/local/lib/python3.6/dist-packages (from requests->papermill->nteract-scrapbook) (3.0.4)\n",
            "Requirement already satisfied: urllib3!=1.25.0,!=1.25.1,<1.26,>=1.21.1 in /usr/local/lib/python3.6/dist-packages (from requests->papermill->nteract-scrapbook) (1.24.3)\n",
            "Requirement already satisfied: certifi>=2017.4.17 in /usr/local/lib/python3.6/dist-packages (from requests->papermill->nteract-scrapbook) (2020.6.20)\n",
            "Requirement already satisfied: idna<3,>=2.5 in /usr/local/lib/python3.6/dist-packages (from requests->papermill->nteract-scrapbook) (2.10)\n",
            "Requirement already satisfied: mypy-extensions>=0.4.3 in /usr/local/lib/python3.6/dist-packages (from black->papermill->nteract-scrapbook) (0.4.3)\n",
            "Requirement already satisfied: dataclasses>=0.6; python_version < \"3.7\" in /usr/local/lib/python3.6/dist-packages (from black->papermill->nteract-scrapbook) (0.7)\n",
            "Requirement already satisfied: typed-ast>=1.4.0 in /usr/local/lib/python3.6/dist-packages (from black->papermill->nteract-scrapbook) (1.4.1)\n",
            "Requirement already satisfied: typing-extensions>=3.7.4 in /usr/local/lib/python3.6/dist-packages (from black->papermill->nteract-scrapbook) (3.7.4.3)\n",
            "Requirement already satisfied: appdirs in /usr/local/lib/python3.6/dist-packages (from black->papermill->nteract-scrapbook) (1.4.4)\n",
            "Requirement already satisfied: regex>=2020.1.8 in /usr/local/lib/python3.6/dist-packages (from black->papermill->nteract-scrapbook) (2020.11.13)\n",
            "Requirement already satisfied: toml>=0.10.1 in /usr/local/lib/python3.6/dist-packages (from black->papermill->nteract-scrapbook) (0.10.2)\n",
            "Requirement already satisfied: pathspec<1,>=0.6 in /usr/local/lib/python3.6/dist-packages (from black->papermill->nteract-scrapbook) (0.8.1)\n",
            "Requirement already satisfied: ipython-genutils in /usr/local/lib/python3.6/dist-packages (from nbformat->papermill->nteract-scrapbook) (0.2.0)\n",
            "Requirement already satisfied: jupyter-core in /usr/local/lib/python3.6/dist-packages (from nbformat->papermill->nteract-scrapbook) (4.6.3)\n",
            "Requirement already satisfied: textwrap3>=0.9.2 in /usr/local/lib/python3.6/dist-packages (from ansiwrap->papermill->nteract-scrapbook) (0.9.2)\n",
            "Requirement already satisfied: ptyprocess>=0.5 in /usr/local/lib/python3.6/dist-packages (from pexpect; sys_platform != \"win32\"->ipython->nteract-scrapbook) (0.6.0)\n",
            "Requirement already satisfied: wcwidth in /usr/local/lib/python3.6/dist-packages (from prompt-toolkit<2.0.0,>=1.0.4->ipython->nteract-scrapbook) (0.2.5)\n",
            "Requirement already satisfied: pyzmq>=13 in /usr/local/lib/python3.6/dist-packages (from jupyter-client>=6.1.5->nbclient>=0.2.0->papermill->nteract-scrapbook) (19.0.2)\n",
            "Requirement already satisfied: tornado>=4.1 in /usr/local/lib/python3.6/dist-packages (from jupyter-client>=6.1.5->nbclient>=0.2.0->papermill->nteract-scrapbook) (5.1.1)\n",
            "Installing collected packages: nteract-scrapbook\n",
            "Successfully installed nteract-scrapbook-0.4.1\n"
          ],
          "name": "stdout"
        }
      ]
    },
    {
      "cell_type": "code",
      "metadata": {
        "id": "djPWvjHph_JD",
        "colab": {
          "base_uri": "https://localhost:8080/",
          "height": 17
        },
        "outputId": "d40db808-e4e7-43cf-f6ac-cba1cf90e5ff"
      },
      "source": [
        "import scrapbook as sc\n",
        "# Record results with papermill for tests\n",
        "sc.glue(\"map\", eval_map)\n",
        "sc.glue(\"ndcg\", eval_ndcg)\n",
        "sc.glue(\"precision\", eval_precision)\n",
        "sc.glue(\"recall\", eval_recall)\n",
        "sc.glue(\"rmse\", eval_rmse)\n",
        "sc.glue(\"mae\", eval_mae)\n",
        "sc.glue(\"exp_var\", eval_exp_var)\n",
        "sc.glue(\"rsquared\", eval_r2)\n",
        "sc.glue(\"train_time\", train_time)\n",
        "sc.glue(\"test_time\", test_time)"
      ],
      "execution_count": 37,
      "outputs": [
        {
          "output_type": "display_data",
          "data": {
            "application/scrapbook.scrap.json+json": {
              "version": 1,
              "data": 0.027680044544179286,
              "name": "map",
              "encoder": "json"
            }
          },
          "metadata": {
            "tags": [],
            "scrapbook": {
              "data": true,
              "name": "map",
              "display": false
            }
          }
        },
        {
          "output_type": "display_data",
          "data": {
            "application/scrapbook.scrap.json+json": {
              "version": 1,
              "data": 0.1588123076990557,
              "name": "ndcg",
              "encoder": "json"
            }
          },
          "metadata": {
            "tags": [],
            "scrapbook": {
              "data": true,
              "name": "ndcg",
              "display": false
            }
          }
        },
        {
          "output_type": "display_data",
          "data": {
            "application/scrapbook.scrap.json+json": {
              "version": 1,
              "data": 0.13966065747613995,
              "name": "precision",
              "encoder": "json"
            }
          },
          "metadata": {
            "tags": [],
            "scrapbook": {
              "data": true,
              "name": "precision",
              "display": false
            }
          }
        },
        {
          "output_type": "display_data",
          "data": {
            "application/scrapbook.scrap.json+json": {
              "version": 1,
              "data": 0.05756329495350074,
              "name": "recall",
              "encoder": "json"
            }
          },
          "metadata": {
            "tags": [],
            "scrapbook": {
              "data": true,
              "name": "recall",
              "display": false
            }
          }
        },
        {
          "output_type": "display_data",
          "data": {
            "application/scrapbook.scrap.json+json": {
              "version": 1,
              "data": 0.9022304905554323,
              "name": "rmse",
              "encoder": "json"
            }
          },
          "metadata": {
            "tags": [],
            "scrapbook": {
              "data": true,
              "name": "rmse",
              "display": false
            }
          }
        },
        {
          "output_type": "display_data",
          "data": {
            "application/scrapbook.scrap.json+json": {
              "version": 1,
              "data": 0.7125582958416156,
              "name": "mae",
              "encoder": "json"
            }
          },
          "metadata": {
            "tags": [],
            "scrapbook": {
              "data": true,
              "name": "mae",
              "display": false
            }
          }
        },
        {
          "output_type": "display_data",
          "data": {
            "application/scrapbook.scrap.json+json": {
              "version": 1,
              "data": 0.34653328414404316,
              "name": "exp_var",
              "encoder": "json"
            }
          },
          "metadata": {
            "tags": [],
            "scrapbook": {
              "data": true,
              "name": "exp_var",
              "display": false
            }
          }
        },
        {
          "output_type": "display_data",
          "data": {
            "application/scrapbook.scrap.json+json": {
              "version": 1,
              "data": 0.34588745793012965,
              "name": "rsquared",
              "encoder": "json"
            }
          },
          "metadata": {
            "tags": [],
            "scrapbook": {
              "data": true,
              "name": "rsquared",
              "display": false
            }
          }
        },
        {
          "output_type": "display_data",
          "data": {
            "application/scrapbook.scrap.json+json": {
              "version": 1,
              "data": 40.370789527893066,
              "name": "train_time",
              "encoder": "json"
            }
          },
          "metadata": {
            "tags": [],
            "scrapbook": {
              "data": true,
              "name": "train_time",
              "display": false
            }
          }
        },
        {
          "output_type": "display_data",
          "data": {
            "application/scrapbook.scrap.json+json": {
              "version": 1,
              "data": 2.0667576789855957,
              "name": "test_time",
              "encoder": "json"
            }
          },
          "metadata": {
            "tags": [],
            "scrapbook": {
              "data": true,
              "name": "test_time",
              "display": false
            }
          }
        }
      ]
    },
    {
      "cell_type": "code",
      "metadata": {
        "id": "FuYsCW4UiBSn"
      },
      "source": [
        ""
      ],
      "execution_count": null,
      "outputs": []
    },
    {
      "cell_type": "code",
      "metadata": {
        "id": "LvwI4x4tXtiv"
      },
      "source": [
        ""
      ],
      "execution_count": null,
      "outputs": []
    }
  ]
}