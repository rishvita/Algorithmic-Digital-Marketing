{
  "nbformat": 4,
  "nbformat_minor": 0,
  "metadata": {
    "colab": {
      "name": "Snack Recommender.ipynb",
      "provenance": [],
      "collapsed_sections": []
    },
    "kernelspec": {
      "name": "python3",
      "display_name": "Python 3"
    },
    "accelerator": "GPU"
  },
  "cells": [
    {
      "cell_type": "code",
      "metadata": {
        "id": "i1jeHnOUUji0",
        "colab": {
          "base_uri": "https://localhost:8080/"
        },
        "outputId": "5f50a7dc-8b03-4ccc-85e7-b8523368f375"
      },
      "source": [
        "from google.colab import drive\n",
        "drive.mount('/content/gdrive')"
      ],
      "execution_count": 1,
      "outputs": [
        {
          "output_type": "stream",
          "text": [
            "Mounted at /content/gdrive\n"
          ],
          "name": "stdout"
        }
      ]
    },
    {
      "cell_type": "code",
      "metadata": {
        "id": "L7qJQHIjWgQF",
        "colab": {
          "base_uri": "https://localhost:8080/"
        },
        "outputId": "59366485-89b6-4269-95e0-71507035dc07"
      },
      "source": [
        "%cd gdrive/My Drive/Project"
      ],
      "execution_count": 2,
      "outputs": [
        {
          "output_type": "stream",
          "text": [
            "/content/gdrive/My Drive/Project\n"
          ],
          "name": "stdout"
        }
      ]
    },
    {
      "cell_type": "code",
      "metadata": {
        "id": "Fsme9QoZWorj",
        "colab": {
          "base_uri": "https://localhost:8080/"
        },
        "outputId": "ba72b0c4-0efe-4ab1-b00b-333cde7ef4ff"
      },
      "source": [
        "! git clone https://github.com/Microsoft/Recommenders"
      ],
      "execution_count": 3,
      "outputs": [
        {
          "output_type": "stream",
          "text": [
            "fatal: destination path 'Recommenders' already exists and is not an empty directory.\n"
          ],
          "name": "stdout"
        }
      ]
    },
    {
      "cell_type": "code",
      "metadata": {
        "id": "Pvz9g_ABXHPN",
        "colab": {
          "base_uri": "https://localhost:8080/",
          "height": 1000
        },
        "outputId": "02fe0913-6d34-457f-8b09-23ac74f43c11"
      },
      "source": [
        "pip install papermill"
      ],
      "execution_count": 4,
      "outputs": [
        {
          "output_type": "stream",
          "text": [
            "Collecting papermill\n",
            "  Downloading https://files.pythonhosted.org/packages/2f/9b/13bc32699675dbb5fa12bc8f046c3a57a4b4f43eb5fe1f1e52034f23bb7f/papermill-2.2.2-py3-none-any.whl\n",
            "Collecting tenacity\n",
            "  Downloading https://files.pythonhosted.org/packages/b5/05/ff089032442058bd3386f9cd991cd88ccac81dca1494d78751621ee35e62/tenacity-6.2.0-py2.py3-none-any.whl\n",
            "Requirement already satisfied: nbclient>=0.2.0 in /usr/local/lib/python3.6/dist-packages (from papermill) (0.5.1)\n",
            "Collecting black\n",
            "\u001b[?25l  Downloading https://files.pythonhosted.org/packages/dc/7b/5a6bbe89de849f28d7c109f5ea87b65afa5124ad615f3419e71beb29dc96/black-20.8b1.tar.gz (1.1MB)\n",
            "\u001b[K     |████████████████████████████████| 1.1MB 10.7MB/s \n",
            "\u001b[?25h  Installing build dependencies ... \u001b[?25l\u001b[?25hdone\n",
            "  Getting requirements to build wheel ... \u001b[?25l\u001b[?25hdone\n",
            "    Preparing wheel metadata ... \u001b[?25l\u001b[?25hdone\n",
            "Requirement already satisfied: pyyaml in /usr/local/lib/python3.6/dist-packages (from papermill) (3.13)\n",
            "Collecting ansiwrap\n",
            "  Downloading https://files.pythonhosted.org/packages/03/50/43e775a63e0d632d9be3b3fa1c9b2cbaf3b7870d203655710a3426f47c26/ansiwrap-0.8.4-py2.py3-none-any.whl\n",
            "Requirement already satisfied: tqdm>=4.32.2 in /usr/local/lib/python3.6/dist-packages (from papermill) (4.41.1)\n",
            "Requirement already satisfied: entrypoints in /usr/local/lib/python3.6/dist-packages (from papermill) (0.3)\n",
            "Requirement already satisfied: click in /usr/local/lib/python3.6/dist-packages (from papermill) (7.1.2)\n",
            "Requirement already satisfied: nbformat in /usr/local/lib/python3.6/dist-packages (from papermill) (5.0.8)\n",
            "Requirement already satisfied: requests in /usr/local/lib/python3.6/dist-packages (from papermill) (2.23.0)\n",
            "Requirement already satisfied: six>=1.9.0 in /usr/local/lib/python3.6/dist-packages (from tenacity->papermill) (1.15.0)\n",
            "Requirement already satisfied: async-generator in /usr/local/lib/python3.6/dist-packages (from nbclient>=0.2.0->papermill) (1.10)\n",
            "Collecting jupyter-client>=6.1.5\n",
            "\u001b[?25l  Downloading https://files.pythonhosted.org/packages/dc/41/9fa443d5ae8907dd8f7d12146cb0092dc053afd67b5b57e7e8786a328547/jupyter_client-6.1.7-py3-none-any.whl (108kB)\n",
            "\u001b[K     |████████████████████████████████| 112kB 22.5MB/s \n",
            "\u001b[?25hRequirement already satisfied: traitlets>=4.2 in /usr/local/lib/python3.6/dist-packages (from nbclient>=0.2.0->papermill) (4.3.3)\n",
            "Requirement already satisfied: nest-asyncio in /usr/local/lib/python3.6/dist-packages (from nbclient>=0.2.0->papermill) (1.4.3)\n",
            "Collecting pathspec<1,>=0.6\n",
            "  Downloading https://files.pythonhosted.org/packages/29/29/a465741a3d97ea3c17d21eaad4c64205428bde56742360876c4391f930d4/pathspec-0.8.1-py2.py3-none-any.whl\n",
            "Collecting regex>=2020.1.8\n",
            "\u001b[?25l  Downloading https://files.pythonhosted.org/packages/0d/8a/3ac62dadb767ace65a5b954265de4031a99b27148fe14b24771f5c2c2dca/regex-2020.11.13-cp36-cp36m-manylinux2014_x86_64.whl (723kB)\n",
            "\u001b[K     |████████████████████████████████| 727kB 18.9MB/s \n",
            "\u001b[?25hCollecting mypy-extensions>=0.4.3\n",
            "  Downloading https://files.pythonhosted.org/packages/5c/eb/975c7c080f3223a5cdaff09612f3a5221e4ba534f7039db34c35d95fa6a5/mypy_extensions-0.4.3-py2.py3-none-any.whl\n",
            "Collecting typed-ast>=1.4.0\n",
            "\u001b[?25l  Downloading https://files.pythonhosted.org/packages/90/ed/5459080d95eb87a02fe860d447197be63b6e2b5e9ff73c2b0a85622994f4/typed_ast-1.4.1-cp36-cp36m-manylinux1_x86_64.whl (737kB)\n",
            "\u001b[K     |████████████████████████████████| 747kB 30.1MB/s \n",
            "\u001b[?25hRequirement already satisfied: dataclasses>=0.6; python_version < \"3.7\" in /usr/local/lib/python3.6/dist-packages (from black->papermill) (0.7)\n",
            "Requirement already satisfied: typing-extensions>=3.7.4 in /usr/local/lib/python3.6/dist-packages (from black->papermill) (3.7.4.3)\n",
            "Requirement already satisfied: toml>=0.10.1 in /usr/local/lib/python3.6/dist-packages (from black->papermill) (0.10.2)\n",
            "Collecting appdirs\n",
            "  Downloading https://files.pythonhosted.org/packages/3b/00/2344469e2084fb287c2e0b57b72910309874c3245463acd6cf5e3db69324/appdirs-1.4.4-py2.py3-none-any.whl\n",
            "Collecting textwrap3>=0.9.2\n",
            "  Downloading https://files.pythonhosted.org/packages/77/9c/a53e561d496ee5866bbeea4d3a850b3b545ed854f8a21007c1e0d872e94d/textwrap3-0.9.2-py2.py3-none-any.whl\n",
            "Requirement already satisfied: ipython-genutils in /usr/local/lib/python3.6/dist-packages (from nbformat->papermill) (0.2.0)\n",
            "Requirement already satisfied: jsonschema!=2.5.0,>=2.4 in /usr/local/lib/python3.6/dist-packages (from nbformat->papermill) (2.6.0)\n",
            "Requirement already satisfied: jupyter-core in /usr/local/lib/python3.6/dist-packages (from nbformat->papermill) (4.6.3)\n",
            "Requirement already satisfied: chardet<4,>=3.0.2 in /usr/local/lib/python3.6/dist-packages (from requests->papermill) (3.0.4)\n",
            "Requirement already satisfied: idna<3,>=2.5 in /usr/local/lib/python3.6/dist-packages (from requests->papermill) (2.10)\n",
            "Requirement already satisfied: urllib3!=1.25.0,!=1.25.1,<1.26,>=1.21.1 in /usr/local/lib/python3.6/dist-packages (from requests->papermill) (1.24.3)\n",
            "Requirement already satisfied: certifi>=2017.4.17 in /usr/local/lib/python3.6/dist-packages (from requests->papermill) (2020.6.20)\n",
            "Requirement already satisfied: tornado>=4.1 in /usr/local/lib/python3.6/dist-packages (from jupyter-client>=6.1.5->nbclient>=0.2.0->papermill) (5.1.1)\n",
            "Requirement already satisfied: pyzmq>=13 in /usr/local/lib/python3.6/dist-packages (from jupyter-client>=6.1.5->nbclient>=0.2.0->papermill) (19.0.2)\n",
            "Requirement already satisfied: python-dateutil>=2.1 in /usr/local/lib/python3.6/dist-packages (from jupyter-client>=6.1.5->nbclient>=0.2.0->papermill) (2.8.1)\n",
            "Requirement already satisfied: decorator in /usr/local/lib/python3.6/dist-packages (from traitlets>=4.2->nbclient>=0.2.0->papermill) (4.4.2)\n",
            "Building wheels for collected packages: black\n",
            "  Building wheel for black (PEP 517) ... \u001b[?25l\u001b[?25hdone\n",
            "  Created wheel for black: filename=black-20.8b1-cp36-none-any.whl size=124186 sha256=4fe1f2d6704bec7143f404b0d65acc3dd7fe5a3a3a7ed12c213e5567a4435a62\n",
            "  Stored in directory: /root/.cache/pip/wheels/6e/10/b5/edf7359c2edd0305cce7e3f96e07daf7ce55dceac9d3ce3373\n",
            "Successfully built black\n",
            "Installing collected packages: tenacity, pathspec, regex, mypy-extensions, typed-ast, appdirs, black, textwrap3, ansiwrap, papermill, jupyter-client\n",
            "  Found existing installation: regex 2019.12.20\n",
            "    Uninstalling regex-2019.12.20:\n",
            "      Successfully uninstalled regex-2019.12.20\n",
            "  Found existing installation: jupyter-client 5.3.5\n",
            "    Uninstalling jupyter-client-5.3.5:\n",
            "      Successfully uninstalled jupyter-client-5.3.5\n",
            "Successfully installed ansiwrap-0.8.4 appdirs-1.4.4 black-20.8b1 jupyter-client-6.1.7 mypy-extensions-0.4.3 papermill-2.2.2 pathspec-0.8.1 regex-2020.11.13 tenacity-6.2.0 textwrap3-0.9.2 typed-ast-1.4.1\n"
          ],
          "name": "stdout"
        },
        {
          "output_type": "display_data",
          "data": {
            "application/vnd.colab-display-data+json": {
              "pip_warning": {
                "packages": [
                  "jupyter_client"
                ]
              }
            }
          },
          "metadata": {
            "tags": []
          }
        }
      ]
    },
    {
      "cell_type": "code",
      "metadata": {
        "id": "Ex7xVyR9d0Hc"
      },
      "source": [
        "import os\n",
        "os.chdir('/content/gdrive/My Drive/Project/Recommenders')"
      ],
      "execution_count": 5,
      "outputs": []
    },
    {
      "cell_type": "code",
      "metadata": {
        "id": "NtjV9C9rWu3g",
        "colab": {
          "base_uri": "https://localhost:8080/"
        },
        "outputId": "94daf2c8-14fa-436b-f4e8-52eb5d3eacb0"
      },
      "source": [
        "import sys\n",
        "sys.path.append(\"../../\")\n",
        "import time\n",
        "import os\n",
        "import matplotlib.pyplot as plt\n",
        "import itertools\n",
        "import pandas as pd\n",
        "import numpy as np\n",
        "import papermill as pm\n",
        "import torch, fastai\n",
        "from fastai.collab import EmbeddingDotBias, collab_learner, CollabDataBunch, load_learner\n",
        "\n",
        "from reco_utils.dataset import movielens\n",
        "from reco_utils.dataset.python_splitters import python_stratified_split\n",
        "from reco_utils.recommender.fastai.fastai_utils import cartesian_product, score\n",
        "from reco_utils.evaluation.python_evaluation import map_at_k, ndcg_at_k, precision_at_k, recall_at_k\n",
        "from reco_utils.evaluation.python_evaluation import rmse, mae, rsquared, exp_var\n",
        "\n",
        "print(\"System version: {}\".format(sys.version))\n",
        "print(\"Pandas version: {}\".format(pd.__version__))\n",
        "print(\"Fast AI version: {}\".format(fastai.__version__))\n",
        "print(\"Torch version: {}\".format(torch.__version__))\n",
        "print(\"Cuda Available: {}\".format(torch.cuda.is_available()))\n",
        "print(\"CuDNN Enabled: {}\".format(torch.backends.cudnn.enabled))"
      ],
      "execution_count": 6,
      "outputs": [
        {
          "output_type": "stream",
          "text": [
            "System version: 3.6.9 (default, Oct  8 2020, 12:12:24) \n",
            "[GCC 8.4.0]\n",
            "Pandas version: 1.1.4\n",
            "Fast AI version: 1.0.61\n",
            "Torch version: 1.7.0+cu101\n",
            "Cuda Available: True\n",
            "CuDNN Enabled: True\n"
          ],
          "name": "stdout"
        }
      ]
    },
    {
      "cell_type": "code",
      "metadata": {
        "id": "MhrtuT2Ii6AM"
      },
      "source": [
        "df = pd.read_csv('Dataset.csv',sep=',')"
      ],
      "execution_count": 7,
      "outputs": []
    },
    {
      "cell_type": "code",
      "metadata": {
        "id": "9OlTguWajICn",
        "colab": {
          "base_uri": "https://localhost:8080/",
          "height": 195
        },
        "outputId": "50040af9-24bd-4bab-a278-92ca0e0f5783"
      },
      "source": [
        "df.head(5)"
      ],
      "execution_count": 8,
      "outputs": [
        {
          "output_type": "execute_result",
          "data": {
            "text/html": [
              "<div>\n",
              "<style scoped>\n",
              "    .dataframe tbody tr th:only-of-type {\n",
              "        vertical-align: middle;\n",
              "    }\n",
              "\n",
              "    .dataframe tbody tr th {\n",
              "        vertical-align: top;\n",
              "    }\n",
              "\n",
              "    .dataframe thead th {\n",
              "        text-align: right;\n",
              "    }\n",
              "</style>\n",
              "<table border=\"1\" class=\"dataframe\">\n",
              "  <thead>\n",
              "    <tr style=\"text-align: right;\">\n",
              "      <th></th>\n",
              "      <th>SnackId</th>\n",
              "      <th>UserId</th>\n",
              "      <th>UserName</th>\n",
              "      <th>Score</th>\n",
              "      <th>Time</th>\n",
              "    </tr>\n",
              "  </thead>\n",
              "  <tbody>\n",
              "    <tr>\n",
              "      <th>0</th>\n",
              "      <td>B001E4KFG0</td>\n",
              "      <td>A3SGXH7AUHU8GW</td>\n",
              "      <td>delmartian</td>\n",
              "      <td>5</td>\n",
              "      <td>1303862400</td>\n",
              "    </tr>\n",
              "    <tr>\n",
              "      <th>1</th>\n",
              "      <td>B00813GRG4</td>\n",
              "      <td>A1D87F6ZCVE5NK</td>\n",
              "      <td>dll pa</td>\n",
              "      <td>1</td>\n",
              "      <td>1346976000</td>\n",
              "    </tr>\n",
              "    <tr>\n",
              "      <th>2</th>\n",
              "      <td>B000LQOCH0</td>\n",
              "      <td>ABXLMWJIXXAIN</td>\n",
              "      <td>Natalia Corres \"Natalia Corres\"</td>\n",
              "      <td>4</td>\n",
              "      <td>1219017600</td>\n",
              "    </tr>\n",
              "    <tr>\n",
              "      <th>3</th>\n",
              "      <td>B000UA0QIQ</td>\n",
              "      <td>A395BORC6FGVXV</td>\n",
              "      <td>Karl</td>\n",
              "      <td>2</td>\n",
              "      <td>1307923200</td>\n",
              "    </tr>\n",
              "    <tr>\n",
              "      <th>4</th>\n",
              "      <td>B006K2ZZ7K</td>\n",
              "      <td>A1UQRSCLF8GW1T</td>\n",
              "      <td>Michael D. Bigham \"M. Wassir\"</td>\n",
              "      <td>5</td>\n",
              "      <td>1350777600</td>\n",
              "    </tr>\n",
              "  </tbody>\n",
              "</table>\n",
              "</div>"
            ],
            "text/plain": [
              "      SnackId          UserId  ... Score        Time\n",
              "0  B001E4KFG0  A3SGXH7AUHU8GW  ...     5  1303862400\n",
              "1  B00813GRG4  A1D87F6ZCVE5NK  ...     1  1346976000\n",
              "2  B000LQOCH0   ABXLMWJIXXAIN  ...     4  1219017600\n",
              "3  B000UA0QIQ  A395BORC6FGVXV  ...     2  1307923200\n",
              "4  B006K2ZZ7K  A1UQRSCLF8GW1T  ...     5  1350777600\n",
              "\n",
              "[5 rows x 5 columns]"
            ]
          },
          "metadata": {
            "tags": []
          },
          "execution_count": 8
        }
      ]
    },
    {
      "cell_type": "code",
      "metadata": {
        "id": "8q_oliwIq-Fx"
      },
      "source": [
        "uni_snacks=df.groupby(['SnackId']).count().reset_index()[df.groupby(['SnackId']).count().reset_index()['UserId']>=80]"
      ],
      "execution_count": 9,
      "outputs": []
    },
    {
      "cell_type": "code",
      "metadata": {
        "id": "3Q7VR0-bj_lF"
      },
      "source": [
        "snack_id = []\n",
        "for i in uni_snacks['SnackId']:\n",
        "  if(len(snack_id)==30):\n",
        "    break\n",
        "  else:\n",
        "    if(i not in snack_id):\n",
        "      snack_id.append(i)\n"
      ],
      "execution_count": 10,
      "outputs": []
    },
    {
      "cell_type": "code",
      "metadata": {
        "id": "VqRjwQVLj_6L"
      },
      "source": [
        "df=df[df['SnackId'].isin(snack_id)]"
      ],
      "execution_count": 11,
      "outputs": []
    },
    {
      "cell_type": "code",
      "metadata": {
        "id": "3FaPu2fJj_-R"
      },
      "source": [
        "from google.colab import files\n",
        "df.to_csv('snacks.csv')"
      ],
      "execution_count": 12,
      "outputs": []
    },
    {
      "cell_type": "code",
      "metadata": {
        "id": "ZtXC_0kxkAYS"
      },
      "source": [
        "df_fastai=df[['UserId','SnackId','Score','Time']]"
      ],
      "execution_count": 13,
      "outputs": []
    },
    {
      "cell_type": "code",
      "metadata": {
        "id": "4O6f0XYLXD7m"
      },
      "source": [
        "USER, ITEM, RATING, TIMESTAMP, PREDICTION = 'UserId', 'SnackId', 'Score', 'Time', 'Prediction'"
      ],
      "execution_count": 14,
      "outputs": []
    },
    {
      "cell_type": "code",
      "metadata": {
        "id": "FkCGY4I7cp8l"
      },
      "source": [
        "# top k items to recommend\n",
        "TOP_K = 10\n",
        "\n",
        "# Select MovieLens data size: 100k, 1m, 10m, or 20m\n",
        "SNACKS_DATA_SIZE = '100k'\n",
        "\n",
        "# Model parameters\n",
        "N_FACTORS = 40\n",
        "EPOCHS = 5"
      ],
      "execution_count": 15,
      "outputs": []
    },
    {
      "cell_type": "code",
      "metadata": {
        "id": "ct5nEgFweTil"
      },
      "source": [
        "# Split the dataset\n",
        "train_valid_df, test_df = python_stratified_split(\n",
        "    df_fastai, \n",
        "    ratio=0.75, \n",
        "    min_rating=1, \n",
        "    filter_by=\"user\", \n",
        "    col_user=USER, \n",
        "    col_item=ITEM\n",
        ")"
      ],
      "execution_count": 16,
      "outputs": []
    },
    {
      "cell_type": "code",
      "metadata": {
        "id": "BSPboLgQV1Hq"
      },
      "source": [
        "test_df.to_csv('test_df.csv')\n",
        "train_valid_df.to_csv('train_valid_df.csv')\n"
      ],
      "execution_count": 17,
      "outputs": []
    },
    {
      "cell_type": "code",
      "metadata": {
        "id": "Tq97G2KKeVx-"
      },
      "source": [
        "##Training"
      ],
      "execution_count": 18,
      "outputs": []
    },
    {
      "cell_type": "code",
      "metadata": {
        "id": "jvcAr2B5em_4"
      },
      "source": [
        "# fix random seeds to make sure our runs are reproducible\n",
        "np.random.seed(101)\n",
        "torch.manual_seed(101)\n",
        "torch.cuda.manual_seed_all(101)"
      ],
      "execution_count": 19,
      "outputs": []
    },
    {
      "cell_type": "code",
      "metadata": {
        "id": "VzdlRl0FeuJP"
      },
      "source": [
        "start_time = time.time()\n",
        "\n",
        "data = CollabDataBunch.from_df(train_valid_df, user_name=USER, item_name=ITEM, rating_name=RATING, valid_pct=0)\n",
        "\n",
        "preprocess_time = time.time() - start_time"
      ],
      "execution_count": 20,
      "outputs": []
    },
    {
      "cell_type": "code",
      "metadata": {
        "id": "KqQb2QHcevv5",
        "colab": {
          "base_uri": "https://localhost:8080/",
          "height": 195
        },
        "outputId": "71513245-9a13-45ab-d0b1-06d46687cf29"
      },
      "source": [
        "data.show_batch()"
      ],
      "execution_count": 21,
      "outputs": [
        {
          "output_type": "display_data",
          "data": {
            "text/html": [
              "<table border=\"1\" class=\"dataframe\">\n",
              "  <thead>\n",
              "    <tr style=\"text-align: right;\">\n",
              "      <th>UserId</th>\n",
              "      <th>SnackId</th>\n",
              "      <th>target</th>\n",
              "    </tr>\n",
              "  </thead>\n",
              "  <tbody>\n",
              "    <tr>\n",
              "      <td>A1Y09QLADQYQJG</td>\n",
              "      <td>B00004RYGX</td>\n",
              "      <td>5.0</td>\n",
              "    </tr>\n",
              "    <tr>\n",
              "      <td>A3TNR97O3KP4Q7</td>\n",
              "      <td>B00004CI84</td>\n",
              "      <td>5.0</td>\n",
              "    </tr>\n",
              "    <tr>\n",
              "      <td>AX1LTHFK5VYJM</td>\n",
              "      <td>B00027CL5S</td>\n",
              "      <td>5.0</td>\n",
              "    </tr>\n",
              "    <tr>\n",
              "      <td>A8891HVRDJAM6</td>\n",
              "      <td>B000084E6V</td>\n",
              "      <td>5.0</td>\n",
              "    </tr>\n",
              "    <tr>\n",
              "      <td>A8CZNLAX7VB49</td>\n",
              "      <td>B00008JOL0</td>\n",
              "      <td>3.0</td>\n",
              "    </tr>\n",
              "  </tbody>\n",
              "</table>"
            ],
            "text/plain": [
              "<IPython.core.display.HTML object>"
            ]
          },
          "metadata": {
            "tags": []
          }
        }
      ]
    },
    {
      "cell_type": "code",
      "metadata": {
        "id": "Rej9RU5oexav",
        "colab": {
          "base_uri": "https://localhost:8080/"
        },
        "outputId": "f871e380-e54b-434e-fa8a-99d6962410e1"
      },
      "source": [
        "learn = collab_learner(data, n_factors=N_FACTORS, y_range=[0,5.5], wd=1e-1)\n",
        "learn.model"
      ],
      "execution_count": 22,
      "outputs": [
        {
          "output_type": "execute_result",
          "data": {
            "text/plain": [
              "EmbeddingDotBias(\n",
              "  (u_weight): Embedding(2517, 40)\n",
              "  (i_weight): Embedding(31, 40)\n",
              "  (u_bias): Embedding(2517, 1)\n",
              "  (i_bias): Embedding(31, 1)\n",
              ")"
            ]
          },
          "metadata": {
            "tags": []
          },
          "execution_count": 22
        }
      ]
    },
    {
      "cell_type": "code",
      "metadata": {
        "id": "3pMNXb4oe026",
        "colab": {
          "base_uri": "https://localhost:8080/",
          "height": 212
        },
        "outputId": "1e4e7ee1-852b-4387-ff44-7835f865b727"
      },
      "source": [
        "start_time = time.time()\n",
        "\n",
        "learn.fit_one_cycle(EPOCHS, max_lr=5e-3)\n",
        "\n",
        "train_time = time.time() - start_time + preprocess_time\n",
        "print(\"Took {} seconds for training.\".format(train_time))"
      ],
      "execution_count": 23,
      "outputs": [
        {
          "output_type": "display_data",
          "data": {
            "text/html": [
              "<table border=\"1\" class=\"dataframe\">\n",
              "  <thead>\n",
              "    <tr style=\"text-align: left;\">\n",
              "      <th>epoch</th>\n",
              "      <th>train_loss</th>\n",
              "      <th>valid_loss</th>\n",
              "      <th>time</th>\n",
              "    </tr>\n",
              "  </thead>\n",
              "  <tbody>\n",
              "    <tr>\n",
              "      <td>0</td>\n",
              "      <td>3.810665</td>\n",
              "      <td>#na#</td>\n",
              "      <td>00:00</td>\n",
              "    </tr>\n",
              "    <tr>\n",
              "      <td>1</td>\n",
              "      <td>2.522579</td>\n",
              "      <td>#na#</td>\n",
              "      <td>00:00</td>\n",
              "    </tr>\n",
              "    <tr>\n",
              "      <td>2</td>\n",
              "      <td>0.997030</td>\n",
              "      <td>#na#</td>\n",
              "      <td>00:00</td>\n",
              "    </tr>\n",
              "    <tr>\n",
              "      <td>3</td>\n",
              "      <td>0.337361</td>\n",
              "      <td>#na#</td>\n",
              "      <td>00:00</td>\n",
              "    </tr>\n",
              "    <tr>\n",
              "      <td>4</td>\n",
              "      <td>0.125380</td>\n",
              "      <td>#na#</td>\n",
              "      <td>00:00</td>\n",
              "    </tr>\n",
              "  </tbody>\n",
              "</table>"
            ],
            "text/plain": [
              "<IPython.core.display.HTML object>"
            ]
          },
          "metadata": {
            "tags": []
          }
        },
        {
          "output_type": "stream",
          "text": [
            "Took 2.890979766845703 seconds for training.\n"
          ],
          "name": "stdout"
        }
      ]
    },
    {
      "cell_type": "code",
      "metadata": {
        "id": "d7fkybR3e2r6"
      },
      "source": [
        "learn.export('snacks_model.pkl')"
      ],
      "execution_count": 24,
      "outputs": []
    },
    {
      "cell_type": "code",
      "metadata": {
        "id": "M7XWMi7VfBdM"
      },
      "source": [
        "learner = load_learner(path=\".\", file = 'snacks_model.pkl')"
      ],
      "execution_count": 25,
      "outputs": []
    },
    {
      "cell_type": "code",
      "metadata": {
        "id": "Zum95OD-fEGT"
      },
      "source": [
        "total_users, total_items = learner.data.train_ds.x.classes.values()\n",
        "total_items = total_items[1:]\n",
        "total_users = total_users[1:]"
      ],
      "execution_count": 26,
      "outputs": []
    },
    {
      "cell_type": "code",
      "metadata": {
        "id": "CU4lmNS2G_EJ",
        "colab": {
          "base_uri": "https://localhost:8080/"
        },
        "outputId": "cf692c0c-fbe9-46a0-abeb-4ac75da9c231"
      },
      "source": [
        "print(total_users,total_items)\n",
        "print(len(total_items))\n",
        "print(len(total_users))"
      ],
      "execution_count": 27,
      "outputs": [
        {
          "output_type": "stream",
          "text": [
            "['A100SV0E9A3EM4' 'A100WO06OQR8BQ' 'A101P2KHWCU0G6' 'A101YL8D6BZET8' ... 'AZU4M5K1N2LAB' 'AZWRC1QS9JW0X'\n",
            " 'AZX3LW4HHPNCV' 'AZZTH6DJ0KSIP'] ['7310172001' '7310172101' 'B00004CI84' 'B00004CXX9' 'B00004RAMY' 'B00004RBDU' 'B00004RYGX' 'B000084DWM' 'B000084E6V'\n",
            " 'B000084ETV' 'B000084EZ4' 'B00008CQVA' 'B00008JOL0' 'B0000DGG1U' 'B0000V8IOE' 'B00012182G' 'B00014DXCC' 'B00014IVPQ'\n",
            " 'B00014JYNO' 'B0001ES9F8' 'B0001ES9FI' 'B00020HHAO' 'B00020HHE0' 'B00020HHGS' 'B00020HHHC' 'B00020HHK4' 'B00020HHM2'\n",
            " 'B00020HHRW' 'B000255OIG' 'B00027CL5S']\n",
            "30\n",
            "2516\n"
          ],
          "name": "stdout"
        }
      ]
    },
    {
      "cell_type": "code",
      "metadata": {
        "id": "iHF_NIY8hflx",
        "colab": {
          "base_uri": "https://localhost:8080/"
        },
        "outputId": "9251012e-4af4-406b-bd7a-c8668c272a0c"
      },
      "source": [
        "test_users = test_df[USER].unique()\n",
        "test_users = np.intersect1d(test_users, total_users)\n",
        "print(len(test_users))"
      ],
      "execution_count": 28,
      "outputs": [
        {
          "output_type": "stream",
          "text": [
            "531\n"
          ],
          "name": "stdout"
        }
      ]
    },
    {
      "cell_type": "code",
      "metadata": {
        "id": "lzM_BEh6hhYq"
      },
      "source": [
        "users_items = cartesian_product(np.array(test_users),np.array(total_items))\n",
        "users_items = pd.DataFrame(users_items, columns=[USER,ITEM])"
      ],
      "execution_count": 29,
      "outputs": []
    },
    {
      "cell_type": "code",
      "metadata": {
        "id": "SnElo5E9O7Zb",
        "colab": {
          "base_uri": "https://localhost:8080/"
        },
        "outputId": "b4d634ee-d7d3-4489-9b57-bd455610328a"
      },
      "source": [
        "users_items.shape"
      ],
      "execution_count": 30,
      "outputs": [
        {
          "output_type": "execute_result",
          "data": {
            "text/plain": [
              "(15930, 2)"
            ]
          },
          "metadata": {
            "tags": []
          },
          "execution_count": 30
        }
      ]
    },
    {
      "cell_type": "code",
      "metadata": {
        "id": "YEwApbv5hkTc"
      },
      "source": [
        "training_removed = pd.merge(users_items, train_valid_df.astype(str), on=[USER, ITEM], how='left')\n",
        "training_removed = training_removed[training_removed[RATING].isna()][[USER, ITEM]]"
      ],
      "execution_count": 31,
      "outputs": []
    },
    {
      "cell_type": "code",
      "metadata": {
        "id": "3qfKT3UyOzw1",
        "colab": {
          "base_uri": "https://localhost:8080/",
          "height": 402
        },
        "outputId": "7b32e81c-d6f6-4acd-de75-282123b74415"
      },
      "source": [
        "training_removed"
      ],
      "execution_count": 32,
      "outputs": [
        {
          "output_type": "execute_result",
          "data": {
            "text/html": [
              "<div>\n",
              "<style scoped>\n",
              "    .dataframe tbody tr th:only-of-type {\n",
              "        vertical-align: middle;\n",
              "    }\n",
              "\n",
              "    .dataframe tbody tr th {\n",
              "        vertical-align: top;\n",
              "    }\n",
              "\n",
              "    .dataframe thead th {\n",
              "        text-align: right;\n",
              "    }\n",
              "</style>\n",
              "<table border=\"1\" class=\"dataframe\">\n",
              "  <thead>\n",
              "    <tr style=\"text-align: right;\">\n",
              "      <th></th>\n",
              "      <th>UserId</th>\n",
              "      <th>SnackId</th>\n",
              "    </tr>\n",
              "  </thead>\n",
              "  <tbody>\n",
              "    <tr>\n",
              "      <th>0</th>\n",
              "      <td>A1033RWNZWEMR5</td>\n",
              "      <td>7310172001</td>\n",
              "    </tr>\n",
              "    <tr>\n",
              "      <th>1</th>\n",
              "      <td>A1033RWNZWEMR5</td>\n",
              "      <td>7310172101</td>\n",
              "    </tr>\n",
              "    <tr>\n",
              "      <th>3</th>\n",
              "      <td>A1033RWNZWEMR5</td>\n",
              "      <td>B00004CXX9</td>\n",
              "    </tr>\n",
              "    <tr>\n",
              "      <th>4</th>\n",
              "      <td>A1033RWNZWEMR5</td>\n",
              "      <td>B00004RAMY</td>\n",
              "    </tr>\n",
              "    <tr>\n",
              "      <th>5</th>\n",
              "      <td>A1033RWNZWEMR5</td>\n",
              "      <td>B00004RBDU</td>\n",
              "    </tr>\n",
              "    <tr>\n",
              "      <th>...</th>\n",
              "      <td>...</td>\n",
              "      <td>...</td>\n",
              "    </tr>\n",
              "    <tr>\n",
              "      <th>15977</th>\n",
              "      <td>AZU4M5K1N2LAB</td>\n",
              "      <td>B0001ES9FI</td>\n",
              "    </tr>\n",
              "    <tr>\n",
              "      <th>15980</th>\n",
              "      <td>AZU4M5K1N2LAB</td>\n",
              "      <td>B00020HHGS</td>\n",
              "    </tr>\n",
              "    <tr>\n",
              "      <th>15981</th>\n",
              "      <td>AZU4M5K1N2LAB</td>\n",
              "      <td>B00020HHHC</td>\n",
              "    </tr>\n",
              "    <tr>\n",
              "      <th>15985</th>\n",
              "      <td>AZU4M5K1N2LAB</td>\n",
              "      <td>B000255OIG</td>\n",
              "    </tr>\n",
              "    <tr>\n",
              "      <th>15986</th>\n",
              "      <td>AZU4M5K1N2LAB</td>\n",
              "      <td>B00027CL5S</td>\n",
              "    </tr>\n",
              "  </tbody>\n",
              "</table>\n",
              "<p>14181 rows × 2 columns</p>\n",
              "</div>"
            ],
            "text/plain": [
              "               UserId     SnackId\n",
              "0      A1033RWNZWEMR5  7310172001\n",
              "1      A1033RWNZWEMR5  7310172101\n",
              "3      A1033RWNZWEMR5  B00004CXX9\n",
              "4      A1033RWNZWEMR5  B00004RAMY\n",
              "5      A1033RWNZWEMR5  B00004RBDU\n",
              "...               ...         ...\n",
              "15977   AZU4M5K1N2LAB  B0001ES9FI\n",
              "15980   AZU4M5K1N2LAB  B00020HHGS\n",
              "15981   AZU4M5K1N2LAB  B00020HHHC\n",
              "15985   AZU4M5K1N2LAB  B000255OIG\n",
              "15986   AZU4M5K1N2LAB  B00027CL5S\n",
              "\n",
              "[14181 rows x 2 columns]"
            ]
          },
          "metadata": {
            "tags": []
          },
          "execution_count": 32
        }
      ]
    },
    {
      "cell_type": "code",
      "metadata": {
        "id": "Wo0D8SZ0hmdz",
        "colab": {
          "base_uri": "https://localhost:8080/"
        },
        "outputId": "23076644-2a9a-4857-9ab2-6e03e8f87df8"
      },
      "source": [
        "start_time = time.time()\n",
        "\n",
        "top_k_scores = score(learner, \n",
        "                     test_df=training_removed,\n",
        "                     user_col=USER, \n",
        "                     item_col=ITEM, \n",
        "                     prediction_col=PREDICTION)\n",
        "\n",
        "test_time = time.time() - start_time\n",
        "print(\"Took {} seconds for {} predictions.\".format(test_time, len(training_removed)))"
      ],
      "execution_count": 33,
      "outputs": [
        {
          "output_type": "stream",
          "text": [
            "Took 0.03360581398010254 seconds for 14181 predictions.\n"
          ],
          "name": "stdout"
        }
      ]
    },
    {
      "cell_type": "code",
      "metadata": {
        "id": "mCs6oNVZyLEE",
        "colab": {
          "base_uri": "https://localhost:8080/",
          "height": 343
        },
        "outputId": "0d4ce869-eab6-4613-caaa-b6bac630507e"
      },
      "source": [
        "top_k_scores.head(10)"
      ],
      "execution_count": 34,
      "outputs": [
        {
          "output_type": "execute_result",
          "data": {
            "text/html": [
              "<div>\n",
              "<style scoped>\n",
              "    .dataframe tbody tr th:only-of-type {\n",
              "        vertical-align: middle;\n",
              "    }\n",
              "\n",
              "    .dataframe tbody tr th {\n",
              "        vertical-align: top;\n",
              "    }\n",
              "\n",
              "    .dataframe thead th {\n",
              "        text-align: right;\n",
              "    }\n",
              "</style>\n",
              "<table border=\"1\" class=\"dataframe\">\n",
              "  <thead>\n",
              "    <tr style=\"text-align: right;\">\n",
              "      <th></th>\n",
              "      <th>UserId</th>\n",
              "      <th>SnackId</th>\n",
              "      <th>Prediction</th>\n",
              "    </tr>\n",
              "  </thead>\n",
              "  <tbody>\n",
              "    <tr>\n",
              "      <th>17</th>\n",
              "      <td>A1033RWNZWEMR5</td>\n",
              "      <td>B00014IVPQ</td>\n",
              "      <td>3.948084</td>\n",
              "    </tr>\n",
              "    <tr>\n",
              "      <th>4</th>\n",
              "      <td>A1033RWNZWEMR5</td>\n",
              "      <td>B00004RAMY</td>\n",
              "      <td>3.791441</td>\n",
              "    </tr>\n",
              "    <tr>\n",
              "      <th>8</th>\n",
              "      <td>A1033RWNZWEMR5</td>\n",
              "      <td>B000084E6V</td>\n",
              "      <td>3.608277</td>\n",
              "    </tr>\n",
              "    <tr>\n",
              "      <th>11</th>\n",
              "      <td>A1033RWNZWEMR5</td>\n",
              "      <td>B00008CQVA</td>\n",
              "      <td>3.555043</td>\n",
              "    </tr>\n",
              "    <tr>\n",
              "      <th>10</th>\n",
              "      <td>A1033RWNZWEMR5</td>\n",
              "      <td>B000084EZ4</td>\n",
              "      <td>3.502705</td>\n",
              "    </tr>\n",
              "    <tr>\n",
              "      <th>19</th>\n",
              "      <td>A1033RWNZWEMR5</td>\n",
              "      <td>B0001ES9F8</td>\n",
              "      <td>3.483903</td>\n",
              "    </tr>\n",
              "    <tr>\n",
              "      <th>15</th>\n",
              "      <td>A1033RWNZWEMR5</td>\n",
              "      <td>B00012182G</td>\n",
              "      <td>3.468963</td>\n",
              "    </tr>\n",
              "    <tr>\n",
              "      <th>13</th>\n",
              "      <td>A1033RWNZWEMR5</td>\n",
              "      <td>B0000DGG1U</td>\n",
              "      <td>3.354697</td>\n",
              "    </tr>\n",
              "    <tr>\n",
              "      <th>3</th>\n",
              "      <td>A1033RWNZWEMR5</td>\n",
              "      <td>B00004CXX9</td>\n",
              "      <td>3.320167</td>\n",
              "    </tr>\n",
              "    <tr>\n",
              "      <th>14</th>\n",
              "      <td>A1033RWNZWEMR5</td>\n",
              "      <td>B0000V8IOE</td>\n",
              "      <td>3.263464</td>\n",
              "    </tr>\n",
              "  </tbody>\n",
              "</table>\n",
              "</div>"
            ],
            "text/plain": [
              "            UserId     SnackId  Prediction\n",
              "17  A1033RWNZWEMR5  B00014IVPQ    3.948084\n",
              "4   A1033RWNZWEMR5  B00004RAMY    3.791441\n",
              "8   A1033RWNZWEMR5  B000084E6V    3.608277\n",
              "11  A1033RWNZWEMR5  B00008CQVA    3.555043\n",
              "10  A1033RWNZWEMR5  B000084EZ4    3.502705\n",
              "19  A1033RWNZWEMR5  B0001ES9F8    3.483903\n",
              "15  A1033RWNZWEMR5  B00012182G    3.468963\n",
              "13  A1033RWNZWEMR5  B0000DGG1U    3.354697\n",
              "3   A1033RWNZWEMR5  B00004CXX9    3.320167\n",
              "14  A1033RWNZWEMR5  B0000V8IOE    3.263464"
            ]
          },
          "metadata": {
            "tags": []
          },
          "execution_count": 34
        }
      ]
    },
    {
      "cell_type": "code",
      "metadata": {
        "id": "ASwMBsGdlh1I"
      },
      "source": [
        "from google.colab import files\n",
        "top_k_scores.to_csv('top_k_scores.csv')"
      ],
      "execution_count": 35,
      "outputs": []
    },
    {
      "cell_type": "code",
      "metadata": {
        "id": "dSUR2gzohoxP"
      },
      "source": [
        "eval_map = map_at_k(test_df, top_k_scores, col_user=USER, col_item=ITEM, \n",
        "                    col_rating=RATING, col_prediction=PREDICTION, \n",
        "                    relevancy_method=\"top_k\", k=TOP_K)"
      ],
      "execution_count": 36,
      "outputs": []
    },
    {
      "cell_type": "code",
      "metadata": {
        "id": "pT-uN8u0hsk2"
      },
      "source": [
        "eval_ndcg = ndcg_at_k(test_df, top_k_scores, col_user=USER, col_item=ITEM, \n",
        "                      col_rating=RATING, col_prediction=PREDICTION, \n",
        "                      relevancy_method=\"top_k\", k=TOP_K)"
      ],
      "execution_count": 37,
      "outputs": []
    },
    {
      "cell_type": "code",
      "metadata": {
        "id": "D7k4wRUehulX"
      },
      "source": [
        "eval_precision = precision_at_k(test_df, top_k_scores, col_user=USER, col_item=ITEM, \n",
        "                                col_rating=RATING, col_prediction=PREDICTION, \n",
        "                                relevancy_method=\"top_k\", k=TOP_K)"
      ],
      "execution_count": 38,
      "outputs": []
    },
    {
      "cell_type": "code",
      "metadata": {
        "id": "pSFdA2qThxIH"
      },
      "source": [
        "\n",
        "eval_recall = recall_at_k(test_df, top_k_scores, col_user=USER, col_item=ITEM, \n",
        "                          col_rating=RATING, col_prediction=PREDICTION, \n",
        "                          relevancy_method=\"top_k\", k=TOP_K)"
      ],
      "execution_count": 39,
      "outputs": []
    },
    {
      "cell_type": "code",
      "metadata": {
        "id": "MuUEtbuWhzeJ",
        "colab": {
          "base_uri": "https://localhost:8080/"
        },
        "outputId": "e6194bfe-49ed-4bb2-f356-7dbe308a6336"
      },
      "source": [
        "print(\"Model:\\t\" + learn.__class__.__name__,\n",
        "      \"Top K:\\t%d\" % TOP_K,\n",
        "      \"MAP:\\t%f\" % eval_map,\n",
        "      \"NDCG:\\t%f\" % eval_ndcg,\n",
        "      \"Precision@K:\\t%f\" % eval_precision,\n",
        "      \"Recall@K:\\t%f\" % eval_recall, sep='\\n')"
      ],
      "execution_count": 40,
      "outputs": [
        {
          "output_type": "stream",
          "text": [
            "Model:\tCollabLearner\n",
            "Top K:\t10\n",
            "MAP:\t0.234045\n",
            "NDCG:\t0.367592\n",
            "Precision@K:\t0.103766\n",
            "Recall@K:\t0.782486\n"
          ],
          "name": "stdout"
        }
      ]
    },
    {
      "cell_type": "code",
      "metadata": {
        "colab": {
          "base_uri": "https://localhost:8080/"
        },
        "id": "3QHcB2cNOz1U",
        "outputId": "2062b242-e462-4118-ce68-4e5727b0460d"
      },
      "source": [
        "type(eval_map)"
      ],
      "execution_count": 42,
      "outputs": [
        {
          "output_type": "execute_result",
          "data": {
            "text/plain": [
              "numpy.float64"
            ]
          },
          "metadata": {
            "tags": []
          },
          "execution_count": 42
        }
      ]
    },
    {
      "cell_type": "code",
      "metadata": {
        "id": "BX8Se9c6h19a",
        "colab": {
          "base_uri": "https://localhost:8080/"
        },
        "outputId": "70677d9b-042b-486b-e3ee-bc2ae4864917"
      },
      "source": [
        "start_time = time.time()\n",
        "scores = score(learner, \n",
        "               test_df=test_df.copy(), \n",
        "               user_col=USER, \n",
        "               item_col=ITEM, \n",
        "               prediction_col=PREDICTION)\n",
        "test_time = time.time() - start_time\n",
        "print(\"Took {} seconds for {} predictions.\".format(test_time, len(test_df.copy())))"
      ],
      "execution_count": 43,
      "outputs": [
        {
          "output_type": "stream",
          "text": [
            "Took 0.013020515441894531 seconds for 716 predictions.\n"
          ],
          "name": "stdout"
        }
      ]
    },
    {
      "cell_type": "code",
      "metadata": {
        "id": "Fnx2-89JenYA"
      },
      "source": [
        "scores.to_csv('scores.csv')"
      ],
      "execution_count": 44,
      "outputs": []
    },
    {
      "cell_type": "code",
      "metadata": {
        "id": "LkF8H-rcM8m9",
        "colab": {
          "base_uri": "https://localhost:8080/",
          "height": 402
        },
        "outputId": "6bcb355f-96cf-454b-dbcf-4be03c0ab7d6"
      },
      "source": [
        "scores"
      ],
      "execution_count": 45,
      "outputs": [
        {
          "output_type": "execute_result",
          "data": {
            "text/html": [
              "<div>\n",
              "<style scoped>\n",
              "    .dataframe tbody tr th:only-of-type {\n",
              "        vertical-align: middle;\n",
              "    }\n",
              "\n",
              "    .dataframe tbody tr th {\n",
              "        vertical-align: top;\n",
              "    }\n",
              "\n",
              "    .dataframe thead th {\n",
              "        text-align: right;\n",
              "    }\n",
              "</style>\n",
              "<table border=\"1\" class=\"dataframe\">\n",
              "  <thead>\n",
              "    <tr style=\"text-align: right;\">\n",
              "      <th></th>\n",
              "      <th>UserId</th>\n",
              "      <th>SnackId</th>\n",
              "      <th>Prediction</th>\n",
              "    </tr>\n",
              "  </thead>\n",
              "  <tbody>\n",
              "    <tr>\n",
              "      <th>451799</th>\n",
              "      <td>A1033RWNZWEMR5</td>\n",
              "      <td>B00004CXX9</td>\n",
              "      <td>3.320167</td>\n",
              "    </tr>\n",
              "    <tr>\n",
              "      <th>451948</th>\n",
              "      <td>A1048CYU0OV4O8</td>\n",
              "      <td>B00004CXX9</td>\n",
              "      <td>3.364652</td>\n",
              "    </tr>\n",
              "    <tr>\n",
              "      <th>381401</th>\n",
              "      <td>A10G136JEISLVR</td>\n",
              "      <td>B00020HHK4</td>\n",
              "      <td>4.095248</td>\n",
              "    </tr>\n",
              "    <tr>\n",
              "      <th>212780</th>\n",
              "      <td>A10G136JEISLVR</td>\n",
              "      <td>B00020HHAO</td>\n",
              "      <td>4.067328</td>\n",
              "    </tr>\n",
              "    <tr>\n",
              "      <th>484455</th>\n",
              "      <td>A10G136JEISLVR</td>\n",
              "      <td>B00020HHGS</td>\n",
              "      <td>3.507183</td>\n",
              "    </tr>\n",
              "    <tr>\n",
              "      <th>...</th>\n",
              "      <td>...</td>\n",
              "      <td>...</td>\n",
              "      <td>...</td>\n",
              "    </tr>\n",
              "    <tr>\n",
              "      <th>217499</th>\n",
              "      <td>AZ7GJ72KEZTB9</td>\n",
              "      <td>7310172101</td>\n",
              "      <td>3.926309</td>\n",
              "    </tr>\n",
              "    <tr>\n",
              "      <th>451977</th>\n",
              "      <td>AZADBDIG2188H</td>\n",
              "      <td>B00004CXX9</td>\n",
              "      <td>3.428005</td>\n",
              "    </tr>\n",
              "    <tr>\n",
              "      <th>451859</th>\n",
              "      <td>AZRJH4JFB59VC</td>\n",
              "      <td>B00004CXX9</td>\n",
              "      <td>2.342683</td>\n",
              "    </tr>\n",
              "    <tr>\n",
              "      <th>484373</th>\n",
              "      <td>AZU4M5K1N2LAB</td>\n",
              "      <td>B00020HHGS</td>\n",
              "      <td>3.919205</td>\n",
              "    </tr>\n",
              "    <tr>\n",
              "      <th>360788</th>\n",
              "      <td>AZU4M5K1N2LAB</td>\n",
              "      <td>B00020HHHC</td>\n",
              "      <td>3.789928</td>\n",
              "    </tr>\n",
              "  </tbody>\n",
              "</table>\n",
              "<p>716 rows × 3 columns</p>\n",
              "</div>"
            ],
            "text/plain": [
              "                UserId     SnackId  Prediction\n",
              "451799  A1033RWNZWEMR5  B00004CXX9    3.320167\n",
              "451948  A1048CYU0OV4O8  B00004CXX9    3.364652\n",
              "381401  A10G136JEISLVR  B00020HHK4    4.095248\n",
              "212780  A10G136JEISLVR  B00020HHAO    4.067328\n",
              "484455  A10G136JEISLVR  B00020HHGS    3.507183\n",
              "...                ...         ...         ...\n",
              "217499   AZ7GJ72KEZTB9  7310172101    3.926309\n",
              "451977   AZADBDIG2188H  B00004CXX9    3.428005\n",
              "451859   AZRJH4JFB59VC  B00004CXX9    2.342683\n",
              "484373   AZU4M5K1N2LAB  B00020HHGS    3.919205\n",
              "360788   AZU4M5K1N2LAB  B00020HHHC    3.789928\n",
              "\n",
              "[716 rows x 3 columns]"
            ]
          },
          "metadata": {
            "tags": []
          },
          "execution_count": 45
        }
      ]
    },
    {
      "cell_type": "code",
      "metadata": {
        "id": "y4Hh3KnSh78D",
        "colab": {
          "base_uri": "https://localhost:8080/"
        },
        "outputId": "ae42058d-3ad7-4de3-aef5-9cdab0b03382"
      },
      "source": [
        "eval_r2 = rsquared(test_df, scores, col_user=USER, col_item=ITEM, col_rating=RATING, col_prediction=PREDICTION)\n",
        "eval_rmse = rmse(test_df, scores, col_user=USER, col_item=ITEM, col_rating=RATING, col_prediction=PREDICTION)\n",
        "eval_mae = mae(test_df, scores, col_user=USER, col_item=ITEM, col_rating=RATING, col_prediction=PREDICTION)\n",
        "eval_exp_var = exp_var(test_df, scores, col_user=USER, col_item=ITEM, col_rating=RATING, col_prediction=PREDICTION)\n",
        "\n",
        "print(\"Model:\\t\" + learn.__class__.__name__,\n",
        "      \"RMSE:\\t%f\" % eval_rmse,\n",
        "      \"MAE:\\t%f\" % eval_mae,\n",
        "      \"Explained variance:\\t%f\" % eval_exp_var,\n",
        "      \"R squared:\\t%f\" % eval_r2, sep='\\n')"
      ],
      "execution_count": 46,
      "outputs": [
        {
          "output_type": "stream",
          "text": [
            "Model:\tCollabLearner\n",
            "RMSE:\t1.124229\n",
            "MAE:\t1.043473\n",
            "Explained variance:\t0.600886\n",
            "R squared:\t0.046055\n"
          ],
          "name": "stdout"
        }
      ]
    },
    {
      "cell_type": "code",
      "metadata": {
        "id": "UOR9mka6jkDd",
        "colab": {
          "base_uri": "https://localhost:8080/"
        },
        "outputId": "d35bdfcd-4f34-4155-ace1-544a921e90b4"
      },
      "source": [
        "pip install nteract-scrapbook"
      ],
      "execution_count": 47,
      "outputs": [
        {
          "output_type": "stream",
          "text": [
            "Collecting nteract-scrapbook\n",
            "\u001b[?25l  Downloading https://files.pythonhosted.org/packages/2d/06/c026c536ee7f671540836ba44e686edfbb1d50981db774fd16d336515664/nteract_scrapbook-0.4.1-py3-none-any.whl (265kB)\n",
            "\r\u001b[K     |█▎                              | 10kB 24.1MB/s eta 0:00:01\r\u001b[K     |██▌                             | 20kB 13.1MB/s eta 0:00:01\r\u001b[K     |███▊                            | 30kB 11.0MB/s eta 0:00:01\r\u001b[K     |█████                           | 40kB 10.3MB/s eta 0:00:01\r\u001b[K     |██████▏                         | 51kB 8.3MB/s eta 0:00:01\r\u001b[K     |███████▍                        | 61kB 8.9MB/s eta 0:00:01\r\u001b[K     |████████▋                       | 71kB 8.7MB/s eta 0:00:01\r\u001b[K     |█████████▉                      | 81kB 9.1MB/s eta 0:00:01\r\u001b[K     |███████████                     | 92kB 8.9MB/s eta 0:00:01\r\u001b[K     |████████████▍                   | 102kB 8.1MB/s eta 0:00:01\r\u001b[K     |█████████████▋                  | 112kB 8.1MB/s eta 0:00:01\r\u001b[K     |██████████████▉                 | 122kB 8.1MB/s eta 0:00:01\r\u001b[K     |████████████████                | 133kB 8.1MB/s eta 0:00:01\r\u001b[K     |█████████████████▎              | 143kB 8.1MB/s eta 0:00:01\r\u001b[K     |██████████████████▌             | 153kB 8.1MB/s eta 0:00:01\r\u001b[K     |███████████████████▊            | 163kB 8.1MB/s eta 0:00:01\r\u001b[K     |█████████████████████           | 174kB 8.1MB/s eta 0:00:01\r\u001b[K     |██████████████████████▏         | 184kB 8.1MB/s eta 0:00:01\r\u001b[K     |███████████████████████▌        | 194kB 8.1MB/s eta 0:00:01\r\u001b[K     |████████████████████████▊       | 204kB 8.1MB/s eta 0:00:01\r\u001b[K     |██████████████████████████      | 215kB 8.1MB/s eta 0:00:01\r\u001b[K     |███████████████████████████▏    | 225kB 8.1MB/s eta 0:00:01\r\u001b[K     |████████████████████████████▍   | 235kB 8.1MB/s eta 0:00:01\r\u001b[K     |█████████████████████████████▋  | 245kB 8.1MB/s eta 0:00:01\r\u001b[K     |██████████████████████████████▉ | 256kB 8.1MB/s eta 0:00:01\r\u001b[K     |████████████████████████████████| 266kB 8.1MB/s \n",
            "\u001b[?25hRequirement already satisfied: pandas in /usr/local/lib/python3.6/dist-packages (from nteract-scrapbook) (1.1.4)\n",
            "Requirement already satisfied: pyarrow in /usr/local/lib/python3.6/dist-packages (from nteract-scrapbook) (0.14.1)\n",
            "Requirement already satisfied: ipython in /usr/local/lib/python3.6/dist-packages (from nteract-scrapbook) (5.5.0)\n",
            "Requirement already satisfied: papermill in /usr/local/lib/python3.6/dist-packages (from nteract-scrapbook) (2.2.2)\n",
            "Requirement already satisfied: jsonschema in /usr/local/lib/python3.6/dist-packages (from nteract-scrapbook) (2.6.0)\n",
            "Requirement already satisfied: python-dateutil>=2.7.3 in /usr/local/lib/python3.6/dist-packages (from pandas->nteract-scrapbook) (2.8.1)\n",
            "Requirement already satisfied: numpy>=1.15.4 in /usr/local/lib/python3.6/dist-packages (from pandas->nteract-scrapbook) (1.18.5)\n",
            "Requirement already satisfied: pytz>=2017.2 in /usr/local/lib/python3.6/dist-packages (from pandas->nteract-scrapbook) (2018.9)\n",
            "Requirement already satisfied: six>=1.0.0 in /usr/local/lib/python3.6/dist-packages (from pyarrow->nteract-scrapbook) (1.15.0)\n",
            "Requirement already satisfied: pexpect; sys_platform != \"win32\" in /usr/local/lib/python3.6/dist-packages (from ipython->nteract-scrapbook) (4.8.0)\n",
            "Requirement already satisfied: simplegeneric>0.8 in /usr/local/lib/python3.6/dist-packages (from ipython->nteract-scrapbook) (0.8.1)\n",
            "Requirement already satisfied: pickleshare in /usr/local/lib/python3.6/dist-packages (from ipython->nteract-scrapbook) (0.7.5)\n",
            "Requirement already satisfied: traitlets>=4.2 in /usr/local/lib/python3.6/dist-packages (from ipython->nteract-scrapbook) (4.3.3)\n",
            "Requirement already satisfied: pygments in /usr/local/lib/python3.6/dist-packages (from ipython->nteract-scrapbook) (2.6.1)\n",
            "Requirement already satisfied: prompt-toolkit<2.0.0,>=1.0.4 in /usr/local/lib/python3.6/dist-packages (from ipython->nteract-scrapbook) (1.0.18)\n",
            "Requirement already satisfied: setuptools>=18.5 in /usr/local/lib/python3.6/dist-packages (from ipython->nteract-scrapbook) (50.3.2)\n",
            "Requirement already satisfied: decorator in /usr/local/lib/python3.6/dist-packages (from ipython->nteract-scrapbook) (4.4.2)\n",
            "Requirement already satisfied: tenacity in /usr/local/lib/python3.6/dist-packages (from papermill->nteract-scrapbook) (6.2.0)\n",
            "Requirement already satisfied: tqdm>=4.32.2 in /usr/local/lib/python3.6/dist-packages (from papermill->nteract-scrapbook) (4.41.1)\n",
            "Requirement already satisfied: pyyaml in /usr/local/lib/python3.6/dist-packages (from papermill->nteract-scrapbook) (3.13)\n",
            "Requirement already satisfied: black in /usr/local/lib/python3.6/dist-packages (from papermill->nteract-scrapbook) (20.8b1)\n",
            "Requirement already satisfied: entrypoints in /usr/local/lib/python3.6/dist-packages (from papermill->nteract-scrapbook) (0.3)\n",
            "Requirement already satisfied: requests in /usr/local/lib/python3.6/dist-packages (from papermill->nteract-scrapbook) (2.23.0)\n",
            "Requirement already satisfied: click in /usr/local/lib/python3.6/dist-packages (from papermill->nteract-scrapbook) (7.1.2)\n",
            "Requirement already satisfied: nbclient>=0.2.0 in /usr/local/lib/python3.6/dist-packages (from papermill->nteract-scrapbook) (0.5.1)\n",
            "Requirement already satisfied: ansiwrap in /usr/local/lib/python3.6/dist-packages (from papermill->nteract-scrapbook) (0.8.4)\n",
            "Requirement already satisfied: nbformat in /usr/local/lib/python3.6/dist-packages (from papermill->nteract-scrapbook) (5.0.8)\n",
            "Requirement already satisfied: ptyprocess>=0.5 in /usr/local/lib/python3.6/dist-packages (from pexpect; sys_platform != \"win32\"->ipython->nteract-scrapbook) (0.6.0)\n",
            "Requirement already satisfied: ipython-genutils in /usr/local/lib/python3.6/dist-packages (from traitlets>=4.2->ipython->nteract-scrapbook) (0.2.0)\n",
            "Requirement already satisfied: wcwidth in /usr/local/lib/python3.6/dist-packages (from prompt-toolkit<2.0.0,>=1.0.4->ipython->nteract-scrapbook) (0.2.5)\n",
            "Requirement already satisfied: dataclasses>=0.6; python_version < \"3.7\" in /usr/local/lib/python3.6/dist-packages (from black->papermill->nteract-scrapbook) (0.7)\n",
            "Requirement already satisfied: regex>=2020.1.8 in /usr/local/lib/python3.6/dist-packages (from black->papermill->nteract-scrapbook) (2020.11.13)\n",
            "Requirement already satisfied: mypy-extensions>=0.4.3 in /usr/local/lib/python3.6/dist-packages (from black->papermill->nteract-scrapbook) (0.4.3)\n",
            "Requirement already satisfied: typing-extensions>=3.7.4 in /usr/local/lib/python3.6/dist-packages (from black->papermill->nteract-scrapbook) (3.7.4.3)\n",
            "Requirement already satisfied: typed-ast>=1.4.0 in /usr/local/lib/python3.6/dist-packages (from black->papermill->nteract-scrapbook) (1.4.1)\n",
            "Requirement already satisfied: toml>=0.10.1 in /usr/local/lib/python3.6/dist-packages (from black->papermill->nteract-scrapbook) (0.10.2)\n",
            "Requirement already satisfied: pathspec<1,>=0.6 in /usr/local/lib/python3.6/dist-packages (from black->papermill->nteract-scrapbook) (0.8.1)\n",
            "Requirement already satisfied: appdirs in /usr/local/lib/python3.6/dist-packages (from black->papermill->nteract-scrapbook) (1.4.4)\n",
            "Requirement already satisfied: idna<3,>=2.5 in /usr/local/lib/python3.6/dist-packages (from requests->papermill->nteract-scrapbook) (2.10)\n",
            "Requirement already satisfied: urllib3!=1.25.0,!=1.25.1,<1.26,>=1.21.1 in /usr/local/lib/python3.6/dist-packages (from requests->papermill->nteract-scrapbook) (1.24.3)\n",
            "Requirement already satisfied: certifi>=2017.4.17 in /usr/local/lib/python3.6/dist-packages (from requests->papermill->nteract-scrapbook) (2020.6.20)\n",
            "Requirement already satisfied: chardet<4,>=3.0.2 in /usr/local/lib/python3.6/dist-packages (from requests->papermill->nteract-scrapbook) (3.0.4)\n",
            "Requirement already satisfied: async-generator in /usr/local/lib/python3.6/dist-packages (from nbclient>=0.2.0->papermill->nteract-scrapbook) (1.10)\n",
            "Requirement already satisfied: nest-asyncio in /usr/local/lib/python3.6/dist-packages (from nbclient>=0.2.0->papermill->nteract-scrapbook) (1.4.3)\n",
            "Requirement already satisfied: jupyter-client>=6.1.5 in /usr/local/lib/python3.6/dist-packages (from nbclient>=0.2.0->papermill->nteract-scrapbook) (6.1.7)\n",
            "Requirement already satisfied: textwrap3>=0.9.2 in /usr/local/lib/python3.6/dist-packages (from ansiwrap->papermill->nteract-scrapbook) (0.9.2)\n",
            "Requirement already satisfied: jupyter-core in /usr/local/lib/python3.6/dist-packages (from nbformat->papermill->nteract-scrapbook) (4.6.3)\n",
            "Requirement already satisfied: pyzmq>=13 in /usr/local/lib/python3.6/dist-packages (from jupyter-client>=6.1.5->nbclient>=0.2.0->papermill->nteract-scrapbook) (19.0.2)\n",
            "Requirement already satisfied: tornado>=4.1 in /usr/local/lib/python3.6/dist-packages (from jupyter-client>=6.1.5->nbclient>=0.2.0->papermill->nteract-scrapbook) (5.1.1)\n",
            "Installing collected packages: nteract-scrapbook\n",
            "Successfully installed nteract-scrapbook-0.4.1\n"
          ],
          "name": "stdout"
        }
      ]
    },
    {
      "cell_type": "code",
      "metadata": {
        "id": "djPWvjHph_JD",
        "colab": {
          "base_uri": "https://localhost:8080/",
          "height": 17
        },
        "outputId": "9b9427f4-d715-4fdd-cb4e-e9847832cb27"
      },
      "source": [
        "import scrapbook as sc\n",
        "sc.glue(\"map\", eval_map)\n",
        "sc.glue(\"ndcg\", eval_ndcg)\n",
        "sc.glue(\"precision\", eval_precision)\n",
        "sc.glue(\"recall\", eval_recall)\n",
        "sc.glue(\"rmse\", eval_rmse)\n",
        "sc.glue(\"mae\", eval_mae)\n",
        "sc.glue(\"exp_var\", eval_exp_var)\n",
        "sc.glue(\"rsquared\", eval_r2)\n",
        "sc.glue(\"train_time\", train_time)\n",
        "sc.glue(\"test_time\", test_time)"
      ],
      "execution_count": 48,
      "outputs": [
        {
          "output_type": "display_data",
          "data": {
            "application/scrapbook.scrap.json+json": {
              "version": 1,
              "data": 0.23404515290108507,
              "name": "map",
              "encoder": "json"
            }
          },
          "metadata": {
            "tags": [],
            "scrapbook": {
              "data": true,
              "name": "map",
              "display": false
            }
          }
        },
        {
          "output_type": "display_data",
          "data": {
            "application/scrapbook.scrap.json+json": {
              "version": 1,
              "data": 0.3675917817004975,
              "name": "ndcg",
              "encoder": "json"
            }
          },
          "metadata": {
            "tags": [],
            "scrapbook": {
              "data": true,
              "name": "ndcg",
              "display": false
            }
          }
        },
        {
          "output_type": "display_data",
          "data": {
            "application/scrapbook.scrap.json+json": {
              "version": 1,
              "data": 0.10376647834274955,
              "name": "precision",
              "encoder": "json"
            }
          },
          "metadata": {
            "tags": [],
            "scrapbook": {
              "data": true,
              "name": "precision",
              "display": false
            }
          }
        },
        {
          "output_type": "display_data",
          "data": {
            "application/scrapbook.scrap.json+json": {
              "version": 1,
              "data": 0.7824858757062146,
              "name": "recall",
              "encoder": "json"
            }
          },
          "metadata": {
            "tags": [],
            "scrapbook": {
              "data": true,
              "name": "recall",
              "display": false
            }
          }
        },
        {
          "output_type": "display_data",
          "data": {
            "application/scrapbook.scrap.json+json": {
              "version": 1,
              "data": 1.124229251239978,
              "name": "rmse",
              "encoder": "json"
            }
          },
          "metadata": {
            "tags": [],
            "scrapbook": {
              "data": true,
              "name": "rmse",
              "display": false
            }
          }
        },
        {
          "output_type": "display_data",
          "data": {
            "application/scrapbook.scrap.json+json": {
              "version": 1,
              "data": 1.0434732076921438,
              "name": "mae",
              "encoder": "json"
            }
          },
          "metadata": {
            "tags": [],
            "scrapbook": {
              "data": true,
              "name": "mae",
              "display": false
            }
          }
        },
        {
          "output_type": "display_data",
          "data": {
            "application/scrapbook.scrap.json+json": {
              "version": 1,
              "data": 0.600885993132082,
              "name": "exp_var",
              "encoder": "json"
            }
          },
          "metadata": {
            "tags": [],
            "scrapbook": {
              "data": true,
              "name": "exp_var",
              "display": false
            }
          }
        },
        {
          "output_type": "display_data",
          "data": {
            "application/scrapbook.scrap.json+json": {
              "version": 1,
              "data": 0.046054521939267956,
              "name": "rsquared",
              "encoder": "json"
            }
          },
          "metadata": {
            "tags": [],
            "scrapbook": {
              "data": true,
              "name": "rsquared",
              "display": false
            }
          }
        },
        {
          "output_type": "display_data",
          "data": {
            "application/scrapbook.scrap.json+json": {
              "version": 1,
              "data": 2.890979766845703,
              "name": "train_time",
              "encoder": "json"
            }
          },
          "metadata": {
            "tags": [],
            "scrapbook": {
              "data": true,
              "name": "train_time",
              "display": false
            }
          }
        },
        {
          "output_type": "display_data",
          "data": {
            "application/scrapbook.scrap.json+json": {
              "version": 1,
              "data": 0.013020515441894531,
              "name": "test_time",
              "encoder": "json"
            }
          },
          "metadata": {
            "tags": [],
            "scrapbook": {
              "data": true,
              "name": "test_time",
              "display": false
            }
          }
        }
      ]
    },
    {
      "cell_type": "code",
      "metadata": {
        "id": "FuYsCW4UiBSn",
        "colab": {
          "base_uri": "https://localhost:8080/"
        },
        "outputId": "2af5304d-e17d-49eb-a883-5bf1e2bdb86c"
      },
      "source": [
        "print(eval_map,eval_rmse,eval_mae)"
      ],
      "execution_count": 49,
      "outputs": [
        {
          "output_type": "stream",
          "text": [
            "0.23404515290108507 1.124229251239978 1.0434732076921438\n"
          ],
          "name": "stdout"
        }
      ]
    },
    {
      "cell_type": "code",
      "metadata": {
        "id": "LvwI4x4tXtiv",
        "colab": {
          "base_uri": "https://localhost:8080/",
          "height": 322
        },
        "outputId": "923a361e-6c2b-4b4e-9194-c0a3738f3ad7"
      },
      "source": [
        "#import matplotlib\n",
        "#import matplotlib.pyplot as plt\n",
        "\n",
        "y_act=test_df['Score']\n",
        "y_pred=scores['Prediction']\n",
        "\n",
        "acc_test =np.array(y_act)\n",
        "\n",
        "pred_test =np.array(y_pred)\n",
        "\n",
        "df1 = pd.DataFrame({'Actual':acc_test.flatten(), 'Predicted': pred_test.flatten()})\n",
        "df1\n",
        "\n",
        "df2 = df1.head(n=25)\n",
        "\n",
        "df2.plot(kind='bar',figsize=(15,5))\n",
        "\n",
        "#plt.grid(which='major',linestyle='-',linewidth='0.5',color='green')\n",
        "#plt.grid(which='minor',linestyle=':',linewidth='0.5',color='black')\n",
        "\n",
        "plt.show()\n",
        "\n",
        "\n",
        "#st.pyplot"
      ],
      "execution_count": 51,
      "outputs": [
        {
          "output_type": "display_data",
          "data": {
            "image/png": "[encoded data removed]",
            "text/plain": [
              "<Figure size 1080x360 with 1 Axes>"
            ]
          },
          "metadata": {
            "tags": [],
            "needs_background": "light"
          }
        }
      ]
    },
    {
      "cell_type": "code",
      "metadata": {
        "id": "22C9gzFews2E"
      },
      "source": [
        ""
      ],
      "execution_count": null,
      "outputs": []
    }
  ]
}