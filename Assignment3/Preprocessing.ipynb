{
 "cells": [
  {
   "cell_type": "code",
   "execution_count": 47,
   "metadata": {},
   "outputs": [],
   "source": [
    "import numpy as np \n",
    "import pandas as pd \n",
    "import io\n",
    "import os\n",
    "import bson                       # this is installed with the pymongo package\n",
    "import matplotlib.pyplot as plt\n",
    "from imageio import imread   # or, whatever image library you prefer\n",
    "import multiprocessing as mp      # will come in handy due to the size of the data\n",
    "# json for storing data in json file\n",
    "import json"
   ]
  },
  {
   "cell_type": "code",
   "execution_count": 48,
   "metadata": {},
   "outputs": [],
   "source": [
    "import os\n",
    "os.chdir('C:/Users/rishv/OneDrive/Northeastern/SEM3/Algorithmic Digital Marketing/Assignments/Assignment3/Dataset')\n",
    "images_dir = os.path.join('C:/Users/rishv/OneDrive/Northeastern/SEM3/Algorithmic Digital Marketing/Assignments/Assignment3/Dataset', 'image')"
   ]
  },
  {
   "cell_type": "code",
   "execution_count": 49,
   "metadata": {},
   "outputs": [],
   "source": [
    "data = bson.decode_file_iter(open('C:/Users/rishv/OneDrive/Northeastern/SEM3/Algorithmic Digital Marketing/Assignments/Assignment3/Dataset/train.bson', 'rb'))\n",
    "\n",
    "product_count=1\n",
    "\n",
    "#prod_to_category = dict()\n",
    "prod_count = dict()\n",
    "prod_count_3 = dict()\n",
    "\n",
    "for c, d in enumerate(data):\n",
    "    product_id = d['_id']\n",
    "    category_id = d['category_id'] # This won't be in Test data\n",
    "    #print(\"values\",category_id, product_id)\n",
    "    if(category_id in prod_count) :\n",
    "        #print(\"yes\")\n",
    "        product_count = prod_count[category_id]+1\n",
    "        prod_count[category_id] = product_count\n",
    "        #print(\"prod_count\",prod_count)\n",
    "        if(product_count==100):\n",
    "            prod_count_3[category_id] = product_count\n",
    "            #print(\"prod_count_3\",prod_count_3)\n",
    "    else:\n",
    "        #print(category_id, product_count)\n",
    "        product_count=1\n",
    "        prod_count[category_id] = product_count\n",
    "        #print(\"prod_count\",prod_count)\n",
    "    \n",
    "    if(len(prod_count_3)==100):\n",
    "        break\n",
    "        \n",
    "#print(\"product\",prod_count_3)\n",
    "        "
   ]
  },
  {
   "cell_type": "code",
   "execution_count": 53,
   "metadata": {},
   "outputs": [],
   "source": [
    "data = bson.decode_file_iter(open('C:/Users/rishv/OneDrive/Northeastern/SEM3/Algorithmic Digital Marketing/Assignments/Assignment3/Dataset/train.bson', 'rb'))\n",
    "\n",
    "image=[]\n",
    "\n",
    "prod_to_category = dict()\n",
    "cat_prod_count = dict()\n",
    "product_count=1\n",
    "for c, d in enumerate(data):\n",
    "    product_id = d['_id']\n",
    "    category_id = d['category_id'] # This won't be in Test data\n",
    "    if(category_id in prod_count_3):\n",
    "        if(category_id in cat_prod_count):\n",
    "            if(cat_prod_count[category_id]<=100):\n",
    "                product_count = cat_prod_count[category_id]+1\n",
    "                cat_prod_count[category_id]=product_count\n",
    "                prod_to_category[product_id] = category_id\n",
    "                for e, pic in enumerate(d['imgs']):\n",
    "                    picture_count+=1\n",
    "                    picture = imread(io.BytesIO(pic['picture']))\n",
    "                    picture_file = os.path.join(images_dir, str(product_id) + '_' + str(e) + '.jpg')\n",
    "                    plt.imsave(picture_file, picture)\n",
    "                    \n",
    "                    image.append({\n",
    "                    'ImageName':str(product_id) + '_' + str(e),\n",
    "                    'ProductId': product_id,\n",
    "                    'CategoryId': category_id})\n",
    "                    \n",
    "                                \n",
    "            else:\n",
    "                continue\n",
    "        else:\n",
    "            product_count=1\n",
    "            cat_prod_count[category_id]=product_count\n",
    "            #print(cat_prod_count)\n",
    "        \n",
    "    else:\n",
    "        #print(\"no\")\n",
    "        continue\n",
    "    #if(prod_to_category.shape[0]==10000):\n",
    "        #break\n",
    "        \n",
    "with open('image.json', 'w') as out:\n",
    "        json.dump(image, out)\n",
    "\n",
    "prod_to_category = pd.DataFrame.from_dict(prod_to_category, orient='index')\n",
    "prod_to_category.index.name = '_id'\n",
    "prod_to_category.rename(columns={0: 'category_id'}, inplace=True)"
   ]
  },
  {
   "cell_type": "code",
   "execution_count": 54,
   "metadata": {},
   "outputs": [
    {
     "data": {
      "text/plain": [
       "(10000, 1)"
      ]
     },
     "execution_count": 54,
     "metadata": {},
     "output_type": "execute_result"
    }
   ],
   "source": [
    "prod_to_category.shape"
   ]
  },
  {
   "cell_type": "code",
   "execution_count": 52,
   "metadata": {},
   "outputs": [],
   "source": [
    "prod_to_category.to_csv('prod_to_category.csv') "
   ]
  },
  {
   "cell_type": "code",
   "execution_count": null,
   "metadata": {},
   "outputs": [],
   "source": []
  }
 ],
 "metadata": {
  "kernelspec": {
   "display_name": "Python 3",
   "language": "python",
   "name": "python3"
  },
  "language_info": {
   "codemirror_mode": {
    "name": "ipython",
    "version": 3
   },
   "file_extension": ".py",
   "mimetype": "text/x-python",
   "name": "python",
   "nbconvert_exporter": "python",
   "pygments_lexer": "ipython3",
   "version": "3.7.6"
  }
 },
 "nbformat": 4,
 "nbformat_minor": 4
}
